{
  "nbformat": 4,
  "nbformat_minor": 0,
  "metadata": {
    "colab": {
      "provenance": [],
      "toc_visible": true
    },
    "kernelspec": {
      "name": "python3",
      "display_name": "Python 3"
    },
    "language_info": {
      "name": "python"
    }
  },
  "cells": [
    {
      "cell_type": "code",
      "execution_count": 1,
      "metadata": {
        "id": "RxeakKGIj5H7"
      },
      "outputs": [],
      "source": [
        "import os \n",
        "import numpy as np\n",
        "from tensorflow import keras"
      ]
    },
    {
      "cell_type": "markdown",
      "source": [
        "# 1. Load Dataset"
      ],
      "metadata": {
        "id": "ksoD-KkQRKLg"
      }
    },
    {
      "cell_type": "code",
      "source": [
        "from keras.datasets import mnist\n",
        "(x_train, y_train), (x_test, y_test) = mnist.load_data()\n",
        "datasets = ['x_train', 'y_train', 'x_test', 'y_test']\n",
        "shape = lambda array: array.shape\n",
        "dict(zip(datasets, list(map(shape, map(eval, datasets)))))"
      ],
      "metadata": {
        "colab": {
          "base_uri": "https://localhost:8080/"
        },
        "id": "2R3YFgrWkD6h",
        "outputId": "aca0c840-20ae-4195-c4a7-539e834e9c23"
      },
      "execution_count": null,
      "outputs": [
        {
          "output_type": "execute_result",
          "data": {
            "text/plain": [
              "{'x_train': (60000, 28, 28),\n",
              " 'y_train': (60000,),\n",
              " 'x_test': (10000, 28, 28),\n",
              " 'y_test': (10000,)}"
            ]
          },
          "metadata": {},
          "execution_count": 9
        }
      ]
    },
    {
      "cell_type": "markdown",
      "source": [
        "# 2. Process Dataset "
      ],
      "metadata": {
        "id": "caSIzhvXRRMH"
      }
    },
    {
      "cell_type": "code",
      "source": [
        "X_train = np.expand_dims(x_train, 1)\n",
        "X_test = np.expand_dims(x_test, 1)"
      ],
      "metadata": {
        "id": "Lksn_n_1kKTk"
      },
      "execution_count": null,
      "outputs": []
    },
    {
      "cell_type": "code",
      "source": [
        "y_train = keras.utils.to_categorical(y_train)\n",
        "y_test = keras.utils.to_categorical(y_test)"
      ],
      "metadata": {
        "id": "s4D1Rj0okOom"
      },
      "execution_count": null,
      "outputs": []
    },
    {
      "cell_type": "code",
      "source": [
        "# check the sizes of the loaded datasets\n",
        "datasets = ['x_train', 'X_train', 'y_train', 'x_test', 'X_test', 'y_test']\n",
        "shape = lambda array: array.shape\n",
        "dict(zip(datasets, list(map(shape, map(eval, datasets)))))"
      ],
      "metadata": {
        "colab": {
          "base_uri": "https://localhost:8080/"
        },
        "id": "D4GxBlL6kU9z",
        "outputId": "9797f97c-b061-41cb-eccf-30b140c5d9b0"
      },
      "execution_count": null,
      "outputs": [
        {
          "output_type": "execute_result",
          "data": {
            "text/plain": [
              "{'x_train': (60000, 28, 28),\n",
              " 'X_train': (60000, 1, 28, 28),\n",
              " 'y_train': (60000, 10),\n",
              " 'x_test': (10000, 28, 28),\n",
              " 'X_test': (10000, 1, 28, 28),\n",
              " 'y_test': (10000, 10)}"
            ]
          },
          "metadata": {},
          "execution_count": 12
        }
      ]
    },
    {
      "cell_type": "markdown",
      "source": [
        "# 3. Train Model "
      ],
      "metadata": {
        "id": "0aBYvR64RXOK"
      }
    },
    {
      "cell_type": "code",
      "source": [
        "from tensorflow.keras.layers import Conv2D, BatchNormalization, AveragePooling2D, Dense, Activation, Flatten, Dropout\n",
        "from tensorflow.keras import Sequential"
      ],
      "metadata": {
        "id": "1XCWqkaNkBnY"
      },
      "execution_count": null,
      "outputs": []
    },
    {
      "cell_type": "code",
      "source": [
        "model = Sequential()\n",
        "\n",
        "model.add(Conv2D(8, kernel_size=(3,3), padding='same', use_bias=False, input_shape=(1,28,28)))\n",
        "model.add(BatchNormalization())\n",
        "model.add(Activation('relu'))\n",
        "\n",
        "model.add(AveragePooling2D((2,2), strides=(2,2), padding='same'))\n",
        "\n",
        "model.add(Conv2D(16, kernel_size=(3,3), padding='same', use_bias=False))\n",
        "model.add(BatchNormalization())\n",
        "model.add(Activation('relu'))\n",
        "\n",
        "model.add(AveragePooling2D((2,2), strides=(2,2), padding='same'))\n",
        "\n",
        "model.add(Conv2D(16, kernel_size=(3,3), padding='same', use_bias=False))\n",
        "model.add(BatchNormalization())\n",
        "model.add(Activation('relu'))\n",
        "\n",
        "model.add(Dropout(0.2))\n",
        "\n",
        "model.add(AveragePooling2D((2,2), strides=(2,2), padding='same'))\n",
        "\n",
        "model.add(Conv2D(32, kernel_size=(3,3), padding='same', use_bias=False))\n",
        "model.add(BatchNormalization())\n",
        "model.add(Activation('relu'))\n",
        "\n",
        "model.add(Dropout(0.4))\n",
        "\n",
        "model.add(Conv2D(10, kernel_size=(3,3), padding='same'))\n",
        "model.add(AveragePooling2D((4,4), strides=(4,4), padding='same'))\n",
        "model.add(Flatten())\n",
        "\n",
        "model.add(Activation('softmax'))\n",
        "model.summary()"
      ],
      "metadata": {
        "colab": {
          "base_uri": "https://localhost:8080/"
        },
        "id": "tQvF1m38kyAY",
        "outputId": "30c2925d-d3f5-4e32-8c8b-de3becff7a96"
      },
      "execution_count": null,
      "outputs": [
        {
          "output_type": "stream",
          "name": "stdout",
          "text": [
            "Model: \"sequential\"\n",
            "_________________________________________________________________\n",
            " Layer (type)                Output Shape              Param #   \n",
            "=================================================================\n",
            " conv2d (Conv2D)             (None, 1, 28, 8)          2016      \n",
            "                                                                 \n",
            " batch_normalization (BatchN  (None, 1, 28, 8)         32        \n",
            " ormalization)                                                   \n",
            "                                                                 \n",
            " activation (Activation)     (None, 1, 28, 8)          0         \n",
            "                                                                 \n",
            " average_pooling2d (AverageP  (None, 1, 14, 8)         0         \n",
            " ooling2D)                                                       \n",
            "                                                                 \n",
            " conv2d_1 (Conv2D)           (None, 1, 14, 16)         1152      \n",
            "                                                                 \n",
            " batch_normalization_1 (Batc  (None, 1, 14, 16)        64        \n",
            " hNormalization)                                                 \n",
            "                                                                 \n",
            " activation_1 (Activation)   (None, 1, 14, 16)         0         \n",
            "                                                                 \n",
            " average_pooling2d_1 (Averag  (None, 1, 7, 16)         0         \n",
            " ePooling2D)                                                     \n",
            "                                                                 \n",
            " conv2d_2 (Conv2D)           (None, 1, 7, 16)          2304      \n",
            "                                                                 \n",
            " batch_normalization_2 (Batc  (None, 1, 7, 16)         64        \n",
            " hNormalization)                                                 \n",
            "                                                                 \n",
            " activation_2 (Activation)   (None, 1, 7, 16)          0         \n",
            "                                                                 \n",
            " dropout (Dropout)           (None, 1, 7, 16)          0         \n",
            "                                                                 \n",
            " average_pooling2d_2 (Averag  (None, 1, 4, 16)         0         \n",
            " ePooling2D)                                                     \n",
            "                                                                 \n",
            " conv2d_3 (Conv2D)           (None, 1, 4, 32)          4608      \n",
            "                                                                 \n",
            " batch_normalization_3 (Batc  (None, 1, 4, 32)         128       \n",
            " hNormalization)                                                 \n",
            "                                                                 \n",
            " activation_3 (Activation)   (None, 1, 4, 32)          0         \n",
            "                                                                 \n",
            " dropout_1 (Dropout)         (None, 1, 4, 32)          0         \n",
            "                                                                 \n",
            " conv2d_4 (Conv2D)           (None, 1, 4, 10)          2890      \n",
            "                                                                 \n",
            " average_pooling2d_3 (Averag  (None, 1, 1, 10)         0         \n",
            " ePooling2D)                                                     \n",
            "                                                                 \n",
            " flatten (Flatten)           (None, 10)                0         \n",
            "                                                                 \n",
            " activation_4 (Activation)   (None, 10)                0         \n",
            "                                                                 \n",
            "=================================================================\n",
            "Total params: 13,258\n",
            "Trainable params: 13,114\n",
            "Non-trainable params: 144\n",
            "_________________________________________________________________\n"
          ]
        }
      ]
    },
    {
      "cell_type": "code",
      "source": [
        "model.compile(loss='categorical_crossentropy', optimizer='adam', metrics=['accuracy'])"
      ],
      "metadata": {
        "id": "It9XfvA_lQYq"
      },
      "execution_count": null,
      "outputs": []
    },
    {
      "cell_type": "code",
      "source": [
        "model.fit(X_train, y_train, batch_size=256 ,epochs=30, validation_split=0.2)"
      ],
      "metadata": {
        "colab": {
          "base_uri": "https://localhost:8080/"
        },
        "id": "MvahitjjlXF7",
        "outputId": "8aa1cbec-e241-4823-eb71-e89b9e3bf9f7"
      },
      "execution_count": null,
      "outputs": [
        {
          "output_type": "stream",
          "name": "stdout",
          "text": [
            "Epoch 1/30\n",
            "188/188 [==============================] - 9s 36ms/step - loss: 1.2737 - accuracy: 0.5980 - val_loss: 1.7146 - val_accuracy: 0.3407\n",
            "Epoch 2/30\n",
            "188/188 [==============================] - 5s 28ms/step - loss: 0.4208 - accuracy: 0.8811 - val_loss: 0.5915 - val_accuracy: 0.8124\n",
            "Epoch 3/30\n",
            "188/188 [==============================] - 8s 42ms/step - loss: 0.2895 - accuracy: 0.9131 - val_loss: 0.2040 - val_accuracy: 0.9374\n",
            "Epoch 4/30\n",
            "188/188 [==============================] - 6s 29ms/step - loss: 0.2439 - accuracy: 0.9265 - val_loss: 0.1549 - val_accuracy: 0.9513\n",
            "Epoch 5/30\n",
            "188/188 [==============================] - 6s 34ms/step - loss: 0.2188 - accuracy: 0.9353 - val_loss: 0.1355 - val_accuracy: 0.9592\n",
            "Epoch 6/30\n",
            "188/188 [==============================] - 6s 32ms/step - loss: 0.1986 - accuracy: 0.9417 - val_loss: 0.1168 - val_accuracy: 0.9652\n",
            "Epoch 7/30\n",
            "188/188 [==============================] - 7s 35ms/step - loss: 0.1884 - accuracy: 0.9434 - val_loss: 0.1010 - val_accuracy: 0.9697\n",
            "Epoch 8/30\n",
            "188/188 [==============================] - 5s 28ms/step - loss: 0.1746 - accuracy: 0.9480 - val_loss: 0.1130 - val_accuracy: 0.9638\n",
            "Epoch 9/30\n",
            "188/188 [==============================] - 7s 35ms/step - loss: 0.1639 - accuracy: 0.9507 - val_loss: 0.0989 - val_accuracy: 0.9705\n",
            "Epoch 10/30\n",
            "188/188 [==============================] - 7s 38ms/step - loss: 0.1580 - accuracy: 0.9535 - val_loss: 0.0958 - val_accuracy: 0.9697\n",
            "Epoch 11/30\n",
            "188/188 [==============================] - 6s 34ms/step - loss: 0.1500 - accuracy: 0.9553 - val_loss: 0.0904 - val_accuracy: 0.9723\n",
            "Epoch 12/30\n",
            "188/188 [==============================] - 5s 27ms/step - loss: 0.1479 - accuracy: 0.9564 - val_loss: 0.0877 - val_accuracy: 0.9716\n",
            "Epoch 13/30\n",
            "188/188 [==============================] - 6s 34ms/step - loss: 0.1403 - accuracy: 0.9572 - val_loss: 0.0866 - val_accuracy: 0.9732\n",
            "Epoch 14/30\n",
            "188/188 [==============================] - 5s 27ms/step - loss: 0.1399 - accuracy: 0.9575 - val_loss: 0.0879 - val_accuracy: 0.9734\n",
            "Epoch 15/30\n",
            "188/188 [==============================] - 6s 30ms/step - loss: 0.1388 - accuracy: 0.9584 - val_loss: 0.0891 - val_accuracy: 0.9722\n",
            "Epoch 16/30\n",
            "188/188 [==============================] - 7s 36ms/step - loss: 0.1331 - accuracy: 0.9591 - val_loss: 0.0813 - val_accuracy: 0.9747\n",
            "Epoch 17/30\n",
            "188/188 [==============================] - 9s 50ms/step - loss: 0.1295 - accuracy: 0.9610 - val_loss: 0.0871 - val_accuracy: 0.9712\n",
            "Epoch 18/30\n",
            "188/188 [==============================] - 6s 30ms/step - loss: 0.1282 - accuracy: 0.9612 - val_loss: 0.0880 - val_accuracy: 0.9723\n",
            "Epoch 19/30\n",
            "188/188 [==============================] - 6s 35ms/step - loss: 0.1248 - accuracy: 0.9617 - val_loss: 0.0775 - val_accuracy: 0.9751\n",
            "Epoch 20/30\n",
            "188/188 [==============================] - 5s 28ms/step - loss: 0.1229 - accuracy: 0.9623 - val_loss: 0.1006 - val_accuracy: 0.9671\n",
            "Epoch 21/30\n",
            "188/188 [==============================] - 6s 31ms/step - loss: 0.1178 - accuracy: 0.9643 - val_loss: 0.0796 - val_accuracy: 0.9753\n",
            "Epoch 22/30\n",
            "188/188 [==============================] - 7s 40ms/step - loss: 0.1196 - accuracy: 0.9635 - val_loss: 0.0832 - val_accuracy: 0.9750\n",
            "Epoch 23/30\n",
            "188/188 [==============================] - 12s 66ms/step - loss: 0.1169 - accuracy: 0.9649 - val_loss: 0.0770 - val_accuracy: 0.9755\n",
            "Epoch 24/30\n",
            "188/188 [==============================] - 5s 28ms/step - loss: 0.1154 - accuracy: 0.9650 - val_loss: 0.0816 - val_accuracy: 0.9742\n",
            "Epoch 25/30\n",
            "188/188 [==============================] - 6s 34ms/step - loss: 0.1129 - accuracy: 0.9658 - val_loss: 0.0841 - val_accuracy: 0.9721\n",
            "Epoch 26/30\n",
            "188/188 [==============================] - 5s 28ms/step - loss: 0.1145 - accuracy: 0.9653 - val_loss: 0.0768 - val_accuracy: 0.9761\n",
            "Epoch 27/30\n",
            "188/188 [==============================] - 6s 35ms/step - loss: 0.1100 - accuracy: 0.9655 - val_loss: 0.0755 - val_accuracy: 0.9762\n",
            "Epoch 28/30\n",
            "188/188 [==============================] - 8s 41ms/step - loss: 0.1101 - accuracy: 0.9661 - val_loss: 0.0873 - val_accuracy: 0.9730\n",
            "Epoch 29/30\n",
            "188/188 [==============================] - 12s 64ms/step - loss: 0.1079 - accuracy: 0.9668 - val_loss: 0.0772 - val_accuracy: 0.9751\n",
            "Epoch 30/30\n",
            "188/188 [==============================] - 7s 36ms/step - loss: 0.1105 - accuracy: 0.9656 - val_loss: 0.0740 - val_accuracy: 0.9762\n"
          ]
        },
        {
          "output_type": "execute_result",
          "data": {
            "text/plain": [
              "<keras.callbacks.History at 0x7f6c80137ee0>"
            ]
          },
          "metadata": {},
          "execution_count": 15
        }
      ]
    },
    {
      "cell_type": "markdown",
      "source": [
        "# 4. Evaluate the Performance "
      ],
      "metadata": {
        "id": "Y0wBqYRxRkY8"
      }
    },
    {
      "cell_type": "code",
      "source": [
        "from sklearn.metrics import classification_report"
      ],
      "metadata": {
        "id": "EUdvEjWilZWY"
      },
      "execution_count": null,
      "outputs": []
    },
    {
      "cell_type": "code",
      "source": [
        "y_predict = model.predict(X_test)\n",
        "y_pred = np.argmax(y_predict, 1)\n",
        "y_pred"
      ],
      "metadata": {
        "colab": {
          "base_uri": "https://localhost:8080/"
        },
        "id": "-BfF41TLll_Z",
        "outputId": "7f9159fb-83c4-442e-f0c7-618123b5763a"
      },
      "execution_count": null,
      "outputs": [
        {
          "output_type": "stream",
          "name": "stdout",
          "text": [
            "313/313 [==============================] - 1s 3ms/step\n"
          ]
        },
        {
          "output_type": "execute_result",
          "data": {
            "text/plain": [
              "array([7, 2, 1, ..., 4, 5, 6])"
            ]
          },
          "metadata": {},
          "execution_count": 17
        }
      ]
    },
    {
      "cell_type": "code",
      "source": [
        "y_true = np.argmax(y_test, 1)\n",
        "y_true"
      ],
      "metadata": {
        "colab": {
          "base_uri": "https://localhost:8080/"
        },
        "id": "C5yVF4zXlosO",
        "outputId": "81dc2a84-bb2c-424d-f0cc-bdb765c49705"
      },
      "execution_count": null,
      "outputs": [
        {
          "output_type": "execute_result",
          "data": {
            "text/plain": [
              "array([7, 2, 1, ..., 4, 5, 6])"
            ]
          },
          "metadata": {},
          "execution_count": 18
        }
      ]
    },
    {
      "cell_type": "code",
      "source": [
        "classification_report(y_true, y_pred)"
      ],
      "metadata": {
        "colab": {
          "base_uri": "https://localhost:8080/",
          "height": 166
        },
        "id": "9eOvxRGClx8f",
        "outputId": "a0b28e78-32e3-46cf-d27b-d0eec258da0b"
      },
      "execution_count": null,
      "outputs": [
        {
          "output_type": "error",
          "ename": "NameError",
          "evalue": "ignored",
          "traceback": [
            "\u001b[0;31m---------------------------------------------------------------------------\u001b[0m",
            "\u001b[0;31mNameError\u001b[0m                                 Traceback (most recent call last)",
            "\u001b[0;32m<ipython-input-4-96ed846ba5d1>\u001b[0m in \u001b[0;36m<module>\u001b[0;34m\u001b[0m\n\u001b[0;32m----> 1\u001b[0;31m \u001b[0mprint\u001b[0m\u001b[0;34m(\u001b[0m\u001b[0mclassification_report\u001b[0m\u001b[0;34m(\u001b[0m\u001b[0my_true\u001b[0m\u001b[0;34m,\u001b[0m \u001b[0my_pred\u001b[0m\u001b[0;34m)\u001b[0m\u001b[0;34m)\u001b[0m\u001b[0;34m\u001b[0m\u001b[0;34m\u001b[0m\u001b[0m\n\u001b[0m",
            "\u001b[0;31mNameError\u001b[0m: name 'y_true' is not defined"
          ]
        }
      ]
    },
    {
      "cell_type": "markdown",
      "source": [
        "# 5. Save Trained Model "
      ],
      "metadata": {
        "id": "NNw10vzLRr4G"
      }
    },
    {
      "cell_type": "code",
      "source": [
        "model.save('mnist_cnn.h5')"
      ],
      "metadata": {
        "id": "7BG6mSkbl7DJ"
      },
      "execution_count": null,
      "outputs": []
    }
  ]
}