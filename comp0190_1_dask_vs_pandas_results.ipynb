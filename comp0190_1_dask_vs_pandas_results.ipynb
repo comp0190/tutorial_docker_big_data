{
  "nbformat": 4,
  "nbformat_minor": 0,
  "metadata": {
    "colab": {
      "provenance": [],
      "machine_shape": "hm"
    },
    "kernelspec": {
      "name": "python3",
      "display_name": "Python 3"
    },
    "language_info": {
      "name": "python"
    },
    "gpuClass": "standard"
  },
  "cells": [
    {
      "cell_type": "code",
      "execution_count": 1,
      "metadata": {
        "colab": {
          "base_uri": "https://localhost:8080/"
        },
        "id": "0J1uMpWS7y_L",
        "outputId": "4569a3bf-280d-45af-aff8-cd3d965849cc"
      },
      "outputs": [
        {
          "output_type": "stream",
          "name": "stdout",
          "text": [
            "Looking in indexes: https://pypi.org/simple, https://us-python.pkg.dev/colab-wheels/public/simple/\n",
            "Requirement already satisfied: dask in /usr/local/lib/python3.9/dist-packages (2022.2.1)\n",
            "Requirement already satisfied: fsspec>=0.6.0 in /usr/local/lib/python3.9/dist-packages (from dask) (2023.3.0)\n",
            "Requirement already satisfied: cloudpickle>=1.1.1 in /usr/local/lib/python3.9/dist-packages (from dask) (2.2.1)\n",
            "Requirement already satisfied: partd>=0.3.10 in /usr/local/lib/python3.9/dist-packages (from dask) (1.3.0)\n",
            "Requirement already satisfied: pyyaml>=5.3.1 in /usr/local/lib/python3.9/dist-packages (from dask) (6.0)\n",
            "Requirement already satisfied: packaging>=20.0 in /usr/local/lib/python3.9/dist-packages (from dask) (23.0)\n",
            "Requirement already satisfied: toolz>=0.8.2 in /usr/local/lib/python3.9/dist-packages (from dask) (0.12.0)\n",
            "Requirement already satisfied: locket in /usr/local/lib/python3.9/dist-packages (from partd>=0.3.10->dask) (1.0.0)\n"
          ]
        }
      ],
      "source": [
        "pip install dask"
      ]
    },
    {
      "cell_type": "markdown",
      "source": [
        "# Load Dataset\n",
        "\n",
        "__MNIST dataset__:\n",
        "- collection of 70 000 grayscale images of the 10 digits\n",
        "- each image is 28x28 pixels large, taking values from 0 to 255\n",
        "- dataset located at: `https://storage.googleapis.com/tensorflow/tf-keras-datasets/mnist.npz`\n",
        "\n"
      ],
      "metadata": {
        "id": "hHcA2n1R84-f"
      }
    },
    {
      "cell_type": "code",
      "source": [
        "from keras.datasets import mnist\n",
        "(x_train, y_train), (x_test, y_test) = mnist.load_data()\n",
        "\n",
        "#check the sizes of the loaded datasets\n",
        "datasets = ['x_train', 'y_train', 'x_test', 'y_test']\n",
        "shape = lambda array: array.shape\n",
        "dict(zip(datasets, list(map(shape, map(eval, datasets)))))"
      ],
      "metadata": {
        "colab": {
          "base_uri": "https://localhost:8080/"
        },
        "id": "Ycp9EM9X8jY7",
        "outputId": "bfa3abc1-3b3b-4e97-ff86-8df6a06dc1c2"
      },
      "execution_count": 2,
      "outputs": [
        {
          "output_type": "stream",
          "name": "stdout",
          "text": [
            "Downloading data from https://storage.googleapis.com/tensorflow/tf-keras-datasets/mnist.npz\n",
            "11490434/11490434 [==============================] - 0s 0us/step\n"
          ]
        },
        {
          "output_type": "execute_result",
          "data": {
            "text/plain": [
              "{'x_train': (60000, 28, 28),\n",
              " 'y_train': (60000,),\n",
              " 'x_test': (10000, 28, 28),\n",
              " 'y_test': (10000,)}"
            ]
          },
          "metadata": {},
          "execution_count": 2
        }
      ]
    },
    {
      "cell_type": "code",
      "source": [
        "# map stores the object with the logical map at some location in the memory, but does not load the result of the operaration into the memory \n",
        "print(map(shape, map(eval, datasets)))"
      ],
      "metadata": {
        "colab": {
          "base_uri": "https://localhost:8080/"
        },
        "id": "6xpXzlvKUBPR",
        "outputId": "ec3fc53b-a5d4-4882-92ed-b94d55bad9fa"
      },
      "execution_count": 3,
      "outputs": [
        {
          "output_type": "stream",
          "name": "stdout",
          "text": [
            "<map object at 0x7f074485e100>\n"
          ]
        }
      ]
    },
    {
      "cell_type": "code",
      "source": [
        "# prints the content of the memory \n",
        "print(*map(shape, map(eval, datasets)))"
      ],
      "metadata": {
        "colab": {
          "base_uri": "https://localhost:8080/"
        },
        "id": "xEpwKgGPTo0h",
        "outputId": "e5704bdd-fef4-41d1-b0dc-38de4b7a3bb5"
      },
      "execution_count": 4,
      "outputs": [
        {
          "output_type": "stream",
          "name": "stdout",
          "text": [
            "(60000, 28, 28) (60000,) (10000, 28, 28) (10000,)\n"
          ]
        }
      ]
    },
    {
      "cell_type": "code",
      "source": [
        "import seaborn as sns\n",
        "import matplotlib.pyplot as plt"
      ],
      "metadata": {
        "id": "aUkWEhz28uAM"
      },
      "execution_count": 5,
      "outputs": []
    },
    {
      "cell_type": "code",
      "source": [
        "idx_ = 8\n",
        "#10-th row of the first image \n",
        "\n",
        "print(y_train[0], x_train[0][idx_])\n",
        "sns.heatmap(x_train[0])"
      ],
      "metadata": {
        "colab": {
          "base_uri": "https://localhost:8080/",
          "height": 319
        },
        "id": "hk7zNK-XI7I6",
        "outputId": "1a950938-28cb-4e8e-bf95-b61f3c0081d3"
      },
      "execution_count": 6,
      "outputs": [
        {
          "output_type": "stream",
          "name": "stdout",
          "text": [
            "5 [  0   0   0   0   0   0   0  18 219 253 253 253 253 253 198 182 247 241\n",
            "   0   0   0   0   0   0   0   0   0   0]\n"
          ]
        },
        {
          "output_type": "execute_result",
          "data": {
            "text/plain": [
              "<Axes: >"
            ]
          },
          "metadata": {},
          "execution_count": 6
        },
        {
          "output_type": "display_data",
          "data": {
            "text/plain": [
              "<Figure size 432x288 with 2 Axes>"
            ],
            "image/png": "[encoded data removed]"
          },
          "metadata": {
            "needs_background": "light"
          }
        }
      ]
    },
    {
      "cell_type": "markdown",
      "source": [
        "# Pandas and Dask Benchmarking "
      ],
      "metadata": {
        "id": "TnmSK2JLcWYc"
      }
    },
    {
      "cell_type": "code",
      "source": [
        "import pandas as pd\n",
        "import dask.dataframe as dd"
      ],
      "metadata": {
        "id": "k8u1x3xsKo9h"
      },
      "execution_count": 7,
      "outputs": []
    },
    {
      "cell_type": "markdown",
      "source": [
        "## 1. Store MNIST train dataset into csv file\n"
      ],
      "metadata": {
        "id": "v9khfqa40JkJ"
      }
    },
    {
      "cell_type": "code",
      "source": [
        "df_train = pd.DataFrame(data=list(zip(y_train, x_train)), columns=['label', 'image'])\n",
        "df_test = pd.DataFrame(data=list(zip(y_test, x_test)), columns=['label', 'image'])"
      ],
      "metadata": {
        "colab": {
          "base_uri": "https://localhost:8080/"
        },
        "id": "gtyMlvvpOx5f",
        "outputId": "2230c4d9-b74d-41d0-a326-4849b76313b3"
      },
      "execution_count": 8,
      "outputs": [
        {
          "output_type": "stream",
          "name": "stdout",
          "text": [
            "CPU times: user 51 ms, sys: 6.63 ms, total: 57.6 ms\n",
            "Wall time: 59.9 ms\n"
          ]
        }
      ]
    },
    {
      "cell_type": "code",
      "source": [
        "%%timeit\n",
        "df_train.to_csv('mnist_train.csv', index=False)"
      ],
      "metadata": {
        "colab": {
          "base_uri": "https://localhost:8080/"
        },
        "id": "IL6H1QguWU2M",
        "outputId": "e4115eba-1564-4aaa-df08-f9ade0aa3e6e"
      },
      "execution_count": 9,
      "outputs": [
        {
          "output_type": "stream",
          "name": "stdout",
          "text": [
            "CPU times: user 1min 29s, sys: 1.11 s, total: 1min 30s\n",
            "Wall time: 1min 29s\n"
          ]
        }
      ]
    },
    {
      "cell_type": "code",
      "source": [
        "%%timeit\n",
        "df_train.to_csv('mnist_train.csv.gzip', compression='gzip', index=False)"
      ],
      "metadata": {
        "colab": {
          "base_uri": "https://localhost:8080/"
        },
        "id": "-llQZn-LQ262",
        "outputId": "7b27fe4d-22e2-40ef-af7c-d024da6a4e73"
      },
      "execution_count": null,
      "outputs": [
        {
          "output_type": "stream",
          "name": "stdout",
          "text": [
            "CPU times: user 1min 48s, sys: 193 ms, total: 1min 48s\n",
            "Wall time: 1min 47s\n"
          ]
        }
      ]
    },
    {
      "cell_type": "code",
      "source": [
        "# timeit does not store the outputs \n",
        "df_train.to_csv('mnist_train.csv', index=False)\n",
        "df_train.to_csv('mnist_train.csv.gzip', compression='gzip', index=False)"
      ],
      "metadata": {
        "id": "gz8SJr_MvWg-"
      },
      "execution_count": 15,
      "outputs": []
    },
    {
      "cell_type": "markdown",
      "source": [
        "## Exercise 1: \n",
        "1. store MNIST test dataset into the csv file\n",
        "2.  store MNIST test dataset into the compressed csv file "
      ],
      "metadata": {
        "id": "bW0APllx5_54"
      }
    },
    {
      "cell_type": "code",
      "source": [
        "%%timeit\n",
        "df_test.to_csv('mnist_test.csv', index=False)"
      ],
      "metadata": {
        "colab": {
          "base_uri": "https://localhost:8080/"
        },
        "id": "S8vkPxr3uyOD",
        "outputId": "56122fc0-a208-4fda-9098-a6ab53a64e57"
      },
      "execution_count": 10,
      "outputs": [
        {
          "output_type": "stream",
          "name": "stdout",
          "text": [
            "15 s ± 153 ms per loop (mean ± std. dev. of 7 runs, 1 loop each)\n"
          ]
        }
      ]
    },
    {
      "cell_type": "code",
      "source": [
        "%%timeit\n",
        "df_test.to_csv('mnist_test.csv.gzip', compression='gzip', index=False)"
      ],
      "metadata": {
        "colab": {
          "base_uri": "https://localhost:8080/"
        },
        "id": "Oa9DUkUYu1q3",
        "outputId": "acc4bad8-5f47-4519-f30c-43d476e46498"
      },
      "execution_count": 11,
      "outputs": [
        {
          "output_type": "stream",
          "name": "stdout",
          "text": [
            "18.1 s ± 158 ms per loop (mean ± std. dev. of 7 runs, 1 loop each)\n"
          ]
        }
      ]
    },
    {
      "cell_type": "code",
      "source": [
        "df_test.to_csv('mnist_test.csv', index=False)\n",
        "df_test.to_csv('mnist_test.csv.gzip', compression='gzip', index=False)"
      ],
      "metadata": {
        "id": "I97ZZLApvEFt"
      },
      "execution_count": 12,
      "outputs": []
    },
    {
      "cell_type": "markdown",
      "source": [
        "## 2. Experiment 1: Loading data into DataFrame "
      ],
      "metadata": {
        "id": "x6WrwJLV0Z6Q"
      }
    },
    {
      "cell_type": "code",
      "source": [
        "%%bash \n",
        "ls -lha"
      ],
      "metadata": {
        "colab": {
          "base_uri": "https://localhost:8080/"
        },
        "id": "vlXClIVkWJEM",
        "outputId": "81bee5f4-4135-4cc2-d280-c50021a6f711"
      },
      "execution_count": 13,
      "outputs": [
        {
          "output_type": "stream",
          "name": "stdout",
          "text": [
            "total 222M\n",
            "drwxr-xr-x 1 root root 4.0K Mar 16 18:45 .\n",
            "drwxr-xr-x 1 root root 4.0K Mar 16 18:19 ..\n",
            "drwxr-xr-x 4 root root 4.0K Mar 15 13:39 .config\n",
            "-rw-r--r-- 1 root root  32M Mar 16 18:48 mnist_test.csv\n",
            "-rw-r--r-- 1 root root 2.5M Mar 16 18:48 mnist_test.csv.gzip\n",
            "-rw-r--r-- 1 root root 188M Mar 16 18:43 mnist_train.csv\n",
            "drwxr-xr-x 1 root root 4.0K Mar 15 13:40 sample_data\n"
          ]
        }
      ]
    },
    {
      "cell_type": "markdown",
      "source": [
        "### 2.1 Compresed Files "
      ],
      "metadata": {
        "id": "-fVHHPik0kvG"
      }
    },
    {
      "cell_type": "code",
      "source": [
        "%%timeit\n",
        "df_pandas_train_compressed = pd.read_csv('mnist_train.csv.gzip', compression='gzip')"
      ],
      "metadata": {
        "colab": {
          "base_uri": "https://localhost:8080/"
        },
        "id": "CipRCyTvYIve",
        "outputId": "6ad40aae-2122-4f65-a996-b6eecfbec1db"
      },
      "execution_count": 16,
      "outputs": [
        {
          "output_type": "stream",
          "name": "stdout",
          "text": [
            "2.3 s ± 15.5 ms per loop (mean ± std. dev. of 7 runs, 1 loop each)\n"
          ]
        }
      ]
    },
    {
      "cell_type": "code",
      "source": [
        "%%timeit\n",
        "df_dask_train_compressed = dd.read_csv('mnist_train.csv.gzip', compression='gzip', blocksize=None)"
      ],
      "metadata": {
        "colab": {
          "base_uri": "https://localhost:8080/"
        },
        "id": "Dw1hNK-Pb291",
        "outputId": "3e91c71a-5906-40bb-8e61-90e591fe6ca2"
      },
      "execution_count": 17,
      "outputs": [
        {
          "output_type": "stream",
          "name": "stdout",
          "text": [
            "4.69 ms ± 66.9 µs per loop (mean ± std. dev. of 7 runs, 100 loops each)\n"
          ]
        }
      ]
    },
    {
      "cell_type": "markdown",
      "source": [
        "### 2.2 Original Files "
      ],
      "metadata": {
        "id": "JgX75qs40sRo"
      }
    },
    {
      "cell_type": "code",
      "source": [
        "%%timeit\n",
        "df_pandas_train = pd.read_csv('mnist_train.csv')"
      ],
      "metadata": {
        "colab": {
          "base_uri": "https://localhost:8080/"
        },
        "id": "c12OlmOizlj_",
        "outputId": "62604622-e933-4048-c174-fa1a57effa22"
      },
      "execution_count": 18,
      "outputs": [
        {
          "output_type": "stream",
          "name": "stdout",
          "text": [
            "1.7 s ± 26.5 ms per loop (mean ± std. dev. of 7 runs, 1 loop each)\n"
          ]
        }
      ]
    },
    {
      "cell_type": "code",
      "source": [
        "%%timeit\n",
        "df_dask_train = dd.read_csv('mnist_train.csv', blocksize=None)"
      ],
      "metadata": {
        "colab": {
          "base_uri": "https://localhost:8080/"
        },
        "id": "NToQ3Z2DzsAW",
        "outputId": "ce64e671-bfd3-42ea-bb03-4dbb82e53570"
      },
      "execution_count": 19,
      "outputs": [
        {
          "output_type": "stream",
          "name": "stdout",
          "text": [
            "3.05 ms ± 51.4 µs per loop (mean ± std. dev. of 7 runs, 100 loops each)\n"
          ]
        }
      ]
    },
    {
      "cell_type": "markdown",
      "source": [
        "## 3. Experiment 2: Basic Operations on the DataFrames "
      ],
      "metadata": {
        "id": "yQm5W05r4l69"
      }
    },
    {
      "cell_type": "code",
      "source": [
        "df_pandas_train = pd.read_csv('mnist_train.csv')\n",
        "df_pandas_train"
      ],
      "metadata": {
        "colab": {
          "base_uri": "https://localhost:8080/",
          "height": 424
        },
        "id": "zqE8I0P31G5D",
        "outputId": "cf5dc2a1-a67d-4a0e-8100-06fd1d2273b5"
      },
      "execution_count": 20,
      "outputs": [
        {
          "output_type": "execute_result",
          "data": {
            "text/plain": [
              "       label                                              image\n",
              "0          5  [[  0   0   0   0   0   0   0   0   0   0   0 ...\n",
              "1          0  [[  0   0   0   0   0   0   0   0   0   0   0 ...\n",
              "2          4  [[  0   0   0   0   0   0   0   0   0   0   0 ...\n",
              "3          1  [[  0   0   0   0   0   0   0   0   0   0   0 ...\n",
              "4          9  [[  0   0   0   0   0   0   0   0   0   0   0 ...\n",
              "...      ...                                                ...\n",
              "59995      8  [[  0   0   0   0   0   0   0   0   0   0   0 ...\n",
              "59996      3  [[  0   0   0   0   0   0   0   0   0   0   0 ...\n",
              "59997      5  [[  0   0   0   0   0   0   0   0   0   0   0 ...\n",
              "59998      6  [[  0   0   0   0   0   0   0   0   0   0   0 ...\n",
              "59999      8  [[  0   0   0   0   0   0   0   0   0   0   0 ...\n",
              "\n",
              "[60000 rows x 2 columns]"
            ],
            "text/html": [
              "\n",
              "  <div id=\"df-8ee47168-f2e4-41b8-b089-9e4124595c7d\">\n",
              "    <div class=\"colab-df-container\">\n",
              "      <div>\n",
              "<style scoped>\n",
              "    .dataframe tbody tr th:only-of-type {\n",
              "        vertical-align: middle;\n",
              "    }\n",
              "\n",
              "    .dataframe tbody tr th {\n",
              "        vertical-align: top;\n",
              "    }\n",
              "\n",
              "    .dataframe thead th {\n",
              "        text-align: right;\n",
              "    }\n",
              "</style>\n",
              "<table border=\"1\" class=\"dataframe\">\n",
              "  <thead>\n",
              "    <tr style=\"text-align: right;\">\n",
              "      <th></th>\n",
              "      <th>label</th>\n",
              "      <th>image</th>\n",
              "    </tr>\n",
              "  </thead>\n",
              "  <tbody>\n",
              "    <tr>\n",
              "      <th>0</th>\n",
              "      <td>5</td>\n",
              "      <td>[[  0   0   0   0   0   0   0   0   0   0   0 ...</td>\n",
              "    </tr>\n",
              "    <tr>\n",
              "      <th>1</th>\n",
              "      <td>0</td>\n",
              "      <td>[[  0   0   0   0   0   0   0   0   0   0   0 ...</td>\n",
              "    </tr>\n",
              "    <tr>\n",
              "      <th>2</th>\n",
              "      <td>4</td>\n",
              "      <td>[[  0   0   0   0   0   0   0   0   0   0   0 ...</td>\n",
              "    </tr>\n",
              "    <tr>\n",
              "      <th>3</th>\n",
              "      <td>1</td>\n",
              "      <td>[[  0   0   0   0   0   0   0   0   0   0   0 ...</td>\n",
              "    </tr>\n",
              "    <tr>\n",
              "      <th>4</th>\n",
              "      <td>9</td>\n",
              "      <td>[[  0   0   0   0   0   0   0   0   0   0   0 ...</td>\n",
              "    </tr>\n",
              "    <tr>\n",
              "      <th>...</th>\n",
              "      <td>...</td>\n",
              "      <td>...</td>\n",
              "    </tr>\n",
              "    <tr>\n",
              "      <th>59995</th>\n",
              "      <td>8</td>\n",
              "      <td>[[  0   0   0   0   0   0   0   0   0   0   0 ...</td>\n",
              "    </tr>\n",
              "    <tr>\n",
              "      <th>59996</th>\n",
              "      <td>3</td>\n",
              "      <td>[[  0   0   0   0   0   0   0   0   0   0   0 ...</td>\n",
              "    </tr>\n",
              "    <tr>\n",
              "      <th>59997</th>\n",
              "      <td>5</td>\n",
              "      <td>[[  0   0   0   0   0   0   0   0   0   0   0 ...</td>\n",
              "    </tr>\n",
              "    <tr>\n",
              "      <th>59998</th>\n",
              "      <td>6</td>\n",
              "      <td>[[  0   0   0   0   0   0   0   0   0   0   0 ...</td>\n",
              "    </tr>\n",
              "    <tr>\n",
              "      <th>59999</th>\n",
              "      <td>8</td>\n",
              "      <td>[[  0   0   0   0   0   0   0   0   0   0   0 ...</td>\n",
              "    </tr>\n",
              "  </tbody>\n",
              "</table>\n",
              "<p>60000 rows × 2 columns</p>\n",
              "</div>\n",
              "      <button class=\"colab-df-convert\" onclick=\"convertToInteractive('df-8ee47168-f2e4-41b8-b089-9e4124595c7d')\"\n",
              "              title=\"Convert this dataframe to an interactive table.\"\n",
              "              style=\"display:none;\">\n",
              "        \n",
              "  <svg xmlns=\"http://www.w3.org/2000/svg\" height=\"24px\"viewBox=\"0 0 24 24\"\n",
              "       width=\"24px\">\n",
              "    <path d=\"M0 0h24v24H0V0z\" fill=\"none\"/>\n",
              "    <path d=\"M18.56 5.44l.94 2.06.94-2.06 2.06-.94-2.06-.94-.94-2.06-.94 2.06-2.06.94zm-11 1L8.5 8.5l.94-2.06 2.06-.94-2.06-.94L8.5 2.5l-.94 2.06-2.06.94zm10 10l.94 2.06.94-2.06 2.06-.94-2.06-.94-.94-2.06-.94 2.06-2.06.94z\"/><path d=\"M17.41 7.96l-1.37-1.37c-.4-.4-.92-.59-1.43-.59-.52 0-1.04.2-1.43.59L10.3 9.45l-7.72 7.72c-.78.78-.78 2.05 0 2.83L4 21.41c.39.39.9.59 1.41.59.51 0 1.02-.2 1.41-.59l7.78-7.78 2.81-2.81c.8-.78.8-2.07 0-2.86zM5.41 20L4 18.59l7.72-7.72 1.47 1.35L5.41 20z\"/>\n",
              "  </svg>\n",
              "      </button>\n",
              "      \n",
              "  <style>\n",
              "    .colab-df-container {\n",
              "      display:flex;\n",
              "      flex-wrap:wrap;\n",
              "      gap: 12px;\n",
              "    }\n",
              "\n",
              "    .colab-df-convert {\n",
              "      background-color: #E8F0FE;\n",
              "      border: none;\n",
              "      border-radius: 50%;\n",
              "      cursor: pointer;\n",
              "      display: none;\n",
              "      fill: #1967D2;\n",
              "      height: 32px;\n",
              "      padding: 0 0 0 0;\n",
              "      width: 32px;\n",
              "    }\n",
              "\n",
              "    .colab-df-convert:hover {\n",
              "      background-color: #E2EBFA;\n",
              "      box-shadow: 0px 1px 2px rgba(60, 64, 67, 0.3), 0px 1px 3px 1px rgba(60, 64, 67, 0.15);\n",
              "      fill: #174EA6;\n",
              "    }\n",
              "\n",
              "    [theme=dark] .colab-df-convert {\n",
              "      background-color: #3B4455;\n",
              "      fill: #D2E3FC;\n",
              "    }\n",
              "\n",
              "    [theme=dark] .colab-df-convert:hover {\n",
              "      background-color: #434B5C;\n",
              "      box-shadow: 0px 1px 3px 1px rgba(0, 0, 0, 0.15);\n",
              "      filter: drop-shadow(0px 1px 2px rgba(0, 0, 0, 0.3));\n",
              "      fill: #FFFFFF;\n",
              "    }\n",
              "  </style>\n",
              "\n",
              "      <script>\n",
              "        const buttonEl =\n",
              "          document.querySelector('#df-8ee47168-f2e4-41b8-b089-9e4124595c7d button.colab-df-convert');\n",
              "        buttonEl.style.display =\n",
              "          google.colab.kernel.accessAllowed ? 'block' : 'none';\n",
              "\n",
              "        async function convertToInteractive(key) {\n",
              "          const element = document.querySelector('#df-8ee47168-f2e4-41b8-b089-9e4124595c7d');\n",
              "          const dataTable =\n",
              "            await google.colab.kernel.invokeFunction('convertToInteractive',\n",
              "                                                     [key], {});\n",
              "          if (!dataTable) return;\n",
              "\n",
              "          const docLinkHtml = 'Like what you see? Visit the ' +\n",
              "            '<a target=\"_blank\" href=https://colab.research.google.com/notebooks/data_table.ipynb>data table notebook</a>'\n",
              "            + ' to learn more about interactive tables.';\n",
              "          element.innerHTML = '';\n",
              "          dataTable['output_type'] = 'display_data';\n",
              "          await google.colab.output.renderOutput(dataTable, element);\n",
              "          const docLink = document.createElement('div');\n",
              "          docLink.innerHTML = docLinkHtml;\n",
              "          element.appendChild(docLink);\n",
              "        }\n",
              "      </script>\n",
              "    </div>\n",
              "  </div>\n",
              "  "
            ]
          },
          "metadata": {},
          "execution_count": 20
        }
      ]
    },
    {
      "cell_type": "code",
      "source": [
        "df_dask_train = dd.read_csv('mnist_train.csv', blocksize=None)\n",
        "df_dask_train"
      ],
      "metadata": {
        "colab": {
          "base_uri": "https://localhost:8080/",
          "height": 178
        },
        "id": "4KCnHrLV1Jyh",
        "outputId": "b976732e-00ea-4689-cd70-4fc55a48bba2"
      },
      "execution_count": 21,
      "outputs": [
        {
          "output_type": "execute_result",
          "data": {
            "text/plain": [
              "Dask DataFrame Structure:\n",
              "               label   image\n",
              "npartitions=1               \n",
              "               int64  object\n",
              "                 ...     ...\n",
              "Dask Name: read-csv, 1 tasks"
            ],
            "text/html": [
              "<div><strong>Dask DataFrame Structure:</strong></div>\n",
              "<div>\n",
              "<style scoped>\n",
              "    .dataframe tbody tr th:only-of-type {\n",
              "        vertical-align: middle;\n",
              "    }\n",
              "\n",
              "    .dataframe tbody tr th {\n",
              "        vertical-align: top;\n",
              "    }\n",
              "\n",
              "    .dataframe thead th {\n",
              "        text-align: right;\n",
              "    }\n",
              "</style>\n",
              "<table border=\"1\" class=\"dataframe\">\n",
              "  <thead>\n",
              "    <tr style=\"text-align: right;\">\n",
              "      <th></th>\n",
              "      <th>label</th>\n",
              "      <th>image</th>\n",
              "    </tr>\n",
              "    <tr>\n",
              "      <th>npartitions=1</th>\n",
              "      <th></th>\n",
              "      <th></th>\n",
              "    </tr>\n",
              "  </thead>\n",
              "  <tbody>\n",
              "    <tr>\n",
              "      <th></th>\n",
              "      <td>int64</td>\n",
              "      <td>object</td>\n",
              "    </tr>\n",
              "    <tr>\n",
              "      <th></th>\n",
              "      <td>...</td>\n",
              "      <td>...</td>\n",
              "    </tr>\n",
              "  </tbody>\n",
              "</table>\n",
              "</div>\n",
              "<div>Dask Name: read-csv, 1 tasks</div>"
            ]
          },
          "metadata": {},
          "execution_count": 21
        }
      ]
    },
    {
      "cell_type": "code",
      "source": [
        "df_dask_train.head(10)"
      ],
      "metadata": {
        "colab": {
          "base_uri": "https://localhost:8080/",
          "height": 363
        },
        "id": "Ce6FquCIeOOR",
        "outputId": "09cce9df-360d-472e-c47f-8296f8a9bc2a"
      },
      "execution_count": 22,
      "outputs": [
        {
          "output_type": "execute_result",
          "data": {
            "text/plain": [
              "   label                                              image\n",
              "0      5  [[  0   0   0   0   0   0   0   0   0   0   0 ...\n",
              "1      0  [[  0   0   0   0   0   0   0   0   0   0   0 ...\n",
              "2      4  [[  0   0   0   0   0   0   0   0   0   0   0 ...\n",
              "3      1  [[  0   0   0   0   0   0   0   0   0   0   0 ...\n",
              "4      9  [[  0   0   0   0   0   0   0   0   0   0   0 ...\n",
              "5      2  [[  0   0   0   0   0   0   0   0   0   0   0 ...\n",
              "6      1  [[  0   0   0   0   0   0   0   0   0   0   0 ...\n",
              "7      3  [[  0   0   0   0   0   0   0   0   0   0   0 ...\n",
              "8      1  [[  0   0   0   0   0   0   0   0   0   0   0 ...\n",
              "9      4  [[  0   0   0   0   0   0   0   0   0   0   0 ..."
            ],
            "text/html": [
              "\n",
              "  <div id=\"df-ee02fc32-f957-4cf3-ba03-f72c42c54507\">\n",
              "    <div class=\"colab-df-container\">\n",
              "      <div>\n",
              "<style scoped>\n",
              "    .dataframe tbody tr th:only-of-type {\n",
              "        vertical-align: middle;\n",
              "    }\n",
              "\n",
              "    .dataframe tbody tr th {\n",
              "        vertical-align: top;\n",
              "    }\n",
              "\n",
              "    .dataframe thead th {\n",
              "        text-align: right;\n",
              "    }\n",
              "</style>\n",
              "<table border=\"1\" class=\"dataframe\">\n",
              "  <thead>\n",
              "    <tr style=\"text-align: right;\">\n",
              "      <th></th>\n",
              "      <th>label</th>\n",
              "      <th>image</th>\n",
              "    </tr>\n",
              "  </thead>\n",
              "  <tbody>\n",
              "    <tr>\n",
              "      <th>0</th>\n",
              "      <td>5</td>\n",
              "      <td>[[  0   0   0   0   0   0   0   0   0   0   0 ...</td>\n",
              "    </tr>\n",
              "    <tr>\n",
              "      <th>1</th>\n",
              "      <td>0</td>\n",
              "      <td>[[  0   0   0   0   0   0   0   0   0   0   0 ...</td>\n",
              "    </tr>\n",
              "    <tr>\n",
              "      <th>2</th>\n",
              "      <td>4</td>\n",
              "      <td>[[  0   0   0   0   0   0   0   0   0   0   0 ...</td>\n",
              "    </tr>\n",
              "    <tr>\n",
              "      <th>3</th>\n",
              "      <td>1</td>\n",
              "      <td>[[  0   0   0   0   0   0   0   0   0   0   0 ...</td>\n",
              "    </tr>\n",
              "    <tr>\n",
              "      <th>4</th>\n",
              "      <td>9</td>\n",
              "      <td>[[  0   0   0   0   0   0   0   0   0   0   0 ...</td>\n",
              "    </tr>\n",
              "    <tr>\n",
              "      <th>5</th>\n",
              "      <td>2</td>\n",
              "      <td>[[  0   0   0   0   0   0   0   0   0   0   0 ...</td>\n",
              "    </tr>\n",
              "    <tr>\n",
              "      <th>6</th>\n",
              "      <td>1</td>\n",
              "      <td>[[  0   0   0   0   0   0   0   0   0   0   0 ...</td>\n",
              "    </tr>\n",
              "    <tr>\n",
              "      <th>7</th>\n",
              "      <td>3</td>\n",
              "      <td>[[  0   0   0   0   0   0   0   0   0   0   0 ...</td>\n",
              "    </tr>\n",
              "    <tr>\n",
              "      <th>8</th>\n",
              "      <td>1</td>\n",
              "      <td>[[  0   0   0   0   0   0   0   0   0   0   0 ...</td>\n",
              "    </tr>\n",
              "    <tr>\n",
              "      <th>9</th>\n",
              "      <td>4</td>\n",
              "      <td>[[  0   0   0   0   0   0   0   0   0   0   0 ...</td>\n",
              "    </tr>\n",
              "  </tbody>\n",
              "</table>\n",
              "</div>\n",
              "      <button class=\"colab-df-convert\" onclick=\"convertToInteractive('df-ee02fc32-f957-4cf3-ba03-f72c42c54507')\"\n",
              "              title=\"Convert this dataframe to an interactive table.\"\n",
              "              style=\"display:none;\">\n",
              "        \n",
              "  <svg xmlns=\"http://www.w3.org/2000/svg\" height=\"24px\"viewBox=\"0 0 24 24\"\n",
              "       width=\"24px\">\n",
              "    <path d=\"M0 0h24v24H0V0z\" fill=\"none\"/>\n",
              "    <path d=\"M18.56 5.44l.94 2.06.94-2.06 2.06-.94-2.06-.94-.94-2.06-.94 2.06-2.06.94zm-11 1L8.5 8.5l.94-2.06 2.06-.94-2.06-.94L8.5 2.5l-.94 2.06-2.06.94zm10 10l.94 2.06.94-2.06 2.06-.94-2.06-.94-.94-2.06-.94 2.06-2.06.94z\"/><path d=\"M17.41 7.96l-1.37-1.37c-.4-.4-.92-.59-1.43-.59-.52 0-1.04.2-1.43.59L10.3 9.45l-7.72 7.72c-.78.78-.78 2.05 0 2.83L4 21.41c.39.39.9.59 1.41.59.51 0 1.02-.2 1.41-.59l7.78-7.78 2.81-2.81c.8-.78.8-2.07 0-2.86zM5.41 20L4 18.59l7.72-7.72 1.47 1.35L5.41 20z\"/>\n",
              "  </svg>\n",
              "      </button>\n",
              "      \n",
              "  <style>\n",
              "    .colab-df-container {\n",
              "      display:flex;\n",
              "      flex-wrap:wrap;\n",
              "      gap: 12px;\n",
              "    }\n",
              "\n",
              "    .colab-df-convert {\n",
              "      background-color: #E8F0FE;\n",
              "      border: none;\n",
              "      border-radius: 50%;\n",
              "      cursor: pointer;\n",
              "      display: none;\n",
              "      fill: #1967D2;\n",
              "      height: 32px;\n",
              "      padding: 0 0 0 0;\n",
              "      width: 32px;\n",
              "    }\n",
              "\n",
              "    .colab-df-convert:hover {\n",
              "      background-color: #E2EBFA;\n",
              "      box-shadow: 0px 1px 2px rgba(60, 64, 67, 0.3), 0px 1px 3px 1px rgba(60, 64, 67, 0.15);\n",
              "      fill: #174EA6;\n",
              "    }\n",
              "\n",
              "    [theme=dark] .colab-df-convert {\n",
              "      background-color: #3B4455;\n",
              "      fill: #D2E3FC;\n",
              "    }\n",
              "\n",
              "    [theme=dark] .colab-df-convert:hover {\n",
              "      background-color: #434B5C;\n",
              "      box-shadow: 0px 1px 3px 1px rgba(0, 0, 0, 0.15);\n",
              "      filter: drop-shadow(0px 1px 2px rgba(0, 0, 0, 0.3));\n",
              "      fill: #FFFFFF;\n",
              "    }\n",
              "  </style>\n",
              "\n",
              "      <script>\n",
              "        const buttonEl =\n",
              "          document.querySelector('#df-ee02fc32-f957-4cf3-ba03-f72c42c54507 button.colab-df-convert');\n",
              "        buttonEl.style.display =\n",
              "          google.colab.kernel.accessAllowed ? 'block' : 'none';\n",
              "\n",
              "        async function convertToInteractive(key) {\n",
              "          const element = document.querySelector('#df-ee02fc32-f957-4cf3-ba03-f72c42c54507');\n",
              "          const dataTable =\n",
              "            await google.colab.kernel.invokeFunction('convertToInteractive',\n",
              "                                                     [key], {});\n",
              "          if (!dataTable) return;\n",
              "\n",
              "          const docLinkHtml = 'Like what you see? Visit the ' +\n",
              "            '<a target=\"_blank\" href=https://colab.research.google.com/notebooks/data_table.ipynb>data table notebook</a>'\n",
              "            + ' to learn more about interactive tables.';\n",
              "          element.innerHTML = '';\n",
              "          dataTable['output_type'] = 'display_data';\n",
              "          await google.colab.output.renderOutput(dataTable, element);\n",
              "          const docLink = document.createElement('div');\n",
              "          docLink.innerHTML = docLinkHtml;\n",
              "          element.appendChild(docLink);\n",
              "        }\n",
              "      </script>\n",
              "    </div>\n",
              "  </div>\n",
              "  "
            ]
          },
          "metadata": {},
          "execution_count": 22
        }
      ]
    },
    {
      "cell_type": "markdown",
      "source": [
        "### 3.1 Size of the Dataset "
      ],
      "metadata": {
        "id": "W-zXs0VB5I3m"
      }
    },
    {
      "cell_type": "code",
      "source": [
        "%%timeit\n",
        "len(df_pandas_train)"
      ],
      "metadata": {
        "colab": {
          "base_uri": "https://localhost:8080/"
        },
        "id": "1HMzj9gF1UVN",
        "outputId": "c236585d-73ae-496a-bc13-8363cbbc657c"
      },
      "execution_count": 23,
      "outputs": [
        {
          "output_type": "stream",
          "name": "stdout",
          "text": [
            "417 ns ± 4.78 ns per loop (mean ± std. dev. of 7 runs, 1000000 loops each)\n"
          ]
        }
      ]
    },
    {
      "cell_type": "code",
      "source": [
        "%%timeit\n",
        "len(df_dask_train)"
      ],
      "metadata": {
        "colab": {
          "base_uri": "https://localhost:8080/"
        },
        "id": "2nbAhp6Q1NUg",
        "outputId": "0924296b-86fa-46eb-d115-c547720396a0"
      },
      "execution_count": 24,
      "outputs": [
        {
          "output_type": "stream",
          "name": "stdout",
          "text": [
            "947 ms ± 4.04 ms per loop (mean ± std. dev. of 7 runs, 1 loop each)\n"
          ]
        }
      ]
    },
    {
      "cell_type": "markdown",
      "source": [
        "### 3.2 Groupby Operations "
      ],
      "metadata": {
        "id": "43blCCnG5RJG"
      }
    },
    {
      "cell_type": "code",
      "source": [
        "%%timeit\n",
        "df_pandas_train.groupby('label').size()"
      ],
      "metadata": {
        "colab": {
          "base_uri": "https://localhost:8080/"
        },
        "id": "isylGu3q2Vop",
        "outputId": "e48b1694-bfc5-4c85-a6ba-59f6b7ae0b2f"
      },
      "execution_count": 25,
      "outputs": [
        {
          "output_type": "stream",
          "name": "stdout",
          "text": [
            "1.13 ms ± 6.27 µs per loop (mean ± std. dev. of 7 runs, 1000 loops each)\n"
          ]
        }
      ]
    },
    {
      "cell_type": "code",
      "source": [
        "%%timeit\n",
        "df_dask_train.groupby('label').size()"
      ],
      "metadata": {
        "colab": {
          "base_uri": "https://localhost:8080/"
        },
        "id": "EsnkmMFZ2eFC",
        "outputId": "cfb22e2f-37d4-4c2f-db23-a1ace0319c23"
      },
      "execution_count": 26,
      "outputs": [
        {
          "output_type": "stream",
          "name": "stdout",
          "text": [
            "2.39 ms ± 51 µs per loop (mean ± std. dev. of 7 runs, 100 loops each)\n"
          ]
        }
      ]
    },
    {
      "cell_type": "code",
      "source": [
        "res = df_dask_train.groupby('label').size()"
      ],
      "metadata": {
        "id": "a7T7wIOTCZmN"
      },
      "execution_count": 27,
      "outputs": []
    },
    {
      "cell_type": "code",
      "source": [
        "res.dask"
      ],
      "metadata": {
        "colab": {
          "base_uri": "https://localhost:8080/",
          "height": 275
        },
        "id": "avlUUKOaCmzJ",
        "outputId": "6104d337-f1b4-45ff-9aca-30ec86a3baca"
      },
      "execution_count": 28,
      "outputs": [
        {
          "output_type": "execute_result",
          "data": {
            "text/plain": [
              "HighLevelGraph with 3 layers.\n",
              "<dask.highlevelgraph.HighLevelGraph object at 0x7f06a49ed640>\n",
              " 0. read-csv-bc73aa6ed16752215132b5c35f803515\n",
              " 1. dataframe-groupby-size-chunk-36e79f62906815c192d9d2d09583d950-785e675a4bfbf0a7ae28d3ab91a76e58\n",
              " 2. dataframe-groupby-size-agg-36e79f62906815c192d9d2d09583d950"
            ],
            "text/html": [
              "<div>\n",
              "    <div>\n",
              "        <div style=\"width: 52px; height: 52px; position: absolute;\">\n",
              "            <svg width=\"76\" height=\"71\" viewBox=\"0 0 76 71\" fill=\"none\" xmlns=\"http://www.w3.org/2000/svg\">\n",
              "                <circle cx=\"61.5\" cy=\"36.5\" r=\"13.5\" style=\"stroke: var(--jp-ui-font-color2, #1D1D1D); fill: var(--jp-layout-color1, #F2F2F2);\" stroke-width=\"2\"/>\n",
              "                <circle cx=\"14.5\" cy=\"14.5\" r=\"13.5\" style=\"stroke: var(--jp-ui-font-color2, #1D1D1D); fill: var(--jp-layout-color1, #F2F2F2);\" stroke-width=\"2\"/>\n",
              "                <circle cx=\"14.5\" cy=\"56.5\" r=\"13.5\" style=\"stroke: var(--jp-ui-font-color2, #1D1D1D); fill: var(--jp-layout-color1, #F2F2F2);\" stroke-width=\"2\"/>\n",
              "                <path d=\"M28 16L30.5 16C33.2614 16 35.5 18.2386 35.5 21L35.5 32.0001C35.5 34.7615 37.7386 37.0001 40.5 37.0001L43 37.0001\" style=\"stroke: var(--jp-ui-font-color2, #1D1D1D);\" stroke-width=\"1.5\"/>\n",
              "                <path d=\"M40.5 37L40.5 37.75L40.5 37.75L40.5 37ZM35.5 42L36.25 42L35.5 42ZM35.5 52L34.75 52L35.5 52ZM30.5 57L30.5 57.75L30.5 57ZM41.5001 36.25L40.5 36.25L40.5 37.75L41.5001 37.75L41.5001 36.25ZM34.75 42L34.75 52L36.25 52L36.25 42L34.75 42ZM30.5 56.25L28.0001 56.25L28.0001 57.75L30.5 57.75L30.5 56.25ZM34.75 52C34.75 54.3472 32.8472 56.25 30.5 56.25L30.5 57.75C33.6756 57.75 36.25 55.1756 36.25 52L34.75 52ZM40.5 36.25C37.3244 36.25 34.75 38.8243 34.75 42L36.25 42C36.25 39.6528 38.1528 37.75 40.5 37.75L40.5 36.25Z\" style=\"fill: var(--jp-ui-font-color2, #1D1D1D);\"/>\n",
              "                <circle cx=\"28\" cy=\"16\" r=\"2.25\" fill=\"#E5E5E5\" style=\"stroke: var(--jp-ui-font-color2, #1D1D1D);\" stroke-width=\"1.5\"/>\n",
              "                <circle cx=\"28\" cy=\"57\" r=\"2.25\" fill=\"#E5E5E5\" style=\"stroke: var(--jp-ui-font-color2, #1D1D1D);\" stroke-width=\"1.5\"/>\n",
              "                <path d=\"M45.25 36.567C45.5833 36.7594 45.5833 37.2406 45.25 37.433L42.25 39.1651C41.9167 39.3575 41.5 39.117 41.5 38.7321V35.2679C41.5 34.883 41.9167 34.6425 42.25 34.8349L45.25 36.567Z\" style=\"fill: var(--jp-ui-font-color2, #1D1D1D);\"/>\n",
              "            </svg>\n",
              "        </div>\n",
              "        <div style=\"margin-left: 64px;\">\n",
              "            <h3 style=\"margin-bottom: 0px;\">HighLevelGraph</h3>\n",
              "            <p style=\"color: var(--jp-ui-font-color2, #5D5851); margin-bottom:0px;\">\n",
              "                HighLevelGraph with 3 layers and 3 keys from all layers.\n",
              "            </p>\n",
              "            \n",
              "            <div style=\"\">\n",
              "    <svg width=\"24\" height=\"24\" viewBox=\"0 0 32 32\" fill=\"none\" xmlns=\"http://www.w3.org/2000/svg\" style=\"position: absolute;\">\n",
              "        \n",
              "        <circle cx=\"16\" cy=\"16\" r=\"14\" fill=\"#8F8F8F\" style=\"stroke: var(--jp-ui-font-color2, #1D1D1D);\" stroke-width=\"2\"/>\n",
              "        \n",
              "    </svg>\n",
              "\n",
              "    <details style=\"margin-left: 32px;\">\n",
              "        <summary style=\"margin-bottom: 10px; margin-top: 10px;\">\n",
              "            <h4 style=\"display: inline;\">Layer1: read-csv</h4>\n",
              "        </summary>\n",
              "        <p style=\"color: var(--jp-ui-font-color2, #5D5851); margin: -0.25em 0px 0px 0px;\">\n",
              "            read-csv-bc73aa6ed16752215132b5c35f803515\n",
              "        </p>\n",
              "\n",
              "        <table>\n",
              "        <tr>\n",
              "            <td>\n",
              "                <table>\n",
              "                \n",
              "                    <tr>\n",
              "                        <th style=\"text-align: left; width: 150px;\">layer_type</th>\n",
              "                        <td style=\"text-align: left;\">DataFrameIOLayer</td>\n",
              "                    </tr>\n",
              "                \n",
              "                    <tr>\n",
              "                        <th style=\"text-align: left; width: 150px;\">is_materialized</th>\n",
              "                        <td style=\"text-align: left;\">True</td>\n",
              "                    </tr>\n",
              "                \n",
              "                    <tr>\n",
              "                        <th style=\"text-align: left; width: 150px;\">number of outputs</th>\n",
              "                        <td style=\"text-align: left;\">1</td>\n",
              "                    </tr>\n",
              "                \n",
              "                    <tr>\n",
              "                        <th style=\"text-align: left; width: 150px;\">npartitions</th>\n",
              "                        <td style=\"text-align: left;\">1</td>\n",
              "                    </tr>\n",
              "                \n",
              "                    <tr>\n",
              "                        <th style=\"text-align: left; width: 150px;\">columns</th>\n",
              "                        <td style=\"text-align: left;\">[&#x27;label&#x27;, &#x27;image&#x27;]</td>\n",
              "                    </tr>\n",
              "                \n",
              "                    <tr>\n",
              "                        <th style=\"text-align: left; width: 150px;\">type</th>\n",
              "                        <td style=\"text-align: left;\">dask.dataframe.core.DataFrame</td>\n",
              "                    </tr>\n",
              "                \n",
              "                    <tr>\n",
              "                        <th style=\"text-align: left; width: 150px;\">dataframe_type</th>\n",
              "                        <td style=\"text-align: left;\">pandas.core.frame.DataFrame</td>\n",
              "                    </tr>\n",
              "                \n",
              "                    <tr>\n",
              "                        <th style=\"text-align: left; width: 150px;\">series_dtypes</th>\n",
              "                        <td style=\"text-align: left;\">{&#x27;label&#x27;: dtype(&#x27;int64&#x27;), &#x27;image&#x27;: dtype(&#x27;O&#x27;)}</td>\n",
              "                    </tr>\n",
              "                \n",
              "                </table>\n",
              "            </td>\n",
              "            <td>\n",
              "                \n",
              "            </td>\n",
              "        </tr>\n",
              "        </table>\n",
              "\n",
              "    </details>\n",
              "</div>\n",
              "            \n",
              "            <div style=\"\">\n",
              "    <svg width=\"24\" height=\"24\" viewBox=\"0 0 32 32\" fill=\"none\" xmlns=\"http://www.w3.org/2000/svg\" style=\"position: absolute;\">\n",
              "        \n",
              "        <circle cx=\"16\" cy=\"16\" r=\"14\" style=\"stroke: var(--jp-ui-font-color2, #1D1D1D); fill: var(--jp-layout-color1, #F2F2F2);\" stroke-width=\"2\" />\n",
              "        \n",
              "    </svg>\n",
              "\n",
              "    <details style=\"margin-left: 32px;\">\n",
              "        <summary style=\"margin-bottom: 10px; margin-top: 10px;\">\n",
              "            <h4 style=\"display: inline;\">Layer2: dataframe-groupby-size-chunk</h4>\n",
              "        </summary>\n",
              "        <p style=\"color: var(--jp-ui-font-color2, #5D5851); margin: -0.25em 0px 0px 0px;\">\n",
              "            dataframe-groupby-size-chunk-36e79f62906815c192d9d2d09583d950-785e675a4bfbf0a7ae28d3ab91a76e58\n",
              "        </p>\n",
              "\n",
              "        <table>\n",
              "        <tr>\n",
              "            <td>\n",
              "                <table>\n",
              "                \n",
              "                    <tr>\n",
              "                        <th style=\"text-align: left; width: 150px;\">layer_type</th>\n",
              "                        <td style=\"text-align: left;\">Blockwise</td>\n",
              "                    </tr>\n",
              "                \n",
              "                    <tr>\n",
              "                        <th style=\"text-align: left; width: 150px;\">is_materialized</th>\n",
              "                        <td style=\"text-align: left;\">False</td>\n",
              "                    </tr>\n",
              "                \n",
              "                    <tr>\n",
              "                        <th style=\"text-align: left; width: 150px;\">number of outputs</th>\n",
              "                        <td style=\"text-align: left;\">1</td>\n",
              "                    </tr>\n",
              "                \n",
              "                    <tr>\n",
              "                        <th style=\"text-align: left; width: 150px;\">npartitions</th>\n",
              "                        <td style=\"text-align: left;\">1</td>\n",
              "                    </tr>\n",
              "                \n",
              "                    <tr>\n",
              "                        <th style=\"text-align: left; width: 150px;\">columns</th>\n",
              "                        <td style=\"text-align: left;\">[&#x27;label&#x27;, &#x27;image&#x27;]</td>\n",
              "                    </tr>\n",
              "                \n",
              "                    <tr>\n",
              "                        <th style=\"text-align: left; width: 150px;\">type</th>\n",
              "                        <td style=\"text-align: left;\">dask.dataframe.core.DataFrame</td>\n",
              "                    </tr>\n",
              "                \n",
              "                    <tr>\n",
              "                        <th style=\"text-align: left; width: 150px;\">dataframe_type</th>\n",
              "                        <td style=\"text-align: left;\">pandas.core.frame.DataFrame</td>\n",
              "                    </tr>\n",
              "                \n",
              "                    <tr>\n",
              "                        <th style=\"text-align: left; width: 150px;\">series_dtypes</th>\n",
              "                        <td style=\"text-align: left;\">{&#x27;label&#x27;: dtype(&#x27;int64&#x27;), &#x27;image&#x27;: dtype(&#x27;O&#x27;)}</td>\n",
              "                    </tr>\n",
              "                \n",
              "                </table>\n",
              "            </td>\n",
              "            <td>\n",
              "                \n",
              "            </td>\n",
              "        </tr>\n",
              "        </table>\n",
              "\n",
              "    </details>\n",
              "</div>\n",
              "            \n",
              "            <div style=\"\">\n",
              "    <svg width=\"24\" height=\"24\" viewBox=\"0 0 32 32\" fill=\"none\" xmlns=\"http://www.w3.org/2000/svg\" style=\"position: absolute;\">\n",
              "        \n",
              "        <circle cx=\"16\" cy=\"16\" r=\"14\" style=\"stroke: var(--jp-ui-font-color2, #1D1D1D); fill: var(--jp-layout-color1, #F2F2F2);\" stroke-width=\"2\" />\n",
              "        \n",
              "    </svg>\n",
              "\n",
              "    <details style=\"margin-left: 32px;\">\n",
              "        <summary style=\"margin-bottom: 10px; margin-top: 10px;\">\n",
              "            <h4 style=\"display: inline;\">Layer3: dataframe-groupby-size-agg</h4>\n",
              "        </summary>\n",
              "        <p style=\"color: var(--jp-ui-font-color2, #5D5851); margin: -0.25em 0px 0px 0px;\">\n",
              "            dataframe-groupby-size-agg-36e79f62906815c192d9d2d09583d950\n",
              "        </p>\n",
              "\n",
              "        <table>\n",
              "        <tr>\n",
              "            <td>\n",
              "                <table>\n",
              "                \n",
              "                    <tr>\n",
              "                        <th style=\"text-align: left; width: 150px;\">layer_type</th>\n",
              "                        <td style=\"text-align: left;\">DataFrameTreeReduction</td>\n",
              "                    </tr>\n",
              "                \n",
              "                    <tr>\n",
              "                        <th style=\"text-align: left; width: 150px;\">is_materialized</th>\n",
              "                        <td style=\"text-align: left;\">False</td>\n",
              "                    </tr>\n",
              "                \n",
              "                    <tr>\n",
              "                        <th style=\"text-align: left; width: 150px;\">number of outputs</th>\n",
              "                        <td style=\"text-align: left;\">1</td>\n",
              "                    </tr>\n",
              "                \n",
              "                </table>\n",
              "            </td>\n",
              "            <td>\n",
              "                \n",
              "            </td>\n",
              "        </tr>\n",
              "        </table>\n",
              "\n",
              "    </details>\n",
              "</div>\n",
              "            \n",
              "        </div>\n",
              "    </div>\n",
              "</div>"
            ]
          },
          "metadata": {},
          "execution_count": 28
        }
      ]
    },
    {
      "cell_type": "markdown",
      "source": [
        "### 3.3 Parallelize Execution "
      ],
      "metadata": {
        "id": "Tdymv_FLogSb"
      }
    },
    {
      "cell_type": "code",
      "source": [
        "!cat /proc/cpuinfo"
      ],
      "metadata": {
        "colab": {
          "base_uri": "https://localhost:8080/"
        },
        "id": "vYo2L8w8M_7i",
        "outputId": "53f5dc3d-5c6d-412d-e164-79549f2d34bc"
      },
      "execution_count": 29,
      "outputs": [
        {
          "output_type": "stream",
          "name": "stdout",
          "text": [
            "processor\t: 0\n",
            "vendor_id\t: GenuineIntel\n",
            "cpu family\t: 6\n",
            "model\t\t: 79\n",
            "model name\t: Intel(R) Xeon(R) CPU @ 2.20GHz\n",
            "stepping\t: 0\n",
            "microcode\t: 0xffffffff\n",
            "cpu MHz\t\t: 2199.998\n",
            "cache size\t: 56320 KB\n",
            "physical id\t: 0\n",
            "siblings\t: 8\n",
            "core id\t\t: 0\n",
            "cpu cores\t: 4\n",
            "apicid\t\t: 0\n",
            "initial apicid\t: 0\n",
            "fpu\t\t: yes\n",
            "fpu_exception\t: yes\n",
            "cpuid level\t: 13\n",
            "wp\t\t: yes\n",
            "flags\t\t: fpu vme de pse tsc msr pae mce cx8 apic sep mtrr pge mca cmov pat pse36 clflush mmx fxsr sse sse2 ss ht syscall nx pdpe1gb rdtscp lm constant_tsc rep_good nopl xtopology nonstop_tsc cpuid tsc_known_freq pni pclmulqdq ssse3 fma cx16 pcid sse4_1 sse4_2 x2apic movbe popcnt aes xsave avx f16c rdrand hypervisor lahf_lm abm 3dnowprefetch invpcid_single ssbd ibrs ibpb stibp fsgsbase tsc_adjust bmi1 hle avx2 smep bmi2 erms invpcid rtm rdseed adx smap xsaveopt arat md_clear arch_capabilities\n",
            "bugs\t\t: cpu_meltdown spectre_v1 spectre_v2 spec_store_bypass l1tf mds swapgs taa mmio_stale_data retbleed\n",
            "bogomips\t: 4399.99\n",
            "clflush size\t: 64\n",
            "cache_alignment\t: 64\n",
            "address sizes\t: 46 bits physical, 48 bits virtual\n",
            "power management:\n",
            "\n",
            "processor\t: 1\n",
            "vendor_id\t: GenuineIntel\n",
            "cpu family\t: 6\n",
            "model\t\t: 79\n",
            "model name\t: Intel(R) Xeon(R) CPU @ 2.20GHz\n",
            "stepping\t: 0\n",
            "microcode\t: 0xffffffff\n",
            "cpu MHz\t\t: 2199.998\n",
            "cache size\t: 56320 KB\n",
            "physical id\t: 0\n",
            "siblings\t: 8\n",
            "core id\t\t: 1\n",
            "cpu cores\t: 4\n",
            "apicid\t\t: 2\n",
            "initial apicid\t: 2\n",
            "fpu\t\t: yes\n",
            "fpu_exception\t: yes\n",
            "cpuid level\t: 13\n",
            "wp\t\t: yes\n",
            "flags\t\t: fpu vme de pse tsc msr pae mce cx8 apic sep mtrr pge mca cmov pat pse36 clflush mmx fxsr sse sse2 ss ht syscall nx pdpe1gb rdtscp lm constant_tsc rep_good nopl xtopology nonstop_tsc cpuid tsc_known_freq pni pclmulqdq ssse3 fma cx16 pcid sse4_1 sse4_2 x2apic movbe popcnt aes xsave avx f16c rdrand hypervisor lahf_lm abm 3dnowprefetch invpcid_single ssbd ibrs ibpb stibp fsgsbase tsc_adjust bmi1 hle avx2 smep bmi2 erms invpcid rtm rdseed adx smap xsaveopt arat md_clear arch_capabilities\n",
            "bugs\t\t: cpu_meltdown spectre_v1 spectre_v2 spec_store_bypass l1tf mds swapgs taa mmio_stale_data retbleed\n",
            "bogomips\t: 4399.99\n",
            "clflush size\t: 64\n",
            "cache_alignment\t: 64\n",
            "address sizes\t: 46 bits physical, 48 bits virtual\n",
            "power management:\n",
            "\n",
            "processor\t: 2\n",
            "vendor_id\t: GenuineIntel\n",
            "cpu family\t: 6\n",
            "model\t\t: 79\n",
            "model name\t: Intel(R) Xeon(R) CPU @ 2.20GHz\n",
            "stepping\t: 0\n",
            "microcode\t: 0xffffffff\n",
            "cpu MHz\t\t: 2199.998\n",
            "cache size\t: 56320 KB\n",
            "physical id\t: 0\n",
            "siblings\t: 8\n",
            "core id\t\t: 2\n",
            "cpu cores\t: 4\n",
            "apicid\t\t: 4\n",
            "initial apicid\t: 4\n",
            "fpu\t\t: yes\n",
            "fpu_exception\t: yes\n",
            "cpuid level\t: 13\n",
            "wp\t\t: yes\n",
            "flags\t\t: fpu vme de pse tsc msr pae mce cx8 apic sep mtrr pge mca cmov pat pse36 clflush mmx fxsr sse sse2 ss ht syscall nx pdpe1gb rdtscp lm constant_tsc rep_good nopl xtopology nonstop_tsc cpuid tsc_known_freq pni pclmulqdq ssse3 fma cx16 pcid sse4_1 sse4_2 x2apic movbe popcnt aes xsave avx f16c rdrand hypervisor lahf_lm abm 3dnowprefetch invpcid_single ssbd ibrs ibpb stibp fsgsbase tsc_adjust bmi1 hle avx2 smep bmi2 erms invpcid rtm rdseed adx smap xsaveopt arat md_clear arch_capabilities\n",
            "bugs\t\t: cpu_meltdown spectre_v1 spectre_v2 spec_store_bypass l1tf mds swapgs taa mmio_stale_data retbleed\n",
            "bogomips\t: 4399.99\n",
            "clflush size\t: 64\n",
            "cache_alignment\t: 64\n",
            "address sizes\t: 46 bits physical, 48 bits virtual\n",
            "power management:\n",
            "\n",
            "processor\t: 3\n",
            "vendor_id\t: GenuineIntel\n",
            "cpu family\t: 6\n",
            "model\t\t: 79\n",
            "model name\t: Intel(R) Xeon(R) CPU @ 2.20GHz\n",
            "stepping\t: 0\n",
            "microcode\t: 0xffffffff\n",
            "cpu MHz\t\t: 2199.998\n",
            "cache size\t: 56320 KB\n",
            "physical id\t: 0\n",
            "siblings\t: 8\n",
            "core id\t\t: 3\n",
            "cpu cores\t: 4\n",
            "apicid\t\t: 6\n",
            "initial apicid\t: 6\n",
            "fpu\t\t: yes\n",
            "fpu_exception\t: yes\n",
            "cpuid level\t: 13\n",
            "wp\t\t: yes\n",
            "flags\t\t: fpu vme de pse tsc msr pae mce cx8 apic sep mtrr pge mca cmov pat pse36 clflush mmx fxsr sse sse2 ss ht syscall nx pdpe1gb rdtscp lm constant_tsc rep_good nopl xtopology nonstop_tsc cpuid tsc_known_freq pni pclmulqdq ssse3 fma cx16 pcid sse4_1 sse4_2 x2apic movbe popcnt aes xsave avx f16c rdrand hypervisor lahf_lm abm 3dnowprefetch invpcid_single ssbd ibrs ibpb stibp fsgsbase tsc_adjust bmi1 hle avx2 smep bmi2 erms invpcid rtm rdseed adx smap xsaveopt arat md_clear arch_capabilities\n",
            "bugs\t\t: cpu_meltdown spectre_v1 spectre_v2 spec_store_bypass l1tf mds swapgs taa mmio_stale_data retbleed\n",
            "bogomips\t: 4399.99\n",
            "clflush size\t: 64\n",
            "cache_alignment\t: 64\n",
            "address sizes\t: 46 bits physical, 48 bits virtual\n",
            "power management:\n",
            "\n",
            "processor\t: 4\n",
            "vendor_id\t: GenuineIntel\n",
            "cpu family\t: 6\n",
            "model\t\t: 79\n",
            "model name\t: Intel(R) Xeon(R) CPU @ 2.20GHz\n",
            "stepping\t: 0\n",
            "microcode\t: 0xffffffff\n",
            "cpu MHz\t\t: 2199.998\n",
            "cache size\t: 56320 KB\n",
            "physical id\t: 0\n",
            "siblings\t: 8\n",
            "core id\t\t: 0\n",
            "cpu cores\t: 4\n",
            "apicid\t\t: 1\n",
            "initial apicid\t: 1\n",
            "fpu\t\t: yes\n",
            "fpu_exception\t: yes\n",
            "cpuid level\t: 13\n",
            "wp\t\t: yes\n",
            "flags\t\t: fpu vme de pse tsc msr pae mce cx8 apic sep mtrr pge mca cmov pat pse36 clflush mmx fxsr sse sse2 ss ht syscall nx pdpe1gb rdtscp lm constant_tsc rep_good nopl xtopology nonstop_tsc cpuid tsc_known_freq pni pclmulqdq ssse3 fma cx16 pcid sse4_1 sse4_2 x2apic movbe popcnt aes xsave avx f16c rdrand hypervisor lahf_lm abm 3dnowprefetch invpcid_single ssbd ibrs ibpb stibp fsgsbase tsc_adjust bmi1 hle avx2 smep bmi2 erms invpcid rtm rdseed adx smap xsaveopt arat md_clear arch_capabilities\n",
            "bugs\t\t: cpu_meltdown spectre_v1 spectre_v2 spec_store_bypass l1tf mds swapgs taa mmio_stale_data retbleed\n",
            "bogomips\t: 4399.99\n",
            "clflush size\t: 64\n",
            "cache_alignment\t: 64\n",
            "address sizes\t: 46 bits physical, 48 bits virtual\n",
            "power management:\n",
            "\n",
            "processor\t: 5\n",
            "vendor_id\t: GenuineIntel\n",
            "cpu family\t: 6\n",
            "model\t\t: 79\n",
            "model name\t: Intel(R) Xeon(R) CPU @ 2.20GHz\n",
            "stepping\t: 0\n",
            "microcode\t: 0xffffffff\n",
            "cpu MHz\t\t: 2199.998\n",
            "cache size\t: 56320 KB\n",
            "physical id\t: 0\n",
            "siblings\t: 8\n",
            "core id\t\t: 1\n",
            "cpu cores\t: 4\n",
            "apicid\t\t: 3\n",
            "initial apicid\t: 3\n",
            "fpu\t\t: yes\n",
            "fpu_exception\t: yes\n",
            "cpuid level\t: 13\n",
            "wp\t\t: yes\n",
            "flags\t\t: fpu vme de pse tsc msr pae mce cx8 apic sep mtrr pge mca cmov pat pse36 clflush mmx fxsr sse sse2 ss ht syscall nx pdpe1gb rdtscp lm constant_tsc rep_good nopl xtopology nonstop_tsc cpuid tsc_known_freq pni pclmulqdq ssse3 fma cx16 pcid sse4_1 sse4_2 x2apic movbe popcnt aes xsave avx f16c rdrand hypervisor lahf_lm abm 3dnowprefetch invpcid_single ssbd ibrs ibpb stibp fsgsbase tsc_adjust bmi1 hle avx2 smep bmi2 erms invpcid rtm rdseed adx smap xsaveopt arat md_clear arch_capabilities\n",
            "bugs\t\t: cpu_meltdown spectre_v1 spectre_v2 spec_store_bypass l1tf mds swapgs taa mmio_stale_data retbleed\n",
            "bogomips\t: 4399.99\n",
            "clflush size\t: 64\n",
            "cache_alignment\t: 64\n",
            "address sizes\t: 46 bits physical, 48 bits virtual\n",
            "power management:\n",
            "\n",
            "processor\t: 6\n",
            "vendor_id\t: GenuineIntel\n",
            "cpu family\t: 6\n",
            "model\t\t: 79\n",
            "model name\t: Intel(R) Xeon(R) CPU @ 2.20GHz\n",
            "stepping\t: 0\n",
            "microcode\t: 0xffffffff\n",
            "cpu MHz\t\t: 2199.998\n",
            "cache size\t: 56320 KB\n",
            "physical id\t: 0\n",
            "siblings\t: 8\n",
            "core id\t\t: 2\n",
            "cpu cores\t: 4\n",
            "apicid\t\t: 5\n",
            "initial apicid\t: 5\n",
            "fpu\t\t: yes\n",
            "fpu_exception\t: yes\n",
            "cpuid level\t: 13\n",
            "wp\t\t: yes\n",
            "flags\t\t: fpu vme de pse tsc msr pae mce cx8 apic sep mtrr pge mca cmov pat pse36 clflush mmx fxsr sse sse2 ss ht syscall nx pdpe1gb rdtscp lm constant_tsc rep_good nopl xtopology nonstop_tsc cpuid tsc_known_freq pni pclmulqdq ssse3 fma cx16 pcid sse4_1 sse4_2 x2apic movbe popcnt aes xsave avx f16c rdrand hypervisor lahf_lm abm 3dnowprefetch invpcid_single ssbd ibrs ibpb stibp fsgsbase tsc_adjust bmi1 hle avx2 smep bmi2 erms invpcid rtm rdseed adx smap xsaveopt arat md_clear arch_capabilities\n",
            "bugs\t\t: cpu_meltdown spectre_v1 spectre_v2 spec_store_bypass l1tf mds swapgs taa mmio_stale_data retbleed\n",
            "bogomips\t: 4399.99\n",
            "clflush size\t: 64\n",
            "cache_alignment\t: 64\n",
            "address sizes\t: 46 bits physical, 48 bits virtual\n",
            "power management:\n",
            "\n",
            "processor\t: 7\n",
            "vendor_id\t: GenuineIntel\n",
            "cpu family\t: 6\n",
            "model\t\t: 79\n",
            "model name\t: Intel(R) Xeon(R) CPU @ 2.20GHz\n",
            "stepping\t: 0\n",
            "microcode\t: 0xffffffff\n",
            "cpu MHz\t\t: 2199.998\n",
            "cache size\t: 56320 KB\n",
            "physical id\t: 0\n",
            "siblings\t: 8\n",
            "core id\t\t: 3\n",
            "cpu cores\t: 4\n",
            "apicid\t\t: 7\n",
            "initial apicid\t: 7\n",
            "fpu\t\t: yes\n",
            "fpu_exception\t: yes\n",
            "cpuid level\t: 13\n",
            "wp\t\t: yes\n",
            "flags\t\t: fpu vme de pse tsc msr pae mce cx8 apic sep mtrr pge mca cmov pat pse36 clflush mmx fxsr sse sse2 ss ht syscall nx pdpe1gb rdtscp lm constant_tsc rep_good nopl xtopology nonstop_tsc cpuid tsc_known_freq pni pclmulqdq ssse3 fma cx16 pcid sse4_1 sse4_2 x2apic movbe popcnt aes xsave avx f16c rdrand hypervisor lahf_lm abm 3dnowprefetch invpcid_single ssbd ibrs ibpb stibp fsgsbase tsc_adjust bmi1 hle avx2 smep bmi2 erms invpcid rtm rdseed adx smap xsaveopt arat md_clear arch_capabilities\n",
            "bugs\t\t: cpu_meltdown spectre_v1 spectre_v2 spec_store_bypass l1tf mds swapgs taa mmio_stale_data retbleed\n",
            "bogomips\t: 4399.99\n",
            "clflush size\t: 64\n",
            "cache_alignment\t: 64\n",
            "address sizes\t: 46 bits physical, 48 bits virtual\n",
            "power management:\n",
            "\n"
          ]
        }
      ]
    },
    {
      "cell_type": "code",
      "source": [
        "from concurrent.futures import ThreadPoolExecutor\n",
        "import dask"
      ],
      "metadata": {
        "id": "dVB_ppEMEQOW"
      },
      "execution_count": 36,
      "outputs": []
    },
    {
      "cell_type": "code",
      "source": [
        "%%timeit \n",
        "with dask.config.set(pool=ThreadPoolExecutor(4)):\n",
        "  df_dask_train.groupby('label').size()"
      ],
      "metadata": {
        "colab": {
          "base_uri": "https://localhost:8080/"
        },
        "id": "-2k4gA01D_BX",
        "outputId": "9b64abaf-62c9-40fd-e89d-30ef1b27241b"
      },
      "execution_count": 37,
      "outputs": [
        {
          "output_type": "stream",
          "name": "stdout",
          "text": [
            "2.54 ms ± 148 µs per loop (mean ± std. dev. of 7 runs, 100 loops each)\n"
          ]
        }
      ]
    },
    {
      "cell_type": "code",
      "source": [
        "%%timeit \n",
        "with dask.config.set(pool=ThreadPoolExecutor(6)):\n",
        "  df_dask_train.groupby('label').size()"
      ],
      "metadata": {
        "colab": {
          "base_uri": "https://localhost:8080/"
        },
        "id": "EF5eI-wzNMo1",
        "outputId": "6e1e2e87-e232-49b0-effa-c9564a290737"
      },
      "execution_count": 38,
      "outputs": [
        {
          "output_type": "stream",
          "name": "stdout",
          "text": [
            "2.43 ms ± 57.9 µs per loop (mean ± std. dev. of 7 runs, 100 loops each)\n"
          ]
        }
      ]
    },
    {
      "cell_type": "code",
      "source": [
        "%%timeit \n",
        "with dask.config.set(pool=ThreadPoolExecutor(8)):\n",
        "  df_dask_train.groupby('label').size()"
      ],
      "metadata": {
        "colab": {
          "base_uri": "https://localhost:8080/"
        },
        "id": "ZV-IZENlNQ1J",
        "outputId": "6f0c4731-6849-4f72-ea9a-ed46d9dbd5a4"
      },
      "execution_count": 39,
      "outputs": [
        {
          "output_type": "stream",
          "name": "stdout",
          "text": [
            "2.51 ms ± 75.5 µs per loop (mean ± std. dev. of 7 runs, 100 loops each)\n"
          ]
        }
      ]
    },
    {
      "cell_type": "code",
      "source": [
        "%%timeit \n",
        "with dask.config.set(pool=ThreadPoolExecutor(12)):\n",
        "  df_dask_train.groupby('label').size()"
      ],
      "metadata": {
        "colab": {
          "base_uri": "https://localhost:8080/"
        },
        "id": "GzAu1X7QNWS8",
        "outputId": "4a73b28f-a163-43ed-8f9e-fa913ac8b75b"
      },
      "execution_count": 40,
      "outputs": [
        {
          "output_type": "stream",
          "name": "stdout",
          "text": [
            "2.45 ms ± 63.8 µs per loop (mean ± std. dev. of 7 runs, 100 loops each)\n"
          ]
        }
      ]
    },
    {
      "cell_type": "code",
      "source": [
        "%%timeit \n",
        "with dask.config.set(num_workers=4):\n",
        "      df_dask_train.groupby('label').size()"
      ],
      "metadata": {
        "colab": {
          "base_uri": "https://localhost:8080/"
        },
        "id": "QkCJzH-jEJnP",
        "outputId": "116c98c4-5470-4642-c5e9-09cc40025876"
      },
      "execution_count": 41,
      "outputs": [
        {
          "output_type": "stream",
          "name": "stdout",
          "text": [
            "2.4 ms ± 91.6 µs per loop (mean ± std. dev. of 7 runs, 100 loops each)\n"
          ]
        }
      ]
    },
    {
      "cell_type": "code",
      "source": [
        "%%timeit \n",
        "with dask.config.set(num_workers=6):\n",
        "      df_dask_train.groupby('label').size()"
      ],
      "metadata": {
        "colab": {
          "base_uri": "https://localhost:8080/"
        },
        "id": "TjG4N_uFNmCG",
        "outputId": "db02e4b0-b7bf-48ec-ed8a-295853fc98c6"
      },
      "execution_count": 42,
      "outputs": [
        {
          "output_type": "stream",
          "name": "stdout",
          "text": [
            "2.42 ms ± 80.7 µs per loop (mean ± std. dev. of 7 runs, 100 loops each)\n"
          ]
        }
      ]
    },
    {
      "cell_type": "code",
      "source": [
        "%%timeit \n",
        "with dask.config.set(num_workers=8):\n",
        "      df_dask_train.groupby('label').size()"
      ],
      "metadata": {
        "colab": {
          "base_uri": "https://localhost:8080/"
        },
        "id": "kFANGRZVNrCP",
        "outputId": "69a33e0e-a71d-4a06-be4a-11049434a668"
      },
      "execution_count": 43,
      "outputs": [
        {
          "output_type": "stream",
          "name": "stdout",
          "text": [
            "2.43 ms ± 58.2 µs per loop (mean ± std. dev. of 7 runs, 100 loops each)\n"
          ]
        }
      ]
    },
    {
      "cell_type": "code",
      "source": [
        "%%timeit \n",
        "with dask.config.set(num_workers=12):\n",
        "      df_dask_train.groupby('label').size()"
      ],
      "metadata": {
        "colab": {
          "base_uri": "https://localhost:8080/"
        },
        "id": "gthdzpD-Nvr7",
        "outputId": "ed1db0dc-eec4-4106-b8a4-0213e6fba591"
      },
      "execution_count": 44,
      "outputs": [
        {
          "output_type": "stream",
          "name": "stdout",
          "text": [
            "2.43 ms ± 35.4 µs per loop (mean ± std. dev. of 7 runs, 100 loops each)\n"
          ]
        }
      ]
    },
    {
      "cell_type": "markdown",
      "source": [
        "### Dask DataFrame to and from Pandas DataFrame, "
      ],
      "metadata": {
        "id": "D1Jg8J01N-kZ"
      }
    },
    {
      "cell_type": "code",
      "source": [
        "type(df_dask_train)"
      ],
      "metadata": {
        "colab": {
          "base_uri": "https://localhost:8080/"
        },
        "id": "9P1tc3P4OOiQ",
        "outputId": "c23ee6e8-7024-4678-bcc4-8bae2250b6eb"
      },
      "execution_count": 45,
      "outputs": [
        {
          "output_type": "execute_result",
          "data": {
            "text/plain": [
              "dask.dataframe.core.DataFrame"
            ]
          },
          "metadata": {},
          "execution_count": 45
        }
      ]
    },
    {
      "cell_type": "code",
      "source": [
        "%%timeit\n",
        "df_dask2pandas_train = pd.DataFrame(df_dask_train)"
      ],
      "metadata": {
        "colab": {
          "base_uri": "https://localhost:8080/"
        },
        "id": "ccgVaQ36OiMv",
        "outputId": "4b498555-98df-43d6-c86e-e12af3ceea5a"
      },
      "execution_count": 46,
      "outputs": [
        {
          "output_type": "stream",
          "name": "stdout",
          "text": [
            "1.96 s ± 45 ms per loop (mean ± std. dev. of 7 runs, 1 loop each)\n"
          ]
        }
      ]
    },
    {
      "cell_type": "code",
      "source": [
        "%%timeit\n",
        "df_dask2pandas_train = df_dask_train.compute()"
      ],
      "metadata": {
        "colab": {
          "base_uri": "https://localhost:8080/"
        },
        "id": "E5fvIyxTOrq2",
        "outputId": "c680bf24-50e4-4335-f532-ff7415defd9c"
      },
      "execution_count": 47,
      "outputs": [
        {
          "output_type": "stream",
          "name": "stdout",
          "text": [
            "1.92 s ± 9.71 ms per loop (mean ± std. dev. of 7 runs, 1 loop each)\n"
          ]
        }
      ]
    },
    {
      "cell_type": "code",
      "source": [
        "df_dask2pandas_train = df_dask_train.compute()\n",
        "type(df_dask2pandas_train)"
      ],
      "metadata": {
        "colab": {
          "base_uri": "https://localhost:8080/"
        },
        "id": "Pj9QorQ8OS-Y",
        "outputId": "f5902c61-6891-433f-e6c8-5f0050d359d9"
      },
      "execution_count": 48,
      "outputs": [
        {
          "output_type": "execute_result",
          "data": {
            "text/plain": [
              "pandas.core.frame.DataFrame"
            ]
          },
          "metadata": {},
          "execution_count": 48
        }
      ]
    },
    {
      "cell_type": "code",
      "source": [
        "type(df_pandas_train)"
      ],
      "metadata": {
        "colab": {
          "base_uri": "https://localhost:8080/"
        },
        "id": "NyV7eFMqO0au",
        "outputId": "1110c2ec-1e3a-4565-8029-0283b44af929"
      },
      "execution_count": 49,
      "outputs": [
        {
          "output_type": "execute_result",
          "data": {
            "text/plain": [
              "pandas.core.frame.DataFrame"
            ]
          },
          "metadata": {},
          "execution_count": 49
        }
      ]
    },
    {
      "cell_type": "code",
      "source": [
        "df_pandas_train.info()"
      ],
      "metadata": {
        "colab": {
          "base_uri": "https://localhost:8080/"
        },
        "id": "H94VwMbDP4JK",
        "outputId": "c21651f7-cbdc-413b-9a7a-8f49182ebcd7"
      },
      "execution_count": 50,
      "outputs": [
        {
          "output_type": "stream",
          "name": "stdout",
          "text": [
            "<class 'pandas.core.frame.DataFrame'>\n",
            "RangeIndex: 60000 entries, 0 to 59999\n",
            "Data columns (total 2 columns):\n",
            " #   Column  Non-Null Count  Dtype \n",
            "---  ------  --------------  ----- \n",
            " 0   label   60000 non-null  int64 \n",
            " 1   image   60000 non-null  object\n",
            "dtypes: int64(1), object(1)\n",
            "memory usage: 937.6+ KB\n"
          ]
        }
      ]
    },
    {
      "cell_type": "code",
      "source": [
        "df_pandas_train.memory_usage()"
      ],
      "metadata": {
        "colab": {
          "base_uri": "https://localhost:8080/"
        },
        "id": "7UmjQ-_XRNAi",
        "outputId": "aa68ea00-12cf-4fca-e945-68011abe92e3"
      },
      "execution_count": 51,
      "outputs": [
        {
          "output_type": "execute_result",
          "data": {
            "text/plain": [
              "Index       128\n",
              "label    480000\n",
              "image    480000\n",
              "dtype: int64"
            ]
          },
          "metadata": {},
          "execution_count": 51
        }
      ]
    },
    {
      "cell_type": "code",
      "source": [
        "# getting the size of the dataframe \n",
        "df_pandas_train.memory_usage().sum() "
      ],
      "metadata": {
        "colab": {
          "base_uri": "https://localhost:8080/"
        },
        "id": "thyyM8qzRQ0x",
        "outputId": "6df7dc7e-5b9e-4bbe-8718-b615db06932a"
      },
      "execution_count": 52,
      "outputs": [
        {
          "output_type": "execute_result",
          "data": {
            "text/plain": [
              "960128"
            ]
          },
          "metadata": {},
          "execution_count": 52
        }
      ]
    },
    {
      "cell_type": "code",
      "source": [
        "# getting the size of the dataframe: iteratively computes the size of the objects within the columns\n",
        "df_pandas_train.memory_usage(deep=True)"
      ],
      "metadata": {
        "colab": {
          "base_uri": "https://localhost:8080/"
        },
        "id": "FE3XdnL4PE0M",
        "outputId": "2445cc37-8bec-45a7-cc21-d09af3904395"
      },
      "execution_count": 53,
      "outputs": [
        {
          "output_type": "execute_result",
          "data": {
            "text/plain": [
              "Index          128\n",
              "label       480000\n",
              "image    199980000\n",
              "dtype: int64"
            ]
          },
          "metadata": {},
          "execution_count": 53
        }
      ]
    },
    {
      "cell_type": "code",
      "source": [
        "import sys \n",
        "sys.getsizeof(df_pandas_train), df_pandas_train.memory_usage(deep=True).sum()"
      ],
      "metadata": {
        "colab": {
          "base_uri": "https://localhost:8080/"
        },
        "id": "eY1sW4oyPqbv",
        "outputId": "8041d0a4-4cf6-4b43-af99-0e3b39b2dd1b"
      },
      "execution_count": 54,
      "outputs": [
        {
          "output_type": "execute_result",
          "data": {
            "text/plain": [
              "(200460144, 200460128)"
            ]
          },
          "metadata": {},
          "execution_count": 54
        }
      ]
    },
    {
      "cell_type": "code",
      "source": [
        "df_dask_train.info()"
      ],
      "metadata": {
        "colab": {
          "base_uri": "https://localhost:8080/"
        },
        "id": "L9uw87yGPJMc",
        "outputId": "9d058bc5-d3d0-47d4-84bd-572d7762bfdf"
      },
      "execution_count": 55,
      "outputs": [
        {
          "output_type": "stream",
          "name": "stdout",
          "text": [
            "<class 'dask.dataframe.core.DataFrame'>\n",
            "Columns: 2 entries, label to image\n",
            "dtypes: object(1), int64(1)"
          ]
        }
      ]
    },
    {
      "cell_type": "code",
      "source": [
        "%%timeit\n",
        "df_pandas2dask_train = dd.from_pandas(df_pandas_train, npartitions=3)"
      ],
      "metadata": {
        "colab": {
          "base_uri": "https://localhost:8080/"
        },
        "id": "woQ85nYOTpG0",
        "outputId": "5b8489fd-6066-430f-b2c7-266feea2a48f"
      },
      "execution_count": 56,
      "outputs": [
        {
          "output_type": "stream",
          "name": "stdout",
          "text": [
            "524 ms ± 2.88 ms per loop (mean ± std. dev. of 7 runs, 1 loop each)\n"
          ]
        }
      ]
    },
    {
      "cell_type": "code",
      "source": [
        "df_pandas2dask_train = dd.from_pandas(df_pandas_train, npartitions=3)\n",
        "sys.getsizeof(df_pandas2dask_train)"
      ],
      "metadata": {
        "colab": {
          "base_uri": "https://localhost:8080/"
        },
        "id": "3u1P1P9GhrZ2",
        "outputId": "5632dcfa-790d-4e6d-965c-e767d5b0f330"
      },
      "execution_count": 57,
      "outputs": [
        {
          "output_type": "execute_result",
          "data": {
            "text/plain": [
              "48"
            ]
          },
          "metadata": {},
          "execution_count": 57
        }
      ]
    },
    {
      "cell_type": "code",
      "source": [
        "df_pandas2dask_train = dd.from_pandas(df_pandas_train, npartitions=3)\n",
        "df_pandas2dask_train"
      ],
      "metadata": {
        "colab": {
          "base_uri": "https://localhost:8080/",
          "height": 241
        },
        "id": "BvUFRZHsUv_e",
        "outputId": "34c38278-a2fa-4c2f-836d-a93b21fada51"
      },
      "execution_count": 58,
      "outputs": [
        {
          "output_type": "execute_result",
          "data": {
            "text/plain": [
              "Dask DataFrame Structure:\n",
              "               label   image\n",
              "npartitions=3               \n",
              "0              int64  object\n",
              "20000            ...     ...\n",
              "40000            ...     ...\n",
              "59999            ...     ...\n",
              "Dask Name: from_pandas, 3 tasks"
            ],
            "text/html": [
              "<div><strong>Dask DataFrame Structure:</strong></div>\n",
              "<div>\n",
              "<style scoped>\n",
              "    .dataframe tbody tr th:only-of-type {\n",
              "        vertical-align: middle;\n",
              "    }\n",
              "\n",
              "    .dataframe tbody tr th {\n",
              "        vertical-align: top;\n",
              "    }\n",
              "\n",
              "    .dataframe thead th {\n",
              "        text-align: right;\n",
              "    }\n",
              "</style>\n",
              "<table border=\"1\" class=\"dataframe\">\n",
              "  <thead>\n",
              "    <tr style=\"text-align: right;\">\n",
              "      <th></th>\n",
              "      <th>label</th>\n",
              "      <th>image</th>\n",
              "    </tr>\n",
              "    <tr>\n",
              "      <th>npartitions=3</th>\n",
              "      <th></th>\n",
              "      <th></th>\n",
              "    </tr>\n",
              "  </thead>\n",
              "  <tbody>\n",
              "    <tr>\n",
              "      <th>0</th>\n",
              "      <td>int64</td>\n",
              "      <td>object</td>\n",
              "    </tr>\n",
              "    <tr>\n",
              "      <th>20000</th>\n",
              "      <td>...</td>\n",
              "      <td>...</td>\n",
              "    </tr>\n",
              "    <tr>\n",
              "      <th>40000</th>\n",
              "      <td>...</td>\n",
              "      <td>...</td>\n",
              "    </tr>\n",
              "    <tr>\n",
              "      <th>59999</th>\n",
              "      <td>...</td>\n",
              "      <td>...</td>\n",
              "    </tr>\n",
              "  </tbody>\n",
              "</table>\n",
              "</div>\n",
              "<div>Dask Name: from_pandas, 3 tasks</div>"
            ]
          },
          "metadata": {},
          "execution_count": 58
        }
      ]
    },
    {
      "cell_type": "code",
      "source": [
        "%%timeit \n",
        "with dask.config.set(pool=ThreadPoolExecutor(8)):\n",
        "  df_pandas2dask_train.groupby('label').size()"
      ],
      "metadata": {
        "colab": {
          "base_uri": "https://localhost:8080/"
        },
        "id": "42KeZ8IDUk2z",
        "outputId": "0caace21-65a0-4afe-88d2-c05bfa91e284"
      },
      "execution_count": 59,
      "outputs": [
        {
          "output_type": "stream",
          "name": "stdout",
          "text": [
            "2.39 ms ± 70.7 µs per loop (mean ± std. dev. of 7 runs, 100 loops each)\n"
          ]
        }
      ]
    },
    {
      "cell_type": "code",
      "source": [
        "res = df_pandas2dask_train.groupby('label').size()"
      ],
      "metadata": {
        "id": "ibGg8tD6VGko"
      },
      "execution_count": 60,
      "outputs": []
    },
    {
      "cell_type": "code",
      "source": [
        "res.dask"
      ],
      "metadata": {
        "colab": {
          "base_uri": "https://localhost:8080/",
          "height": 189
        },
        "id": "yhYXq-e6VKiA",
        "outputId": "2fb3d68c-b4e5-47bf-df59-40cb36fc96ca"
      },
      "execution_count": 61,
      "outputs": [
        {
          "output_type": "execute_result",
          "data": {
            "text/plain": [
              "HighLevelGraph with 3 layers.\n",
              "<dask.highlevelgraph.HighLevelGraph object at 0x7f074b636af0>\n",
              " 0. from_pandas-2aea99da16d8743dc8d9422ab98ad370\n",
              " 1. dataframe-groupby-size-chunk-a931cd6fe778703115f610d3d1ca44ba-b46976794f0b8a7205eca7e57ac614d4\n",
              " 2. dataframe-groupby-size-agg-a931cd6fe778703115f610d3d1ca44ba"
            ],
            "text/html": [
              "<div>\n",
              "    <div>\n",
              "        <div style=\"width: 52px; height: 52px; position: absolute;\">\n",
              "            <svg width=\"76\" height=\"71\" viewBox=\"0 0 76 71\" fill=\"none\" xmlns=\"http://www.w3.org/2000/svg\">\n",
              "                <circle cx=\"61.5\" cy=\"36.5\" r=\"13.5\" style=\"stroke: var(--jp-ui-font-color2, #1D1D1D); fill: var(--jp-layout-color1, #F2F2F2);\" stroke-width=\"2\"/>\n",
              "                <circle cx=\"14.5\" cy=\"14.5\" r=\"13.5\" style=\"stroke: var(--jp-ui-font-color2, #1D1D1D); fill: var(--jp-layout-color1, #F2F2F2);\" stroke-width=\"2\"/>\n",
              "                <circle cx=\"14.5\" cy=\"56.5\" r=\"13.5\" style=\"stroke: var(--jp-ui-font-color2, #1D1D1D); fill: var(--jp-layout-color1, #F2F2F2);\" stroke-width=\"2\"/>\n",
              "                <path d=\"M28 16L30.5 16C33.2614 16 35.5 18.2386 35.5 21L35.5 32.0001C35.5 34.7615 37.7386 37.0001 40.5 37.0001L43 37.0001\" style=\"stroke: var(--jp-ui-font-color2, #1D1D1D);\" stroke-width=\"1.5\"/>\n",
              "                <path d=\"M40.5 37L40.5 37.75L40.5 37.75L40.5 37ZM35.5 42L36.25 42L35.5 42ZM35.5 52L34.75 52L35.5 52ZM30.5 57L30.5 57.75L30.5 57ZM41.5001 36.25L40.5 36.25L40.5 37.75L41.5001 37.75L41.5001 36.25ZM34.75 42L34.75 52L36.25 52L36.25 42L34.75 42ZM30.5 56.25L28.0001 56.25L28.0001 57.75L30.5 57.75L30.5 56.25ZM34.75 52C34.75 54.3472 32.8472 56.25 30.5 56.25L30.5 57.75C33.6756 57.75 36.25 55.1756 36.25 52L34.75 52ZM40.5 36.25C37.3244 36.25 34.75 38.8243 34.75 42L36.25 42C36.25 39.6528 38.1528 37.75 40.5 37.75L40.5 36.25Z\" style=\"fill: var(--jp-ui-font-color2, #1D1D1D);\"/>\n",
              "                <circle cx=\"28\" cy=\"16\" r=\"2.25\" fill=\"#E5E5E5\" style=\"stroke: var(--jp-ui-font-color2, #1D1D1D);\" stroke-width=\"1.5\"/>\n",
              "                <circle cx=\"28\" cy=\"57\" r=\"2.25\" fill=\"#E5E5E5\" style=\"stroke: var(--jp-ui-font-color2, #1D1D1D);\" stroke-width=\"1.5\"/>\n",
              "                <path d=\"M45.25 36.567C45.5833 36.7594 45.5833 37.2406 45.25 37.433L42.25 39.1651C41.9167 39.3575 41.5 39.117 41.5 38.7321V35.2679C41.5 34.883 41.9167 34.6425 42.25 34.8349L45.25 36.567Z\" style=\"fill: var(--jp-ui-font-color2, #1D1D1D);\"/>\n",
              "            </svg>\n",
              "        </div>\n",
              "        <div style=\"margin-left: 64px;\">\n",
              "            <h3 style=\"margin-bottom: 0px;\">HighLevelGraph</h3>\n",
              "            <p style=\"color: var(--jp-ui-font-color2, #5D5851); margin-bottom:0px;\">\n",
              "                HighLevelGraph with 3 layers and 7 keys from all layers.\n",
              "            </p>\n",
              "            \n",
              "            <div style=\"\">\n",
              "    <svg width=\"24\" height=\"24\" viewBox=\"0 0 32 32\" fill=\"none\" xmlns=\"http://www.w3.org/2000/svg\" style=\"position: absolute;\">\n",
              "        \n",
              "        <circle cx=\"16\" cy=\"16\" r=\"14\" fill=\"#8F8F8F\" style=\"stroke: var(--jp-ui-font-color2, #1D1D1D);\" stroke-width=\"2\"/>\n",
              "        \n",
              "    </svg>\n",
              "\n",
              "    <details style=\"margin-left: 32px;\">\n",
              "        <summary style=\"margin-bottom: 10px; margin-top: 10px;\">\n",
              "            <h4 style=\"display: inline;\">Layer1: from_pandas</h4>\n",
              "        </summary>\n",
              "        <p style=\"color: var(--jp-ui-font-color2, #5D5851); margin: -0.25em 0px 0px 0px;\">\n",
              "            from_pandas-2aea99da16d8743dc8d9422ab98ad370\n",
              "        </p>\n",
              "\n",
              "        <table>\n",
              "        <tr>\n",
              "            <td>\n",
              "                <table>\n",
              "                \n",
              "                    <tr>\n",
              "                        <th style=\"text-align: left; width: 150px;\">layer_type</th>\n",
              "                        <td style=\"text-align: left;\">MaterializedLayer</td>\n",
              "                    </tr>\n",
              "                \n",
              "                    <tr>\n",
              "                        <th style=\"text-align: left; width: 150px;\">is_materialized</th>\n",
              "                        <td style=\"text-align: left;\">True</td>\n",
              "                    </tr>\n",
              "                \n",
              "                    <tr>\n",
              "                        <th style=\"text-align: left; width: 150px;\">number of outputs</th>\n",
              "                        <td style=\"text-align: left;\">3</td>\n",
              "                    </tr>\n",
              "                \n",
              "                    <tr>\n",
              "                        <th style=\"text-align: left; width: 150px;\">npartitions</th>\n",
              "                        <td style=\"text-align: left;\">3</td>\n",
              "                    </tr>\n",
              "                \n",
              "                    <tr>\n",
              "                        <th style=\"text-align: left; width: 150px;\">columns</th>\n",
              "                        <td style=\"text-align: left;\">[&#x27;label&#x27;, &#x27;image&#x27;]</td>\n",
              "                    </tr>\n",
              "                \n",
              "                    <tr>\n",
              "                        <th style=\"text-align: left; width: 150px;\">type</th>\n",
              "                        <td style=\"text-align: left;\">dask.dataframe.core.DataFrame</td>\n",
              "                    </tr>\n",
              "                \n",
              "                    <tr>\n",
              "                        <th style=\"text-align: left; width: 150px;\">dataframe_type</th>\n",
              "                        <td style=\"text-align: left;\">pandas.core.frame.DataFrame</td>\n",
              "                    </tr>\n",
              "                \n",
              "                    <tr>\n",
              "                        <th style=\"text-align: left; width: 150px;\">series_dtypes</th>\n",
              "                        <td style=\"text-align: left;\">{&#x27;label&#x27;: dtype(&#x27;int64&#x27;), &#x27;image&#x27;: dtype(&#x27;O&#x27;)}</td>\n",
              "                    </tr>\n",
              "                \n",
              "                </table>\n",
              "            </td>\n",
              "            <td>\n",
              "                \n",
              "            </td>\n",
              "        </tr>\n",
              "        </table>\n",
              "\n",
              "    </details>\n",
              "</div>\n",
              "            \n",
              "            <div style=\"\">\n",
              "    <svg width=\"24\" height=\"24\" viewBox=\"0 0 32 32\" fill=\"none\" xmlns=\"http://www.w3.org/2000/svg\" style=\"position: absolute;\">\n",
              "        \n",
              "        <circle cx=\"16\" cy=\"16\" r=\"14\" style=\"stroke: var(--jp-ui-font-color2, #1D1D1D); fill: var(--jp-layout-color1, #F2F2F2);\" stroke-width=\"2\" />\n",
              "        \n",
              "    </svg>\n",
              "\n",
              "    <details style=\"margin-left: 32px;\">\n",
              "        <summary style=\"margin-bottom: 10px; margin-top: 10px;\">\n",
              "            <h4 style=\"display: inline;\">Layer2: dataframe-groupby-size-chunk</h4>\n",
              "        </summary>\n",
              "        <p style=\"color: var(--jp-ui-font-color2, #5D5851); margin: -0.25em 0px 0px 0px;\">\n",
              "            dataframe-groupby-size-chunk-a931cd6fe778703115f610d3d1ca44ba-b46976794f0b8a7205eca7e57ac614d4\n",
              "        </p>\n",
              "\n",
              "        <table>\n",
              "        <tr>\n",
              "            <td>\n",
              "                <table>\n",
              "                \n",
              "                    <tr>\n",
              "                        <th style=\"text-align: left; width: 150px;\">layer_type</th>\n",
              "                        <td style=\"text-align: left;\">Blockwise</td>\n",
              "                    </tr>\n",
              "                \n",
              "                    <tr>\n",
              "                        <th style=\"text-align: left; width: 150px;\">is_materialized</th>\n",
              "                        <td style=\"text-align: left;\">False</td>\n",
              "                    </tr>\n",
              "                \n",
              "                    <tr>\n",
              "                        <th style=\"text-align: left; width: 150px;\">number of outputs</th>\n",
              "                        <td style=\"text-align: left;\">3</td>\n",
              "                    </tr>\n",
              "                \n",
              "                    <tr>\n",
              "                        <th style=\"text-align: left; width: 150px;\">npartitions</th>\n",
              "                        <td style=\"text-align: left;\">3</td>\n",
              "                    </tr>\n",
              "                \n",
              "                    <tr>\n",
              "                        <th style=\"text-align: left; width: 150px;\">columns</th>\n",
              "                        <td style=\"text-align: left;\">[&#x27;label&#x27;, &#x27;image&#x27;]</td>\n",
              "                    </tr>\n",
              "                \n",
              "                    <tr>\n",
              "                        <th style=\"text-align: left; width: 150px;\">type</th>\n",
              "                        <td style=\"text-align: left;\">dask.dataframe.core.DataFrame</td>\n",
              "                    </tr>\n",
              "                \n",
              "                    <tr>\n",
              "                        <th style=\"text-align: left; width: 150px;\">dataframe_type</th>\n",
              "                        <td style=\"text-align: left;\">pandas.core.frame.DataFrame</td>\n",
              "                    </tr>\n",
              "                \n",
              "                    <tr>\n",
              "                        <th style=\"text-align: left; width: 150px;\">series_dtypes</th>\n",
              "                        <td style=\"text-align: left;\">{&#x27;label&#x27;: dtype(&#x27;int64&#x27;), &#x27;image&#x27;: dtype(&#x27;O&#x27;)}</td>\n",
              "                    </tr>\n",
              "                \n",
              "                </table>\n",
              "            </td>\n",
              "            <td>\n",
              "                \n",
              "            </td>\n",
              "        </tr>\n",
              "        </table>\n",
              "\n",
              "    </details>\n",
              "</div>\n",
              "            \n",
              "            <div style=\"\">\n",
              "    <svg width=\"24\" height=\"24\" viewBox=\"0 0 32 32\" fill=\"none\" xmlns=\"http://www.w3.org/2000/svg\" style=\"position: absolute;\">\n",
              "        \n",
              "        <circle cx=\"16\" cy=\"16\" r=\"14\" style=\"stroke: var(--jp-ui-font-color2, #1D1D1D); fill: var(--jp-layout-color1, #F2F2F2);\" stroke-width=\"2\" />\n",
              "        \n",
              "    </svg>\n",
              "\n",
              "    <details style=\"margin-left: 32px;\">\n",
              "        <summary style=\"margin-bottom: 10px; margin-top: 10px;\">\n",
              "            <h4 style=\"display: inline;\">Layer3: dataframe-groupby-size-agg</h4>\n",
              "        </summary>\n",
              "        <p style=\"color: var(--jp-ui-font-color2, #5D5851); margin: -0.25em 0px 0px 0px;\">\n",
              "            dataframe-groupby-size-agg-a931cd6fe778703115f610d3d1ca44ba\n",
              "        </p>\n",
              "\n",
              "        <table>\n",
              "        <tr>\n",
              "            <td>\n",
              "                <table>\n",
              "                \n",
              "                    <tr>\n",
              "                        <th style=\"text-align: left; width: 150px;\">layer_type</th>\n",
              "                        <td style=\"text-align: left;\">DataFrameTreeReduction</td>\n",
              "                    </tr>\n",
              "                \n",
              "                    <tr>\n",
              "                        <th style=\"text-align: left; width: 150px;\">is_materialized</th>\n",
              "                        <td style=\"text-align: left;\">False</td>\n",
              "                    </tr>\n",
              "                \n",
              "                    <tr>\n",
              "                        <th style=\"text-align: left; width: 150px;\">number of outputs</th>\n",
              "                        <td style=\"text-align: left;\">1</td>\n",
              "                    </tr>\n",
              "                \n",
              "                </table>\n",
              "            </td>\n",
              "            <td>\n",
              "                \n",
              "            </td>\n",
              "        </tr>\n",
              "        </table>\n",
              "\n",
              "    </details>\n",
              "</div>\n",
              "            \n",
              "        </div>\n",
              "    </div>\n",
              "</div>"
            ]
          },
          "metadata": {},
          "execution_count": 61
        }
      ]
    },
    {
      "cell_type": "markdown",
      "source": [
        "## 4. Experiment 3: Merging DataFrames "
      ],
      "metadata": {
        "id": "lN5vhUf308EC"
      }
    },
    {
      "cell_type": "code",
      "source": [
        "df_dask_train.head(5)"
      ],
      "metadata": {
        "colab": {
          "base_uri": "https://localhost:8080/",
          "height": 206
        },
        "id": "cfhO6ujDcERK",
        "outputId": "94642e49-5551-4f51-b93c-aafdd7bf13c4"
      },
      "execution_count": 62,
      "outputs": [
        {
          "output_type": "execute_result",
          "data": {
            "text/plain": [
              "   label                                              image\n",
              "0      5  [[  0   0   0   0   0   0   0   0   0   0   0 ...\n",
              "1      0  [[  0   0   0   0   0   0   0   0   0   0   0 ...\n",
              "2      4  [[  0   0   0   0   0   0   0   0   0   0   0 ...\n",
              "3      1  [[  0   0   0   0   0   0   0   0   0   0   0 ...\n",
              "4      9  [[  0   0   0   0   0   0   0   0   0   0   0 ..."
            ],
            "text/html": [
              "\n",
              "  <div id=\"df-1e101f11-5237-4a4e-aeb2-d1fd2db15292\">\n",
              "    <div class=\"colab-df-container\">\n",
              "      <div>\n",
              "<style scoped>\n",
              "    .dataframe tbody tr th:only-of-type {\n",
              "        vertical-align: middle;\n",
              "    }\n",
              "\n",
              "    .dataframe tbody tr th {\n",
              "        vertical-align: top;\n",
              "    }\n",
              "\n",
              "    .dataframe thead th {\n",
              "        text-align: right;\n",
              "    }\n",
              "</style>\n",
              "<table border=\"1\" class=\"dataframe\">\n",
              "  <thead>\n",
              "    <tr style=\"text-align: right;\">\n",
              "      <th></th>\n",
              "      <th>label</th>\n",
              "      <th>image</th>\n",
              "    </tr>\n",
              "  </thead>\n",
              "  <tbody>\n",
              "    <tr>\n",
              "      <th>0</th>\n",
              "      <td>5</td>\n",
              "      <td>[[  0   0   0   0   0   0   0   0   0   0   0 ...</td>\n",
              "    </tr>\n",
              "    <tr>\n",
              "      <th>1</th>\n",
              "      <td>0</td>\n",
              "      <td>[[  0   0   0   0   0   0   0   0   0   0   0 ...</td>\n",
              "    </tr>\n",
              "    <tr>\n",
              "      <th>2</th>\n",
              "      <td>4</td>\n",
              "      <td>[[  0   0   0   0   0   0   0   0   0   0   0 ...</td>\n",
              "    </tr>\n",
              "    <tr>\n",
              "      <th>3</th>\n",
              "      <td>1</td>\n",
              "      <td>[[  0   0   0   0   0   0   0   0   0   0   0 ...</td>\n",
              "    </tr>\n",
              "    <tr>\n",
              "      <th>4</th>\n",
              "      <td>9</td>\n",
              "      <td>[[  0   0   0   0   0   0   0   0   0   0   0 ...</td>\n",
              "    </tr>\n",
              "  </tbody>\n",
              "</table>\n",
              "</div>\n",
              "      <button class=\"colab-df-convert\" onclick=\"convertToInteractive('df-1e101f11-5237-4a4e-aeb2-d1fd2db15292')\"\n",
              "              title=\"Convert this dataframe to an interactive table.\"\n",
              "              style=\"display:none;\">\n",
              "        \n",
              "  <svg xmlns=\"http://www.w3.org/2000/svg\" height=\"24px\"viewBox=\"0 0 24 24\"\n",
              "       width=\"24px\">\n",
              "    <path d=\"M0 0h24v24H0V0z\" fill=\"none\"/>\n",
              "    <path d=\"M18.56 5.44l.94 2.06.94-2.06 2.06-.94-2.06-.94-.94-2.06-.94 2.06-2.06.94zm-11 1L8.5 8.5l.94-2.06 2.06-.94-2.06-.94L8.5 2.5l-.94 2.06-2.06.94zm10 10l.94 2.06.94-2.06 2.06-.94-2.06-.94-.94-2.06-.94 2.06-2.06.94z\"/><path d=\"M17.41 7.96l-1.37-1.37c-.4-.4-.92-.59-1.43-.59-.52 0-1.04.2-1.43.59L10.3 9.45l-7.72 7.72c-.78.78-.78 2.05 0 2.83L4 21.41c.39.39.9.59 1.41.59.51 0 1.02-.2 1.41-.59l7.78-7.78 2.81-2.81c.8-.78.8-2.07 0-2.86zM5.41 20L4 18.59l7.72-7.72 1.47 1.35L5.41 20z\"/>\n",
              "  </svg>\n",
              "      </button>\n",
              "      \n",
              "  <style>\n",
              "    .colab-df-container {\n",
              "      display:flex;\n",
              "      flex-wrap:wrap;\n",
              "      gap: 12px;\n",
              "    }\n",
              "\n",
              "    .colab-df-convert {\n",
              "      background-color: #E8F0FE;\n",
              "      border: none;\n",
              "      border-radius: 50%;\n",
              "      cursor: pointer;\n",
              "      display: none;\n",
              "      fill: #1967D2;\n",
              "      height: 32px;\n",
              "      padding: 0 0 0 0;\n",
              "      width: 32px;\n",
              "    }\n",
              "\n",
              "    .colab-df-convert:hover {\n",
              "      background-color: #E2EBFA;\n",
              "      box-shadow: 0px 1px 2px rgba(60, 64, 67, 0.3), 0px 1px 3px 1px rgba(60, 64, 67, 0.15);\n",
              "      fill: #174EA6;\n",
              "    }\n",
              "\n",
              "    [theme=dark] .colab-df-convert {\n",
              "      background-color: #3B4455;\n",
              "      fill: #D2E3FC;\n",
              "    }\n",
              "\n",
              "    [theme=dark] .colab-df-convert:hover {\n",
              "      background-color: #434B5C;\n",
              "      box-shadow: 0px 1px 3px 1px rgba(0, 0, 0, 0.15);\n",
              "      filter: drop-shadow(0px 1px 2px rgba(0, 0, 0, 0.3));\n",
              "      fill: #FFFFFF;\n",
              "    }\n",
              "  </style>\n",
              "\n",
              "      <script>\n",
              "        const buttonEl =\n",
              "          document.querySelector('#df-1e101f11-5237-4a4e-aeb2-d1fd2db15292 button.colab-df-convert');\n",
              "        buttonEl.style.display =\n",
              "          google.colab.kernel.accessAllowed ? 'block' : 'none';\n",
              "\n",
              "        async function convertToInteractive(key) {\n",
              "          const element = document.querySelector('#df-1e101f11-5237-4a4e-aeb2-d1fd2db15292');\n",
              "          const dataTable =\n",
              "            await google.colab.kernel.invokeFunction('convertToInteractive',\n",
              "                                                     [key], {});\n",
              "          if (!dataTable) return;\n",
              "\n",
              "          const docLinkHtml = 'Like what you see? Visit the ' +\n",
              "            '<a target=\"_blank\" href=https://colab.research.google.com/notebooks/data_table.ipynb>data table notebook</a>'\n",
              "            + ' to learn more about interactive tables.';\n",
              "          element.innerHTML = '';\n",
              "          dataTable['output_type'] = 'display_data';\n",
              "          await google.colab.output.renderOutput(dataTable, element);\n",
              "          const docLink = document.createElement('div');\n",
              "          docLink.innerHTML = docLinkHtml;\n",
              "          element.appendChild(docLink);\n",
              "        }\n",
              "      </script>\n",
              "    </div>\n",
              "  </div>\n",
              "  "
            ]
          },
          "metadata": {},
          "execution_count": 62
        }
      ]
    },
    {
      "cell_type": "code",
      "source": [
        "dask.visualize(df_dask_train)"
      ],
      "metadata": {
        "colab": {
          "base_uri": "https://localhost:8080/",
          "height": 242
        },
        "id": "h-aMBV4LbRx7",
        "outputId": "d8081e87-f689-4516-eab4-a6bde35b49a9"
      },
      "execution_count": 63,
      "outputs": [
        {
          "output_type": "execute_result",
          "data": {
            "image/png": "[encoded data removed]",
            "text/plain": [
              "<IPython.core.display.Image object>"
            ]
          },
          "metadata": {},
          "execution_count": 63
        }
      ]
    },
    {
      "cell_type": "code",
      "source": [
        "df_pandas_train.head(5)"
      ],
      "metadata": {
        "colab": {
          "base_uri": "https://localhost:8080/",
          "height": 206
        },
        "id": "5kHNwgUmlRpb",
        "outputId": "850e68c0-ccaa-489b-ad84-7b3bf8d8c1ae"
      },
      "execution_count": 64,
      "outputs": [
        {
          "output_type": "execute_result",
          "data": {
            "text/plain": [
              "   label                                              image\n",
              "0      5  [[  0   0   0   0   0   0   0   0   0   0   0 ...\n",
              "1      0  [[  0   0   0   0   0   0   0   0   0   0   0 ...\n",
              "2      4  [[  0   0   0   0   0   0   0   0   0   0   0 ...\n",
              "3      1  [[  0   0   0   0   0   0   0   0   0   0   0 ...\n",
              "4      9  [[  0   0   0   0   0   0   0   0   0   0   0 ..."
            ],
            "text/html": [
              "\n",
              "  <div id=\"df-2fe5aa4c-df6a-4b27-8450-f0973f4edb74\">\n",
              "    <div class=\"colab-df-container\">\n",
              "      <div>\n",
              "<style scoped>\n",
              "    .dataframe tbody tr th:only-of-type {\n",
              "        vertical-align: middle;\n",
              "    }\n",
              "\n",
              "    .dataframe tbody tr th {\n",
              "        vertical-align: top;\n",
              "    }\n",
              "\n",
              "    .dataframe thead th {\n",
              "        text-align: right;\n",
              "    }\n",
              "</style>\n",
              "<table border=\"1\" class=\"dataframe\">\n",
              "  <thead>\n",
              "    <tr style=\"text-align: right;\">\n",
              "      <th></th>\n",
              "      <th>label</th>\n",
              "      <th>image</th>\n",
              "    </tr>\n",
              "  </thead>\n",
              "  <tbody>\n",
              "    <tr>\n",
              "      <th>0</th>\n",
              "      <td>5</td>\n",
              "      <td>[[  0   0   0   0   0   0   0   0   0   0   0 ...</td>\n",
              "    </tr>\n",
              "    <tr>\n",
              "      <th>1</th>\n",
              "      <td>0</td>\n",
              "      <td>[[  0   0   0   0   0   0   0   0   0   0   0 ...</td>\n",
              "    </tr>\n",
              "    <tr>\n",
              "      <th>2</th>\n",
              "      <td>4</td>\n",
              "      <td>[[  0   0   0   0   0   0   0   0   0   0   0 ...</td>\n",
              "    </tr>\n",
              "    <tr>\n",
              "      <th>3</th>\n",
              "      <td>1</td>\n",
              "      <td>[[  0   0   0   0   0   0   0   0   0   0   0 ...</td>\n",
              "    </tr>\n",
              "    <tr>\n",
              "      <th>4</th>\n",
              "      <td>9</td>\n",
              "      <td>[[  0   0   0   0   0   0   0   0   0   0   0 ...</td>\n",
              "    </tr>\n",
              "  </tbody>\n",
              "</table>\n",
              "</div>\n",
              "      <button class=\"colab-df-convert\" onclick=\"convertToInteractive('df-2fe5aa4c-df6a-4b27-8450-f0973f4edb74')\"\n",
              "              title=\"Convert this dataframe to an interactive table.\"\n",
              "              style=\"display:none;\">\n",
              "        \n",
              "  <svg xmlns=\"http://www.w3.org/2000/svg\" height=\"24px\"viewBox=\"0 0 24 24\"\n",
              "       width=\"24px\">\n",
              "    <path d=\"M0 0h24v24H0V0z\" fill=\"none\"/>\n",
              "    <path d=\"M18.56 5.44l.94 2.06.94-2.06 2.06-.94-2.06-.94-.94-2.06-.94 2.06-2.06.94zm-11 1L8.5 8.5l.94-2.06 2.06-.94-2.06-.94L8.5 2.5l-.94 2.06-2.06.94zm10 10l.94 2.06.94-2.06 2.06-.94-2.06-.94-.94-2.06-.94 2.06-2.06.94z\"/><path d=\"M17.41 7.96l-1.37-1.37c-.4-.4-.92-.59-1.43-.59-.52 0-1.04.2-1.43.59L10.3 9.45l-7.72 7.72c-.78.78-.78 2.05 0 2.83L4 21.41c.39.39.9.59 1.41.59.51 0 1.02-.2 1.41-.59l7.78-7.78 2.81-2.81c.8-.78.8-2.07 0-2.86zM5.41 20L4 18.59l7.72-7.72 1.47 1.35L5.41 20z\"/>\n",
              "  </svg>\n",
              "      </button>\n",
              "      \n",
              "  <style>\n",
              "    .colab-df-container {\n",
              "      display:flex;\n",
              "      flex-wrap:wrap;\n",
              "      gap: 12px;\n",
              "    }\n",
              "\n",
              "    .colab-df-convert {\n",
              "      background-color: #E8F0FE;\n",
              "      border: none;\n",
              "      border-radius: 50%;\n",
              "      cursor: pointer;\n",
              "      display: none;\n",
              "      fill: #1967D2;\n",
              "      height: 32px;\n",
              "      padding: 0 0 0 0;\n",
              "      width: 32px;\n",
              "    }\n",
              "\n",
              "    .colab-df-convert:hover {\n",
              "      background-color: #E2EBFA;\n",
              "      box-shadow: 0px 1px 2px rgba(60, 64, 67, 0.3), 0px 1px 3px 1px rgba(60, 64, 67, 0.15);\n",
              "      fill: #174EA6;\n",
              "    }\n",
              "\n",
              "    [theme=dark] .colab-df-convert {\n",
              "      background-color: #3B4455;\n",
              "      fill: #D2E3FC;\n",
              "    }\n",
              "\n",
              "    [theme=dark] .colab-df-convert:hover {\n",
              "      background-color: #434B5C;\n",
              "      box-shadow: 0px 1px 3px 1px rgba(0, 0, 0, 0.15);\n",
              "      filter: drop-shadow(0px 1px 2px rgba(0, 0, 0, 0.3));\n",
              "      fill: #FFFFFF;\n",
              "    }\n",
              "  </style>\n",
              "\n",
              "      <script>\n",
              "        const buttonEl =\n",
              "          document.querySelector('#df-2fe5aa4c-df6a-4b27-8450-f0973f4edb74 button.colab-df-convert');\n",
              "        buttonEl.style.display =\n",
              "          google.colab.kernel.accessAllowed ? 'block' : 'none';\n",
              "\n",
              "        async function convertToInteractive(key) {\n",
              "          const element = document.querySelector('#df-2fe5aa4c-df6a-4b27-8450-f0973f4edb74');\n",
              "          const dataTable =\n",
              "            await google.colab.kernel.invokeFunction('convertToInteractive',\n",
              "                                                     [key], {});\n",
              "          if (!dataTable) return;\n",
              "\n",
              "          const docLinkHtml = 'Like what you see? Visit the ' +\n",
              "            '<a target=\"_blank\" href=https://colab.research.google.com/notebooks/data_table.ipynb>data table notebook</a>'\n",
              "            + ' to learn more about interactive tables.';\n",
              "          element.innerHTML = '';\n",
              "          dataTable['output_type'] = 'display_data';\n",
              "          await google.colab.output.renderOutput(dataTable, element);\n",
              "          const docLink = document.createElement('div');\n",
              "          docLink.innerHTML = docLinkHtml;\n",
              "          element.appendChild(docLink);\n",
              "        }\n",
              "      </script>\n",
              "    </div>\n",
              "  </div>\n",
              "  "
            ]
          },
          "metadata": {},
          "execution_count": 64
        }
      ]
    },
    {
      "cell_type": "code",
      "source": [
        "sample_size = 100\n",
        "\n",
        "temp_pandas_1 = df_pandas_train.head(sample_size)\n",
        "temp_dask_1 = df_dask_train.head(sample_size)\n",
        "\n",
        "temp_pandas_2 = df_pandas_train.tail(sample_size)\n",
        "temp_dask_2 = df_dask_train.tail(sample_size)"
      ],
      "metadata": {
        "id": "QVbx2P7LmIlY"
      },
      "execution_count": 65,
      "outputs": []
    },
    {
      "cell_type": "code",
      "source": [
        "%%timeit\n",
        "pd.merge(temp_pandas_1, temp_pandas_2)"
      ],
      "metadata": {
        "colab": {
          "base_uri": "https://localhost:8080/"
        },
        "id": "55f2pS54yn2k",
        "outputId": "5d8a7b72-b9de-4d29-f790-5a75d6543425"
      },
      "execution_count": 66,
      "outputs": [
        {
          "output_type": "stream",
          "name": "stdout",
          "text": [
            "1.6 ms ± 14.7 µs per loop (mean ± std. dev. of 7 runs, 1000 loops each)\n"
          ]
        }
      ]
    },
    {
      "cell_type": "code",
      "source": [
        "%%timeit\n",
        "dd.merge(temp_dask_1, temp_dask_2)"
      ],
      "metadata": {
        "colab": {
          "base_uri": "https://localhost:8080/"
        },
        "id": "tHLLyq6CApfe",
        "outputId": "b1bc19ca-cc08-48fd-b09e-39c718448eb1"
      },
      "execution_count": 67,
      "outputs": [
        {
          "output_type": "stream",
          "name": "stdout",
          "text": [
            "1.55 ms ± 9.46 µs per loop (mean ± std. dev. of 7 runs, 1000 loops each)\n"
          ]
        }
      ]
    },
    {
      "cell_type": "code",
      "source": [
        "import timeit\n",
        "import numpy as np\n",
        "\n",
        "timeit.timeit(lambda: dd.merge(temp_dask_1, temp_dask_2), number=1000)"
      ],
      "metadata": {
        "colab": {
          "base_uri": "https://localhost:8080/"
        },
        "id": "LfKDZ5OvV6MZ",
        "outputId": "a4e4d2ea-e6c7-45b5-8182-3bece96379a6"
      },
      "execution_count": 68,
      "outputs": [
        {
          "output_type": "execute_result",
          "data": {
            "text/plain": [
              "1.5420366200014541"
            ]
          },
          "metadata": {},
          "execution_count": 68
        }
      ]
    },
    {
      "cell_type": "code",
      "source": [
        "times_res = timeit.repeat(lambda: dd.merge(temp_dask_1, temp_dask_2), repeat=7, number=1000)"
      ],
      "metadata": {
        "id": "hLB8aNy2XJFm"
      },
      "execution_count": 69,
      "outputs": []
    },
    {
      "cell_type": "code",
      "source": [
        "dict(zip(['values', 'mean', 'std'], [np.array(times_res), np.array(times_res).mean(), np.array(times_res).std()*1000]))"
      ],
      "metadata": {
        "colab": {
          "base_uri": "https://localhost:8080/"
        },
        "id": "STmF07JTXS1L",
        "outputId": "9e7b9a11-8433-441b-9c08-2297eaf16f88"
      },
      "execution_count": 70,
      "outputs": [
        {
          "output_type": "execute_result",
          "data": {
            "text/plain": [
              "{'values': array([1.56069307, 1.55783277, 1.56443584, 1.55289464, 1.54192044,\n",
              "        1.54268195, 1.55303471]),\n",
              " 'mean': 1.5533562021430822,\n",
              " 'std': 7.943194572522594}"
            ]
          },
          "metadata": {},
          "execution_count": 70
        }
      ]
    },
    {
      "cell_type": "markdown",
      "source": [
        "## Exercise 2:\n",
        "Explore the performance of merging files in dask and pandas.\n",
        "1. Choose the grid for the size of the dataset \n",
        "2. Compute the time performance of the merge function for varying dataset sizes in dask\n",
        "3. Compute the time performance of the merge function for varying dataset sizes in pandas\n",
        "4. Visualise the results \n"
      ],
      "metadata": {
        "id": "f0bFTBi1VdjI"
      }
    },
    {
      "cell_type": "code",
      "source": [
        "sample_grid = [100, 500, 1000, 10000, 25000, 40000, 50000]\n",
        "\n",
        "get_timeit_values = lambda times_res: dict(\n",
        "    zip(['values', 'mean', 'std'], [np.array(times_res), np.array(times_res).mean(), np.array(times_res).std()*1000]))\n",
        "\n",
        "res = {}\n",
        "\n",
        "for sample_size in sample_grid: \n",
        "  temp_pandas_1 = df_pandas_train.head(sample_size)\n",
        "  temp_dask_1 = df_dask_train.head(sample_size)\n",
        "\n",
        "  temp_pandas_2 = df_pandas_train.tail(sample_size)\n",
        "  temp_dask_2 = df_dask_train.tail(sample_size)\n",
        "\n",
        "  times_res_pandas = timeit.repeat(lambda: pd.merge(temp_pandas_1, temp_pandas_2), repeat=7, number=1000)\n",
        "  times_res_dask = timeit.repeat(lambda: dd.merge(temp_dask_1, temp_dask_2), repeat=7, number=1000)\n",
        "\n",
        "  res[sample_size] = [{'pandas': get_timeit_values(times_res_pandas)}, \n",
        "                      {'dask': get_timeit_values(times_res_dask)}]"
      ],
      "metadata": {
        "id": "oDYWPfdxshJI"
      },
      "execution_count": null,
      "outputs": []
    },
    {
      "cell_type": "code",
      "source": [
        "res"
      ],
      "metadata": {
        "colab": {
          "base_uri": "https://localhost:8080/"
        },
        "id": "43owXSgd0Tvs",
        "outputId": "6d5b1005-83df-475b-9fd7-781ece80e341"
      },
      "execution_count": 110,
      "outputs": [
        {
          "output_type": "execute_result",
          "data": {
            "text/plain": [
              "{100: [{'pandas': {'values': array([1.62794349, 1.65354175, 1.60102662, 1.59089113, 1.59173938,\n",
              "           1.6113216 , 1.60053133]),\n",
              "    'mean': 1.6109993291429419,\n",
              "    'std': 20.980894611567205}},\n",
              "  {'dask': {'values': array([1.53697612, 1.57211314, 1.5396934 , 1.55826583, 1.52547082,\n",
              "           1.54652651, 1.55118276]),\n",
              "    'mean': 1.5471755124287614,\n",
              "    'std': 14.104014217332836}}],\n",
              " 500: [{'pandas': {'values': array([1.97123871, 1.95057191, 1.95346465, 1.96721865, 2.00657911,\n",
              "           1.99736578, 2.00845101]),\n",
              "    'mean': 1.9792699747137834,\n",
              "    'std': 22.753365490889866}},\n",
              "  {'dask': {'values': array([1.94143837, 1.94092259, 1.94433258, 1.90355813, 1.91574412,\n",
              "           1.90394122, 1.87947414]),\n",
              "    'mean': 1.9184873065714783,\n",
              "    'std': 22.872605215901363}}],\n",
              " 1000: [{'pandas': {'values': array([2.55161247, 2.46451508, 2.39912988, 2.40035276, 2.64362035,\n",
              "           2.61816647, 2.39767216]),\n",
              "    'mean': 2.496438452571186,\n",
              "    'std': 99.28292462921364}},\n",
              "  {'dask': {'values': array([2.32690559, 2.32819632, 2.30708674, 2.35941128, 2.38945785,\n",
              "           2.43433475, 2.40431894]),\n",
              "    'mean': 2.3642444950003534,\n",
              "    'std': 43.32328948445894}}],\n",
              " 10000: [{'pandas': {'values': array([13.76835452, 13.20690469, 13.14708482, 13.95402728, 13.2087612 ,\n",
              "           13.83739703, 13.4876514 ]),\n",
              "    'mean': 13.515740134427947,\n",
              "    'std': 312.97739054289804}},\n",
              "  {'dask': {'values': array([13.58890755, 13.38417597, 12.99760873, 12.85745587, 12.81750518,\n",
              "           12.80677227, 12.68516213]),\n",
              "    'mean': 13.019655385571761,\n",
              "    'std': 312.08691134231475}}],\n",
              " 25000: [{'pandas': {'values': array([38.83763658, 38.86374604, 38.83677477, 38.79624342, 38.65957348,\n",
              "           38.83155463, 38.75500247]),\n",
              "    'mean': 38.797218768713456,\n",
              "    'std': 64.95327795020795}},\n",
              "  {'dask': {'values': array([38.16780862, 38.15872004, 38.07750516, 38.91294388, 39.21836907,\n",
              "           38.91661574, 38.55366026]),\n",
              "    'mean': 38.572231824714564,\n",
              "    'std': 419.4942256599982}}],\n",
              " 40000: [{'pandas': {'values': array([59.6937657 , 58.55922085, 59.50733979, 59.12818087, 57.51417083,\n",
              "           58.58130751, 57.84157732]),\n",
              "    'mean': 58.68936612457089,\n",
              "    'std': 755.825195793328}},\n",
              "  {'dask': {'values': array([68.8000755 , 68.3832027 , 71.20901806, 70.30547415, 70.71530754,\n",
              "           70.28817503, 69.19512227]),\n",
              "    'mean': 69.84233931985675,\n",
              "    'std': 976.6876312284198}}],\n",
              " 50000: [{'pandas': {'values': array([69.88335774, 71.72825413, 70.08221586, 71.45146507, 70.55287189,\n",
              "           69.62443681, 69.2227149 ]),\n",
              "    'mean': 70.36361662885611,\n",
              "    'std': 865.1462169326292}},\n",
              "  {'dask': {'values': array([92.48892932, 92.15043577, 92.63320356, 92.15456336, 92.23835034,\n",
              "           91.10301021, 91.59590918]),\n",
              "    'mean': 92.052057390714,\n",
              "    'std': 491.6794169384079}}]}"
            ]
          },
          "metadata": {},
          "execution_count": 110
        }
      ]
    },
    {
      "cell_type": "code",
      "source": [
        "get_y_values = lambda type_, stat_, idx_: [res[size_][idx_][type_][stat_] for size_ in sample_grid]\n",
        "df_vis = pd.DataFrame(data=[get_y_values('pandas', 'mean', 0), get_y_values('dask', 'mean', 1)]).T.rename(columns = {0:'pandas', 1:'dask'})\n",
        "df_vis['grid'] = sample_grid\n",
        "df_vis "
      ],
      "metadata": {
        "colab": {
          "base_uri": "https://localhost:8080/",
          "height": 269
        },
        "id": "nqj9-P2zvXii",
        "outputId": "cd5c2163-23e0-463b-99ab-a9ade682aabf"
      },
      "execution_count": 117,
      "outputs": [
        {
          "output_type": "execute_result",
          "data": {
            "text/plain": [
              "      pandas       dask   grid\n",
              "0   1.610999   1.547176    100\n",
              "1   1.979270   1.918487    500\n",
              "2   2.496438   2.364244   1000\n",
              "3  13.515740  13.019655  10000\n",
              "4  38.797219  38.572232  25000\n",
              "5  58.689366  69.842339  40000\n",
              "6  70.363617  92.052057  50000"
            ],
            "text/html": [
              "\n",
              "  <div id=\"df-816809f2-8a7a-4d52-8668-726426b04906\">\n",
              "    <div class=\"colab-df-container\">\n",
              "      <div>\n",
              "<style scoped>\n",
              "    .dataframe tbody tr th:only-of-type {\n",
              "        vertical-align: middle;\n",
              "    }\n",
              "\n",
              "    .dataframe tbody tr th {\n",
              "        vertical-align: top;\n",
              "    }\n",
              "\n",
              "    .dataframe thead th {\n",
              "        text-align: right;\n",
              "    }\n",
              "</style>\n",
              "<table border=\"1\" class=\"dataframe\">\n",
              "  <thead>\n",
              "    <tr style=\"text-align: right;\">\n",
              "      <th></th>\n",
              "      <th>pandas</th>\n",
              "      <th>dask</th>\n",
              "      <th>grid</th>\n",
              "    </tr>\n",
              "  </thead>\n",
              "  <tbody>\n",
              "    <tr>\n",
              "      <th>0</th>\n",
              "      <td>1.610999</td>\n",
              "      <td>1.547176</td>\n",
              "      <td>100</td>\n",
              "    </tr>\n",
              "    <tr>\n",
              "      <th>1</th>\n",
              "      <td>1.979270</td>\n",
              "      <td>1.918487</td>\n",
              "      <td>500</td>\n",
              "    </tr>\n",
              "    <tr>\n",
              "      <th>2</th>\n",
              "      <td>2.496438</td>\n",
              "      <td>2.364244</td>\n",
              "      <td>1000</td>\n",
              "    </tr>\n",
              "    <tr>\n",
              "      <th>3</th>\n",
              "      <td>13.515740</td>\n",
              "      <td>13.019655</td>\n",
              "      <td>10000</td>\n",
              "    </tr>\n",
              "    <tr>\n",
              "      <th>4</th>\n",
              "      <td>38.797219</td>\n",
              "      <td>38.572232</td>\n",
              "      <td>25000</td>\n",
              "    </tr>\n",
              "    <tr>\n",
              "      <th>5</th>\n",
              "      <td>58.689366</td>\n",
              "      <td>69.842339</td>\n",
              "      <td>40000</td>\n",
              "    </tr>\n",
              "    <tr>\n",
              "      <th>6</th>\n",
              "      <td>70.363617</td>\n",
              "      <td>92.052057</td>\n",
              "      <td>50000</td>\n",
              "    </tr>\n",
              "  </tbody>\n",
              "</table>\n",
              "</div>\n",
              "      <button class=\"colab-df-convert\" onclick=\"convertToInteractive('df-816809f2-8a7a-4d52-8668-726426b04906')\"\n",
              "              title=\"Convert this dataframe to an interactive table.\"\n",
              "              style=\"display:none;\">\n",
              "        \n",
              "  <svg xmlns=\"http://www.w3.org/2000/svg\" height=\"24px\"viewBox=\"0 0 24 24\"\n",
              "       width=\"24px\">\n",
              "    <path d=\"M0 0h24v24H0V0z\" fill=\"none\"/>\n",
              "    <path d=\"M18.56 5.44l.94 2.06.94-2.06 2.06-.94-2.06-.94-.94-2.06-.94 2.06-2.06.94zm-11 1L8.5 8.5l.94-2.06 2.06-.94-2.06-.94L8.5 2.5l-.94 2.06-2.06.94zm10 10l.94 2.06.94-2.06 2.06-.94-2.06-.94-.94-2.06-.94 2.06-2.06.94z\"/><path d=\"M17.41 7.96l-1.37-1.37c-.4-.4-.92-.59-1.43-.59-.52 0-1.04.2-1.43.59L10.3 9.45l-7.72 7.72c-.78.78-.78 2.05 0 2.83L4 21.41c.39.39.9.59 1.41.59.51 0 1.02-.2 1.41-.59l7.78-7.78 2.81-2.81c.8-.78.8-2.07 0-2.86zM5.41 20L4 18.59l7.72-7.72 1.47 1.35L5.41 20z\"/>\n",
              "  </svg>\n",
              "      </button>\n",
              "      \n",
              "  <style>\n",
              "    .colab-df-container {\n",
              "      display:flex;\n",
              "      flex-wrap:wrap;\n",
              "      gap: 12px;\n",
              "    }\n",
              "\n",
              "    .colab-df-convert {\n",
              "      background-color: #E8F0FE;\n",
              "      border: none;\n",
              "      border-radius: 50%;\n",
              "      cursor: pointer;\n",
              "      display: none;\n",
              "      fill: #1967D2;\n",
              "      height: 32px;\n",
              "      padding: 0 0 0 0;\n",
              "      width: 32px;\n",
              "    }\n",
              "\n",
              "    .colab-df-convert:hover {\n",
              "      background-color: #E2EBFA;\n",
              "      box-shadow: 0px 1px 2px rgba(60, 64, 67, 0.3), 0px 1px 3px 1px rgba(60, 64, 67, 0.15);\n",
              "      fill: #174EA6;\n",
              "    }\n",
              "\n",
              "    [theme=dark] .colab-df-convert {\n",
              "      background-color: #3B4455;\n",
              "      fill: #D2E3FC;\n",
              "    }\n",
              "\n",
              "    [theme=dark] .colab-df-convert:hover {\n",
              "      background-color: #434B5C;\n",
              "      box-shadow: 0px 1px 3px 1px rgba(0, 0, 0, 0.15);\n",
              "      filter: drop-shadow(0px 1px 2px rgba(0, 0, 0, 0.3));\n",
              "      fill: #FFFFFF;\n",
              "    }\n",
              "  </style>\n",
              "\n",
              "      <script>\n",
              "        const buttonEl =\n",
              "          document.querySelector('#df-816809f2-8a7a-4d52-8668-726426b04906 button.colab-df-convert');\n",
              "        buttonEl.style.display =\n",
              "          google.colab.kernel.accessAllowed ? 'block' : 'none';\n",
              "\n",
              "        async function convertToInteractive(key) {\n",
              "          const element = document.querySelector('#df-816809f2-8a7a-4d52-8668-726426b04906');\n",
              "          const dataTable =\n",
              "            await google.colab.kernel.invokeFunction('convertToInteractive',\n",
              "                                                     [key], {});\n",
              "          if (!dataTable) return;\n",
              "\n",
              "          const docLinkHtml = 'Like what you see? Visit the ' +\n",
              "            '<a target=\"_blank\" href=https://colab.research.google.com/notebooks/data_table.ipynb>data table notebook</a>'\n",
              "            + ' to learn more about interactive tables.';\n",
              "          element.innerHTML = '';\n",
              "          dataTable['output_type'] = 'display_data';\n",
              "          await google.colab.output.renderOutput(dataTable, element);\n",
              "          const docLink = document.createElement('div');\n",
              "          docLink.innerHTML = docLinkHtml;\n",
              "          element.appendChild(docLink);\n",
              "        }\n",
              "      </script>\n",
              "    </div>\n",
              "  </div>\n",
              "  "
            ]
          },
          "metadata": {},
          "execution_count": 117
        }
      ]
    },
    {
      "cell_type": "code",
      "source": [
        "import seaborn as sns\n",
        "fig, (ax1, ax2) = plt.subplots(ncols=2, sharey=True, figsize=(15,6))\n",
        "sns.regplot(x='grid', y='pandas', data=df_vis, line_kws={'color': 'g'},  ax=ax1)\n",
        "sns.regplot(x='grid', y='dask', data=df_vis, line_kws={'color': 'r'},  ax=ax2)"
      ],
      "metadata": {
        "colab": {
          "base_uri": "https://localhost:8080/",
          "height": 406
        },
        "id": "czqJamxMyqE9",
        "outputId": "0dc98bdc-2f22-4f1f-da9d-5eac9fa34e83"
      },
      "execution_count": 132,
      "outputs": [
        {
          "output_type": "execute_result",
          "data": {
            "text/plain": [
              "<Axes: xlabel='grid', ylabel='dask'>"
            ]
          },
          "metadata": {},
          "execution_count": 132
        },
        {
          "output_type": "display_data",
          "data": {
            "text/plain": [
              "<Figure size 1080x432 with 2 Axes>"
            ],
            "image/png": "[encoded data removed]"
          },
          "metadata": {
            "needs_background": "light"
          }
        }
      ]
    },
    {
      "cell_type": "code",
      "source": [],
      "metadata": {
        "id": "2dZgPTzWxMbh"
      },
      "execution_count": null,
      "outputs": []
    }
  ]
}