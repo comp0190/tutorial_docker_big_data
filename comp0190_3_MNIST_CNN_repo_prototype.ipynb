{
  "nbformat": 4,
  "nbformat_minor": 0,
  "metadata": {
    "colab": {
      "provenance": []
    },
    "kernelspec": {
      "name": "python3",
      "display_name": "Python 3"
    },
    "language_info": {
      "name": "python"
    }
  },
  "cells": [
    {
      "cell_type": "code",
      "source": [
        "%%bash \n",
        "git clone https://github.com/comp0190/tutorial_docker_big_data.git"
      ],
      "metadata": {
        "colab": {
          "base_uri": "https://localhost:8080/"
        },
        "id": "D4x_a3o7T-31",
        "outputId": "9cc04d1f-f069-4dab-f606-7ca387d48bc3"
      },
      "execution_count": 1,
      "outputs": [
        {
          "output_type": "stream",
          "name": "stderr",
          "text": [
            "Cloning into 'tutorial_docker_big_data'...\n"
          ]
        }
      ]
    },
    {
      "cell_type": "code",
      "source": [
        "!pwd"
      ],
      "metadata": {
        "colab": {
          "base_uri": "https://localhost:8080/"
        },
        "id": "jE8fwaWv2yqG",
        "outputId": "07914ce9-3df2-4a45-e125-28308e616203"
      },
      "execution_count": 2,
      "outputs": [
        {
          "output_type": "stream",
          "name": "stdout",
          "text": [
            "/content\n"
          ]
        }
      ]
    },
    {
      "cell_type": "code",
      "source": [
        "import os, sys\n",
        "\n",
        "os.chdir('./tutorial_docker_big_data/mnist-cnn_v0.5')\n",
        "sys.path.append('./src/')"
      ],
      "metadata": {
        "id": "ZwsaWgYD3YY9"
      },
      "execution_count": 3,
      "outputs": []
    },
    {
      "cell_type": "code",
      "source": [
        "!pwd"
      ],
      "metadata": {
        "colab": {
          "base_uri": "https://localhost:8080/"
        },
        "id": "2TkEF2Pg36qV",
        "outputId": "bd4cbee2-0f3a-4895-fd5a-b64f47694a15"
      },
      "execution_count": 4,
      "outputs": [
        {
          "output_type": "stream",
          "name": "stdout",
          "text": [
            "/content/tutorial_docker_big_data/mnist-cnn_v0.5\n"
          ]
        }
      ]
    },
    {
      "cell_type": "markdown",
      "source": [
        "# 1. Load Config "
      ],
      "metadata": {
        "id": "7Nlt1BbQXFzV"
      }
    },
    {
      "cell_type": "code",
      "source": [
        "# load config file\n",
        "import yaml\n",
        "with open('config.yml', 'r') as file:\n",
        "    config = yaml.safe_load(file)\n",
        "\n",
        "config"
      ],
      "metadata": {
        "colab": {
          "base_uri": "https://localhost:8080/"
        },
        "id": "-QsCPx7PWupf",
        "outputId": "bbd7f527-4b5b-4c76-c528-921fdf4a6860"
      },
      "execution_count": 5,
      "outputs": [
        {
          "output_type": "execute_result",
          "data": {
            "text/plain": [
              "{'loss': 'categorical_crossentropy',\n",
              " 'optimizer': 'adam',\n",
              " 'metrics': 'accuracy',\n",
              " 'batch_size': 256,\n",
              " 'epochs': 30,\n",
              " 'validation_split': 0.2,\n",
              " 'model_name': 'mnist_cnn_1.h5',\n",
              " 'model_path': './models',\n",
              " 'results_file': 'mnist_cnn_1_results.txt',\n",
              " 'results_path': './results'}"
            ]
          },
          "metadata": {},
          "execution_count": 5
        }
      ]
    },
    {
      "cell_type": "markdown",
      "source": [
        "# 2. Train Model "
      ],
      "metadata": {
        "id": "I0u2O3PMXMYv"
      }
    },
    {
      "cell_type": "code",
      "source": [
        "# load dataset\n",
        "from tensorflow import keras\n",
        "from keras.datasets import mnist\n",
        "(x_train, y_train), (x_test, y_test) = mnist.load_data()"
      ],
      "metadata": {
        "id": "mwwx4guJWoaH"
      },
      "execution_count": 6,
      "outputs": []
    },
    {
      "cell_type": "code",
      "source": [
        "# prepare dataset\n",
        "import preprocess_dataset\n",
        "\n",
        "processed_dataset = preprocess_dataset.process_dataset(x_train, y_train, x_test, y_test)"
      ],
      "metadata": {
        "id": "0voEbuWV7PeZ"
      },
      "execution_count": 7,
      "outputs": []
    },
    {
      "cell_type": "code",
      "source": [
        "# train mocdel\n",
        "import model\n",
        "\n",
        "cnn = model.initiate_model()"
      ],
      "metadata": {
        "id": "jxq77cuxYJp2"
      },
      "execution_count": 8,
      "outputs": []
    },
    {
      "cell_type": "code",
      "source": [
        "cnn.summary()"
      ],
      "metadata": {
        "colab": {
          "base_uri": "https://localhost:8080/"
        },
        "id": "JqpyIMP58TGJ",
        "outputId": "335afe83-2740-4fe5-a51c-1a75f83ec84c"
      },
      "execution_count": 9,
      "outputs": [
        {
          "output_type": "stream",
          "name": "stdout",
          "text": [
            "Model: \"sequential\"\n",
            "_________________________________________________________________\n",
            " Layer (type)                Output Shape              Param #   \n",
            "=================================================================\n",
            " conv2d (Conv2D)             (None, 1, 28, 8)          2016      \n",
            "                                                                 \n",
            " batch_normalization (BatchN  (None, 1, 28, 8)         32        \n",
            " ormalization)                                                   \n",
            "                                                                 \n",
            " activation (Activation)     (None, 1, 28, 8)          0         \n",
            "                                                                 \n",
            " average_pooling2d (AverageP  (None, 1, 14, 8)         0         \n",
            " ooling2D)                                                       \n",
            "                                                                 \n",
            " conv2d_1 (Conv2D)           (None, 1, 14, 16)         1152      \n",
            "                                                                 \n",
            " batch_normalization_1 (Batc  (None, 1, 14, 16)        64        \n",
            " hNormalization)                                                 \n",
            "                                                                 \n",
            " activation_1 (Activation)   (None, 1, 14, 16)         0         \n",
            "                                                                 \n",
            " average_pooling2d_1 (Averag  (None, 1, 7, 16)         0         \n",
            " ePooling2D)                                                     \n",
            "                                                                 \n",
            " conv2d_2 (Conv2D)           (None, 1, 7, 16)          2304      \n",
            "                                                                 \n",
            " batch_normalization_2 (Batc  (None, 1, 7, 16)         64        \n",
            " hNormalization)                                                 \n",
            "                                                                 \n",
            " activation_2 (Activation)   (None, 1, 7, 16)          0         \n",
            "                                                                 \n",
            " dropout (Dropout)           (None, 1, 7, 16)          0         \n",
            "                                                                 \n",
            " average_pooling2d_2 (Averag  (None, 1, 4, 16)         0         \n",
            " ePooling2D)                                                     \n",
            "                                                                 \n",
            " conv2d_3 (Conv2D)           (None, 1, 4, 32)          4608      \n",
            "                                                                 \n",
            " batch_normalization_3 (Batc  (None, 1, 4, 32)         128       \n",
            " hNormalization)                                                 \n",
            "                                                                 \n",
            " activation_3 (Activation)   (None, 1, 4, 32)          0         \n",
            "                                                                 \n",
            " dropout_1 (Dropout)         (None, 1, 4, 32)          0         \n",
            "                                                                 \n",
            " conv2d_4 (Conv2D)           (None, 1, 4, 10)          2890      \n",
            "                                                                 \n",
            " average_pooling2d_3 (Averag  (None, 1, 1, 10)         0         \n",
            " ePooling2D)                                                     \n",
            "                                                                 \n",
            " flatten (Flatten)           (None, 10)                0         \n",
            "                                                                 \n",
            " activation_4 (Activation)   (None, 10)                0         \n",
            "                                                                 \n",
            "=================================================================\n",
            "Total params: 13,258\n",
            "Trainable params: 13,114\n",
            "Non-trainable params: 144\n",
            "_________________________________________________________________\n"
          ]
        }
      ]
    },
    {
      "cell_type": "code",
      "source": [
        "cnn.compile(loss=config['loss'], optimizer=config['optimizer'], metrics=[config['metrics']])"
      ],
      "metadata": {
        "id": "Huj03fJI8VqN"
      },
      "execution_count": 10,
      "outputs": []
    },
    {
      "cell_type": "code",
      "source": [
        "cnn.fit(\n",
        "    processed_dataset['images_train'],\n",
        "    processed_dataset['labels_train'],\n",
        "    batch_size=config['batch_size'],\n",
        "    epochs=config['epochs'],\n",
        "    validation_split=config['validation_split'])"
      ],
      "metadata": {
        "colab": {
          "base_uri": "https://localhost:8080/"
        },
        "id": "BYBbdvn1_uwR",
        "outputId": "9c4ff2f5-de91-4bf8-a336-b7635517a76f"
      },
      "execution_count": 11,
      "outputs": [
        {
          "output_type": "stream",
          "name": "stdout",
          "text": [
            "Epoch 1/30\n",
            "188/188 [==============================] - 8s 31ms/step - loss: 1.2662 - accuracy: 0.6116 - val_loss: 1.7711 - val_accuracy: 0.3565\n",
            "Epoch 2/30\n",
            "188/188 [==============================] - 6s 34ms/step - loss: 0.4248 - accuracy: 0.8774 - val_loss: 0.4452 - val_accuracy: 0.8753\n",
            "Epoch 3/30\n",
            "188/188 [==============================] - 5s 28ms/step - loss: 0.2985 - accuracy: 0.9129 - val_loss: 0.2135 - val_accuracy: 0.9377\n",
            "Epoch 4/30\n",
            "188/188 [==============================] - 6s 34ms/step - loss: 0.2488 - accuracy: 0.9265 - val_loss: 0.1470 - val_accuracy: 0.9554\n",
            "Epoch 5/30\n",
            "188/188 [==============================] - 5s 27ms/step - loss: 0.2301 - accuracy: 0.9322 - val_loss: 0.1278 - val_accuracy: 0.9620\n",
            "Epoch 6/30\n",
            "188/188 [==============================] - 6s 34ms/step - loss: 0.2067 - accuracy: 0.9378 - val_loss: 0.1210 - val_accuracy: 0.9632\n",
            "Epoch 7/30\n",
            "188/188 [==============================] - 6s 34ms/step - loss: 0.1921 - accuracy: 0.9428 - val_loss: 0.1111 - val_accuracy: 0.9668\n",
            "Epoch 8/30\n",
            "188/188 [==============================] - 6s 33ms/step - loss: 0.1819 - accuracy: 0.9455 - val_loss: 0.1079 - val_accuracy: 0.9663\n",
            "Epoch 9/30\n",
            "188/188 [==============================] - 5s 28ms/step - loss: 0.1738 - accuracy: 0.9477 - val_loss: 0.1093 - val_accuracy: 0.9657\n",
            "Epoch 10/30\n",
            "188/188 [==============================] - 5s 29ms/step - loss: 0.1692 - accuracy: 0.9501 - val_loss: 0.1146 - val_accuracy: 0.9668\n",
            "Epoch 11/30\n",
            "188/188 [==============================] - 6s 34ms/step - loss: 0.1602 - accuracy: 0.9522 - val_loss: 0.1004 - val_accuracy: 0.9680\n",
            "Epoch 12/30\n",
            "188/188 [==============================] - 5s 29ms/step - loss: 0.1566 - accuracy: 0.9532 - val_loss: 0.1033 - val_accuracy: 0.9686\n",
            "Epoch 13/30\n",
            "188/188 [==============================] - 7s 35ms/step - loss: 0.1502 - accuracy: 0.9557 - val_loss: 0.0980 - val_accuracy: 0.9687\n",
            "Epoch 14/30\n",
            "188/188 [==============================] - 5s 29ms/step - loss: 0.1510 - accuracy: 0.9545 - val_loss: 0.0900 - val_accuracy: 0.9717\n",
            "Epoch 15/30\n",
            "188/188 [==============================] - 8s 42ms/step - loss: 0.1465 - accuracy: 0.9559 - val_loss: 0.0860 - val_accuracy: 0.9728\n",
            "Epoch 16/30\n",
            "188/188 [==============================] - 5s 28ms/step - loss: 0.1402 - accuracy: 0.9584 - val_loss: 0.0878 - val_accuracy: 0.9743\n",
            "Epoch 17/30\n",
            "188/188 [==============================] - 7s 37ms/step - loss: 0.1377 - accuracy: 0.9582 - val_loss: 0.0847 - val_accuracy: 0.9749\n",
            "Epoch 18/30\n",
            "188/188 [==============================] - 7s 39ms/step - loss: 0.1361 - accuracy: 0.9600 - val_loss: 0.0859 - val_accuracy: 0.9731\n",
            "Epoch 19/30\n",
            "188/188 [==============================] - 7s 36ms/step - loss: 0.1341 - accuracy: 0.9591 - val_loss: 0.0835 - val_accuracy: 0.9744\n",
            "Epoch 20/30\n",
            "188/188 [==============================] - 5s 29ms/step - loss: 0.1291 - accuracy: 0.9609 - val_loss: 0.0806 - val_accuracy: 0.9755\n",
            "Epoch 21/30\n",
            "188/188 [==============================] - 7s 36ms/step - loss: 0.1268 - accuracy: 0.9613 - val_loss: 0.0826 - val_accuracy: 0.9758\n",
            "Epoch 22/30\n",
            "188/188 [==============================] - 7s 35ms/step - loss: 0.1277 - accuracy: 0.9615 - val_loss: 0.0863 - val_accuracy: 0.9735\n",
            "Epoch 23/30\n",
            "188/188 [==============================] - 7s 35ms/step - loss: 0.1244 - accuracy: 0.9624 - val_loss: 0.0800 - val_accuracy: 0.9756\n",
            "Epoch 24/30\n",
            "188/188 [==============================] - 5s 29ms/step - loss: 0.1236 - accuracy: 0.9630 - val_loss: 0.0947 - val_accuracy: 0.9711\n",
            "Epoch 25/30\n",
            "188/188 [==============================] - 6s 33ms/step - loss: 0.1223 - accuracy: 0.9633 - val_loss: 0.0891 - val_accuracy: 0.9728\n",
            "Epoch 26/30\n",
            "188/188 [==============================] - 5s 28ms/step - loss: 0.1209 - accuracy: 0.9631 - val_loss: 0.0785 - val_accuracy: 0.9762\n",
            "Epoch 27/30\n",
            "188/188 [==============================] - 6s 30ms/step - loss: 0.1193 - accuracy: 0.9638 - val_loss: 0.0777 - val_accuracy: 0.9766\n",
            "Epoch 28/30\n",
            "188/188 [==============================] - 6s 34ms/step - loss: 0.1176 - accuracy: 0.9640 - val_loss: 0.0754 - val_accuracy: 0.9761\n",
            "Epoch 29/30\n",
            "188/188 [==============================] - 5s 28ms/step - loss: 0.1140 - accuracy: 0.9657 - val_loss: 0.0786 - val_accuracy: 0.9764\n",
            "Epoch 30/30\n",
            "188/188 [==============================] - 8s 43ms/step - loss: 0.1170 - accuracy: 0.9635 - val_loss: 0.0875 - val_accuracy: 0.9727\n"
          ]
        },
        {
          "output_type": "execute_result",
          "data": {
            "text/plain": [
              "<keras.callbacks.History at 0x7f1eb4c4efd0>"
            ]
          },
          "metadata": {},
          "execution_count": 11
        }
      ]
    },
    {
      "cell_type": "markdown",
      "source": [
        "# 3. Evaluate the Model "
      ],
      "metadata": {
        "id": "NQ47xmCHYvNM"
      }
    },
    {
      "cell_type": "code",
      "source": [
        "import predict\n",
        "\n",
        "y_predict = predict.predict(cnn, processed_dataset['images_test'])"
      ],
      "metadata": {
        "colab": {
          "base_uri": "https://localhost:8080/"
        },
        "id": "Qc0MiV89Zsws",
        "outputId": "8c82ec88-2e97-430f-d1b8-e5b392b1504f"
      },
      "execution_count": 12,
      "outputs": [
        {
          "output_type": "stream",
          "name": "stdout",
          "text": [
            "313/313 [==============================] - 1s 3ms/step\n"
          ]
        }
      ]
    },
    {
      "cell_type": "code",
      "source": [
        "import numpy as np\n",
        "y_true = np.argmax(processed_dataset['labels_test'], 1)\n",
        "y_true"
      ],
      "metadata": {
        "colab": {
          "base_uri": "https://localhost:8080/"
        },
        "id": "YmSQCCjLagOt",
        "outputId": "5260df23-94f8-4e02-8de4-8b805bc36a67"
      },
      "execution_count": 13,
      "outputs": [
        {
          "output_type": "execute_result",
          "data": {
            "text/plain": [
              "array([7, 2, 1, ..., 4, 5, 6])"
            ]
          },
          "metadata": {},
          "execution_count": 13
        }
      ]
    },
    {
      "cell_type": "code",
      "source": [
        "%%bash\n",
        "mkdir results"
      ],
      "metadata": {
        "id": "6T0O2sVD132H"
      },
      "execution_count": 14,
      "outputs": []
    },
    {
      "cell_type": "code",
      "source": [
        "import metrics\n",
        "metrics.evaluate_model(y_true, y_predict, output_type='print2file',\n",
        "  output_path=os.path.join(config['results_path'], config['results_file']))"
      ],
      "metadata": {
        "colab": {
          "base_uri": "https://localhost:8080/"
        },
        "id": "_0pmVHZe1-31",
        "outputId": "cd526ceb-63c5-4c41-c649-347abe24ced1"
      },
      "execution_count": 15,
      "outputs": [
        {
          "output_type": "execute_result",
          "data": {
            "text/plain": [
              "0"
            ]
          },
          "metadata": {},
          "execution_count": 15
        }
      ]
    },
    {
      "cell_type": "code",
      "source": [
        "metrics.evaluate_model(y_true, y_predict, output_type='print')"
      ],
      "metadata": {
        "colab": {
          "base_uri": "https://localhost:8080/"
        },
        "id": "SaKZOElEatOB",
        "outputId": "4e3d7ff4-bf4d-4cc7-ea64-9e3b3b113fa6"
      },
      "execution_count": 16,
      "outputs": [
        {
          "output_type": "stream",
          "name": "stdout",
          "text": [
            "              precision    recall  f1-score   support\n",
            "\n",
            "           0       0.99      0.99      0.99       980\n",
            "           1       0.99      0.99      0.99      1135\n",
            "           2       0.97      0.98      0.98      1032\n",
            "           3       0.94      0.99      0.97      1010\n",
            "           4       0.99      0.96      0.98       982\n",
            "           5       0.98      0.97      0.97       892\n",
            "           6       0.99      0.98      0.98       958\n",
            "           7       0.98      0.98      0.98      1028\n",
            "           8       0.98      0.96      0.97       974\n",
            "           9       0.95      0.96      0.96      1009\n",
            "\n",
            "    accuracy                           0.98     10000\n",
            "   macro avg       0.98      0.98      0.98     10000\n",
            "weighted avg       0.98      0.98      0.98     10000\n",
            "\n"
          ]
        }
      ]
    },
    {
      "cell_type": "markdown",
      "source": [
        "# 4. Save Trained Model "
      ],
      "metadata": {
        "id": "9xyHSyIulxh_"
      }
    },
    {
      "cell_type": "code",
      "source": [
        "import  os\n",
        "cnn.save(os.path.join(config['model_path'], config['model_name']))"
      ],
      "metadata": {
        "id": "ZOnqH0NRayRj"
      },
      "execution_count": 17,
      "outputs": []
    },
    {
      "cell_type": "markdown",
      "source": [
        "# 5. Run Python script "
      ],
      "metadata": {
        "id": "72_J-yLVpZOo"
      }
    },
    {
      "cell_type": "code",
      "source": [
        "!pwd"
      ],
      "metadata": {
        "colab": {
          "base_uri": "https://localhost:8080/"
        },
        "id": "gTJeSb0us5H_",
        "outputId": "e8f9ffbb-1141-43eb-b84b-930ef4c739de"
      },
      "execution_count": 18,
      "outputs": [
        {
          "output_type": "stream",
          "name": "stdout",
          "text": [
            "/content/tutorial_docker_big_data/mnist-cnn_v0.5\n"
          ]
        }
      ]
    },
    {
      "cell_type": "code",
      "source": [
        "config['model_name'] = 'mnist_cnn_2.h5'\n",
        "config['epochs'] = 5\n",
        "config['results_file'] = 'mnist_cnn_2_results.txt'\n",
        "config"
      ],
      "metadata": {
        "colab": {
          "base_uri": "https://localhost:8080/"
        },
        "id": "qkF4kiElozN4",
        "outputId": "6233ac69-8ceb-4990-b73f-39f79e4a9b28"
      },
      "execution_count": 19,
      "outputs": [
        {
          "output_type": "execute_result",
          "data": {
            "text/plain": [
              "{'loss': 'categorical_crossentropy',\n",
              " 'optimizer': 'adam',\n",
              " 'metrics': 'accuracy',\n",
              " 'batch_size': 256,\n",
              " 'epochs': 5,\n",
              " 'validation_split': 0.2,\n",
              " 'model_name': 'mnist_cnn_2.h5',\n",
              " 'model_path': './models',\n",
              " 'results_file': 'mnist_cnn_2_results.txt',\n",
              " 'results_path': './results'}"
            ]
          },
          "metadata": {},
          "execution_count": 19
        }
      ]
    },
    {
      "cell_type": "code",
      "source": [
        "%%bash \n",
        "touch 'config_experiment2.yml'"
      ],
      "metadata": {
        "id": "MyRJi-Xgqvz3"
      },
      "execution_count": 20,
      "outputs": []
    },
    {
      "cell_type": "code",
      "source": [
        "import yaml\n",
        "with open('config_experiment2.yml', 'w') as file:\n",
        "  print(yaml.safe_dump(config, sort_keys=False), file=file)"
      ],
      "metadata": {
        "id": "nAOB1iblqEE9"
      },
      "execution_count": 21,
      "outputs": []
    },
    {
      "cell_type": "markdown",
      "source": [
        "Change in train_model.py\n",
        "\n",
        "`# load config file`\n",
        "\n",
        "`import yaml`\n",
        "\n",
        "`with open('config_experiment2.yml', 'r') as file:`\n",
        "\n",
        "`     config = yaml.safe_load(file)`"
      ],
      "metadata": {
        "id": "PTLpSmqf9r8s"
      }
    },
    {
      "cell_type": "code",
      "source": [
        "!python3 train_model.py"
      ],
      "metadata": {
        "colab": {
          "base_uri": "https://localhost:8080/"
        },
        "id": "hPGDwSztrQrR",
        "outputId": "a6ad3b35-585a-452d-e319-052a2ad19993"
      },
      "execution_count": 22,
      "outputs": [
        {
          "output_type": "stream",
          "name": "stdout",
          "text": [
            "2023-03-13 03:16:45.162061: W tensorflow/compiler/xla/stream_executor/platform/default/dso_loader.cc:64] Could not load dynamic library 'libnvinfer.so.7'; dlerror: libnvinfer.so.7: cannot open shared object file: No such file or directory; LD_LIBRARY_PATH: /usr/local/nvidia/lib:/usr/local/nvidia/lib64\n",
            "2023-03-13 03:16:45.162218: W tensorflow/compiler/xla/stream_executor/platform/default/dso_loader.cc:64] Could not load dynamic library 'libnvinfer_plugin.so.7'; dlerror: libnvinfer_plugin.so.7: cannot open shared object file: No such file or directory; LD_LIBRARY_PATH: /usr/local/nvidia/lib:/usr/local/nvidia/lib64\n",
            "2023-03-13 03:16:45.162246: W tensorflow/compiler/tf2tensorrt/utils/py_utils.cc:38] TF-TRT Warning: Cannot dlopen some TensorRT libraries. If you would like to use Nvidia GPU with TensorRT, please make sure the missing libraries mentioned above are installed properly.\n",
            "2023-03-13 03:16:47.731466: E tensorflow/compiler/xla/stream_executor/cuda/cuda_driver.cc:267] failed call to cuInit: CUDA_ERROR_NO_DEVICE: no CUDA-capable device is detected\n",
            "Epoch 1/5\n",
            "188/188 [==============================] - 7s 30ms/step - loss: 1.2813 - accuracy: 0.6016 - val_loss: 2.4147 - val_accuracy: 0.2325\n",
            "Epoch 2/5\n",
            "188/188 [==============================] - 7s 40ms/step - loss: 0.4084 - accuracy: 0.8872 - val_loss: 0.4725 - val_accuracy: 0.8668\n",
            "Epoch 3/5\n",
            "188/188 [==============================] - 5s 25ms/step - loss: 0.2738 - accuracy: 0.9210 - val_loss: 0.1681 - val_accuracy: 0.9516\n",
            "Epoch 4/5\n",
            "188/188 [==============================] - 6s 32ms/step - loss: 0.2263 - accuracy: 0.9333 - val_loss: 0.1376 - val_accuracy: 0.9572\n",
            "Epoch 5/5\n",
            "188/188 [==============================] - 5s 26ms/step - loss: 0.2014 - accuracy: 0.9408 - val_loss: 0.1156 - val_accuracy: 0.9647\n"
          ]
        }
      ]
    },
    {
      "cell_type": "code",
      "source": [
        "!python3 run.py"
      ],
      "metadata": {
        "colab": {
          "base_uri": "https://localhost:8080/"
        },
        "id": "FlvYSL20wWj0",
        "outputId": "38636db6-5143-4f8e-eff9-36ddafc7dee7"
      },
      "execution_count": 23,
      "outputs": [
        {
          "output_type": "stream",
          "name": "stdout",
          "text": [
            "2023-03-13 03:17:35.862472: W tensorflow/compiler/xla/stream_executor/platform/default/dso_loader.cc:64] Could not load dynamic library 'libnvinfer.so.7'; dlerror: libnvinfer.so.7: cannot open shared object file: No such file or directory; LD_LIBRARY_PATH: /usr/local/nvidia/lib:/usr/local/nvidia/lib64\n",
            "2023-03-13 03:17:35.862615: W tensorflow/compiler/xla/stream_executor/platform/default/dso_loader.cc:64] Could not load dynamic library 'libnvinfer_plugin.so.7'; dlerror: libnvinfer_plugin.so.7: cannot open shared object file: No such file or directory; LD_LIBRARY_PATH: /usr/local/nvidia/lib:/usr/local/nvidia/lib64\n",
            "2023-03-13 03:17:35.862643: W tensorflow/compiler/tf2tensorrt/utils/py_utils.cc:38] TF-TRT Warning: Cannot dlopen some TensorRT libraries. If you would like to use Nvidia GPU with TensorRT, please make sure the missing libraries mentioned above are installed properly.\n",
            "2023-03-13 03:17:38.332583: E tensorflow/compiler/xla/stream_executor/cuda/cuda_driver.cc:267] failed call to cuInit: CUDA_ERROR_NO_DEVICE: no CUDA-capable device is detected\n",
            "313/313 [==============================] - 1s 3ms/step\n",
            "/usr/local/lib/python3.9/dist-packages/sklearn/metrics/_classification.py:1344: UndefinedMetricWarning: Precision and F-score are ill-defined and being set to 0.0 in labels with no predicted samples. Use `zero_division` parameter to control this behavior.\n",
            "  _warn_prf(average, modifier, msg_start, len(result))\n",
            "/usr/local/lib/python3.9/dist-packages/sklearn/metrics/_classification.py:1344: UndefinedMetricWarning: Precision and F-score are ill-defined and being set to 0.0 in labels with no predicted samples. Use `zero_division` parameter to control this behavior.\n",
            "  _warn_prf(average, modifier, msg_start, len(result))\n",
            "/usr/local/lib/python3.9/dist-packages/sklearn/metrics/_classification.py:1344: UndefinedMetricWarning: Precision and F-score are ill-defined and being set to 0.0 in labels with no predicted samples. Use `zero_division` parameter to control this behavior.\n",
            "  _warn_prf(average, modifier, msg_start, len(result))\n"
          ]
        }
      ]
    },
    {
      "cell_type": "markdown",
      "source": [
        "## Exercise: Predict Labels \n",
        "1. Randomly sample 50 images from test dataset\n",
        "2. Evaluate the sample using the trained model\n",
        "3. Store the results into file 'mnist-cnn/results/results_sample_50.txt'\n",
        "4. Evaluate the sample using both trained models "
      ],
      "metadata": {
        "id": "0Whc0sPMl-Wn"
      }
    },
    {
      "cell_type": "markdown",
      "source": [
        "# 6. Config File as an Argumemt "
      ],
      "metadata": {
        "id": "eqfNabMa0S77"
      }
    },
    {
      "cell_type": "code",
      "source": [
        "os.chdir('./tutorial_docker_big_data/mnist-cnn/')\n",
        "sys.path.append('./src/')"
      ],
      "metadata": {
        "id": "JgIW_hjQ0cmh"
      },
      "execution_count": null,
      "outputs": []
    },
    {
      "cell_type": "code",
      "source": [
        "!python3 run.py --config 'config.yml'"
      ],
      "metadata": {
        "colab": {
          "base_uri": "https://localhost:8080/"
        },
        "id": "AjP0BUoc-9a1",
        "outputId": "6327495d-eb37-4991-9500-632d82d202f8"
      },
      "execution_count": 81,
      "outputs": [
        {
          "output_type": "stream",
          "name": "stdout",
          "text": [
            "2023-03-13 04:40:55.378916: W tensorflow/compiler/xla/stream_executor/platform/default/dso_loader.cc:64] Could not load dynamic library 'libnvinfer.so.7'; dlerror: libnvinfer.so.7: cannot open shared object file: No such file or directory; LD_LIBRARY_PATH: /usr/local/nvidia/lib:/usr/local/nvidia/lib64\n",
            "2023-03-13 04:40:55.379035: W tensorflow/compiler/xla/stream_executor/platform/default/dso_loader.cc:64] Could not load dynamic library 'libnvinfer_plugin.so.7'; dlerror: libnvinfer_plugin.so.7: cannot open shared object file: No such file or directory; LD_LIBRARY_PATH: /usr/local/nvidia/lib:/usr/local/nvidia/lib64\n",
            "2023-03-13 04:40:55.379058: W tensorflow/compiler/tf2tensorrt/utils/py_utils.cc:38] TF-TRT Warning: Cannot dlopen some TensorRT libraries. If you would like to use Nvidia GPU with TensorRT, please make sure the missing libraries mentioned above are installed properly.\n",
            "{'loss': 'categorical_crossentropy', 'optimizer': 'adam', 'metrics': 'accuracy', 'batch_size': 256, 'epochs': 30, 'validation_split': 0.2, 'model_name': 'mnist_cnn_1.h5', 'model_path': './models', 'results_file': 'mnist_cnn_1_results.txt', 'results_path': './results'}\n",
            "2023-03-13 04:40:58.189719: E tensorflow/compiler/xla/stream_executor/cuda/cuda_driver.cc:267] failed call to cuInit: CUDA_ERROR_NO_DEVICE: no CUDA-capable device is detected\n",
            "313/313 [==============================] - 1s 3ms/step\n",
            "/usr/local/lib/python3.9/dist-packages/sklearn/metrics/_classification.py:1344: UndefinedMetricWarning: Precision and F-score are ill-defined and being set to 0.0 in labels with no predicted samples. Use `zero_division` parameter to control this behavior.\n",
            "  _warn_prf(average, modifier, msg_start, len(result))\n",
            "/usr/local/lib/python3.9/dist-packages/sklearn/metrics/_classification.py:1344: UndefinedMetricWarning: Precision and F-score are ill-defined and being set to 0.0 in labels with no predicted samples. Use `zero_division` parameter to control this behavior.\n",
            "  _warn_prf(average, modifier, msg_start, len(result))\n",
            "/usr/local/lib/python3.9/dist-packages/sklearn/metrics/_classification.py:1344: UndefinedMetricWarning: Precision and F-score are ill-defined and being set to 0.0 in labels with no predicted samples. Use `zero_division` parameter to control this behavior.\n",
            "  _warn_prf(average, modifier, msg_start, len(result))\n"
          ]
        }
      ]
    },
    {
      "cell_type": "code",
      "source": [
        "!python3 run.py --config '../mnist-cnn_v0.5/config_experiment2.yml'"
      ],
      "metadata": {
        "id": "mn1TcVKHIMBh"
      },
      "execution_count": null,
      "outputs": []
    }
  ]
}