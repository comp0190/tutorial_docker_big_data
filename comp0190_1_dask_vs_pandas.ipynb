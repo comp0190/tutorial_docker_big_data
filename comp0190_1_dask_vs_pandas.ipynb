{
  "nbformat": 4,
  "nbformat_minor": 0,
  "metadata": {
    "colab": {
      "provenance": [],
      "machine_shape": "hm"
    },
    "kernelspec": {
      "name": "python3",
      "display_name": "Python 3"
    },
    "language_info": {
      "name": "python"
    },
    "gpuClass": "standard"
  },
  "cells": [
    {
      "cell_type": "code",
      "execution_count": 1,
      "metadata": {
        "colab": {
          "base_uri": "https://localhost:8080/"
        },
        "id": "0J1uMpWS7y_L",
        "outputId": "3672a9e2-43b5-404a-f7a4-882a88cd5585"
      },
      "outputs": [
        {
          "output_type": "stream",
          "name": "stdout",
          "text": [
            "Looking in indexes: https://pypi.org/simple, https://us-python.pkg.dev/colab-wheels/public/simple/\n",
            "Requirement already satisfied: dask in /usr/local/lib/python3.9/dist-packages (2022.2.1)\n",
            "Requirement already satisfied: partd>=0.3.10 in /usr/local/lib/python3.9/dist-packages (from dask) (1.3.0)\n",
            "Requirement already satisfied: pyyaml>=5.3.1 in /usr/local/lib/python3.9/dist-packages (from dask) (6.0)\n",
            "Requirement already satisfied: packaging>=20.0 in /usr/local/lib/python3.9/dist-packages (from dask) (23.0)\n",
            "Requirement already satisfied: cloudpickle>=1.1.1 in /usr/local/lib/python3.9/dist-packages (from dask) (2.2.1)\n",
            "Requirement already satisfied: toolz>=0.8.2 in /usr/local/lib/python3.9/dist-packages (from dask) (0.12.0)\n",
            "Requirement already satisfied: fsspec>=0.6.0 in /usr/local/lib/python3.9/dist-packages (from dask) (2023.3.0)\n",
            "Requirement already satisfied: locket in /usr/local/lib/python3.9/dist-packages (from partd>=0.3.10->dask) (1.0.0)\n"
          ]
        }
      ],
      "source": [
        "pip install dask"
      ]
    },
    {
      "cell_type": "markdown",
      "source": [
        "# Load Dataset\n",
        "\n",
        "__MNIST dataset__:\n",
        "- collection of 70 000 grayscale images of the 10 digits\n",
        "- each image is 28x28 pixels large, taking values from 0 to 255\n",
        "- dataset located at: `https://storage.googleapis.com/tensorflow/tf-keras-datasets/mnist.npz`\n",
        "\n"
      ],
      "metadata": {
        "id": "hHcA2n1R84-f"
      }
    },
    {
      "cell_type": "code",
      "source": [
        "from keras.datasets import mnist\n",
        "(x_train, y_train), (x_test, y_test) = mnist.load_data()\n",
        "\n",
        "#check the sizes of the loaded datasets\n",
        "datasets = ['x_train', 'y_train', 'x_test', 'y_test']\n",
        "shape = lambda array: array.shape\n",
        "dict(zip(datasets, list(map(shape, map(eval, datasets)))))"
      ],
      "metadata": {
        "colab": {
          "base_uri": "https://localhost:8080/"
        },
        "id": "Ycp9EM9X8jY7",
        "outputId": "5a5e475e-1ec0-405c-b2e7-b17026af587a"
      },
      "execution_count": 2,
      "outputs": [
        {
          "output_type": "execute_result",
          "data": {
            "text/plain": [
              "{'x_train': (60000, 28, 28),\n",
              " 'y_train': (60000,),\n",
              " 'x_test': (10000, 28, 28),\n",
              " 'y_test': (10000,)}"
            ]
          },
          "metadata": {},
          "execution_count": 2
        }
      ]
    },
    {
      "cell_type": "code",
      "source": [
        "\n",
        "shape(x_train)"
      ],
      "metadata": {
        "colab": {
          "base_uri": "https://localhost:8080/"
        },
        "id": "BpYwASRogNA3",
        "outputId": "6b09ce04-255b-4f3d-dc97-563e16cc1c90"
      },
      "execution_count": 3,
      "outputs": [
        {
          "output_type": "execute_result",
          "data": {
            "text/plain": [
              "(60000, 28, 28)"
            ]
          },
          "metadata": {},
          "execution_count": 3
        }
      ]
    },
    {
      "cell_type": "code",
      "source": [
        "# map stores the object with the logical map at some location in the memory, but does not load the result of the operaration into the memory \n",
        "print(map(shape, map(eval, datasets)))"
      ],
      "metadata": {
        "colab": {
          "base_uri": "https://localhost:8080/"
        },
        "id": "6xpXzlvKUBPR",
        "outputId": "40fec9df-1415-43be-d67f-2e49309fd5db"
      },
      "execution_count": 4,
      "outputs": [
        {
          "output_type": "stream",
          "name": "stdout",
          "text": [
            "<map object at 0x7fe84d2b6a30>\n"
          ]
        }
      ]
    },
    {
      "cell_type": "code",
      "source": [
        "# prints the content of the memory \n",
        "print(*map(shape, map(eval, datasets)))"
      ],
      "metadata": {
        "colab": {
          "base_uri": "https://localhost:8080/"
        },
        "id": "xEpwKgGPTo0h",
        "outputId": "ead57c0e-dfef-435d-d828-e6f8649f6b38"
      },
      "execution_count": 15,
      "outputs": [
        {
          "output_type": "stream",
          "name": "stdout",
          "text": [
            "(60000, 28, 28) (60000,) (10000, 28, 28) (10000,)\n"
          ]
        }
      ]
    },
    {
      "cell_type": "code",
      "source": [
        "import seaborn as sns\n",
        "import matplotlib.pyplot as plt"
      ],
      "metadata": {
        "id": "aUkWEhz28uAM"
      },
      "execution_count": 6,
      "outputs": []
    },
    {
      "cell_type": "code",
      "source": [
        "idx_ = 8\n",
        "#10-th row of the first image \n",
        "\n",
        "print(y_train[0], x_train[0][idx_])\n",
        "sns.heatmap(x_train[0])"
      ],
      "metadata": {
        "colab": {
          "base_uri": "https://localhost:8080/",
          "height": 317
        },
        "id": "hk7zNK-XI7I6",
        "outputId": "a7441398-722e-43c7-c5ce-628790cdc933"
      },
      "execution_count": 7,
      "outputs": [
        {
          "output_type": "stream",
          "name": "stdout",
          "text": [
            "5 [  0   0   0   0   0   0   0  18 219 253 253 253 253 253 198 182 247 241\n",
            "   0   0   0   0   0   0   0   0   0   0]\n"
          ]
        },
        {
          "output_type": "execute_result",
          "data": {
            "text/plain": [
              "<AxesSubplot:>"
            ]
          },
          "metadata": {},
          "execution_count": 7
        },
        {
          "output_type": "display_data",
          "data": {
            "text/plain": [
              "<Figure size 432x288 with 2 Axes>"
            ],
            "image/png": "[encoded data removed]"
          },
          "metadata": {
            "needs_background": "light"
          }
        }
      ]
    },
    {
      "cell_type": "markdown",
      "source": [
        "# Pandas and Dask Benchmarking "
      ],
      "metadata": {
        "id": "TnmSK2JLcWYc"
      }
    },
    {
      "cell_type": "code",
      "source": [
        "import pandas as pd\n",
        "import dask.dataframe as dd"
      ],
      "metadata": {
        "id": "k8u1x3xsKo9h"
      },
      "execution_count": 40,
      "outputs": []
    },
    {
      "cell_type": "markdown",
      "source": [
        "## 1. Store MNIST train dataset into csv file\n"
      ],
      "metadata": {
        "id": "v9khfqa40JkJ"
      }
    },
    {
      "cell_type": "code",
      "source": [
        "%%time\n",
        "df_train = pd.DataFrame(data=list(zip(y_train, x_train)), columns=['label', 'image'])\n",
        "df_test = pd.DataFrame(data=list(zip(y_test, x_test)), columns=['label', 'image'])"
      ],
      "metadata": {
        "colab": {
          "base_uri": "https://localhost:8080/"
        },
        "id": "gtyMlvvpOx5f",
        "outputId": "760d0589-f1c4-412e-b6dc-5e700b8a37c3"
      },
      "execution_count": 28,
      "outputs": [
        {
          "output_type": "stream",
          "name": "stdout",
          "text": [
            "CPU times: user 46.9 ms, sys: 5.04 ms, total: 52 ms\n",
            "Wall time: 51.4 ms\n"
          ]
        }
      ]
    },
    {
      "cell_type": "code",
      "source": [
        "%%time\n",
        "df_train.to_csv('mnist_train.csv', index=False)"
      ],
      "metadata": {
        "colab": {
          "base_uri": "https://localhost:8080/"
        },
        "id": "IL6H1QguWU2M",
        "outputId": "cda80bc1-e0c7-41fb-e1f4-f7eb3da5f178"
      },
      "execution_count": 26,
      "outputs": [
        {
          "output_type": "stream",
          "name": "stdout",
          "text": [
            "CPU times: user 1min 28s, sys: 1.09 s, total: 1min 29s\n",
            "Wall time: 1min 29s\n"
          ]
        }
      ]
    },
    {
      "cell_type": "code",
      "source": [
        "%%time\n",
        "df_train.to_csv('mnist_train.csv.gzip', compression='gzip', index=False)"
      ],
      "metadata": {
        "colab": {
          "base_uri": "https://localhost:8080/"
        },
        "id": "-llQZn-LQ262",
        "outputId": "3d050d9f-f326-4059-abd9-cd0fa2bee6f1"
      },
      "execution_count": 27,
      "outputs": [
        {
          "output_type": "stream",
          "name": "stdout",
          "text": [
            "CPU times: user 1min 47s, sys: 158 ms, total: 1min 48s\n",
            "Wall time: 1min 47s\n"
          ]
        }
      ]
    },
    {
      "cell_type": "markdown",
      "source": [
        "## Exercise 1: \n",
        "1. store MNIST test dataset into the csv file\n",
        "2.  store MNIST test dataset into the compressed csv file "
      ],
      "metadata": {
        "id": "bW0APllx5_54"
      }
    },
    {
      "cell_type": "markdown",
      "source": [
        "## 2. Experiment 1: Loading data into DataFrame "
      ],
      "metadata": {
        "id": "x6WrwJLV0Z6Q"
      }
    },
    {
      "cell_type": "code",
      "source": [
        "%%bash \n",
        "ls -lha"
      ],
      "metadata": {
        "colab": {
          "base_uri": "https://localhost:8080/"
        },
        "id": "vlXClIVkWJEM",
        "outputId": "0e5e9ab7-2d34-49e0-bbb9-5ebf218d3a83"
      },
      "execution_count": 20,
      "outputs": [
        {
          "output_type": "stream",
          "name": "stdout",
          "text": [
            "total 203M\n",
            "drwxr-xr-x 1 root root 4.0K Mar 12 16:06 .\n",
            "drwxr-xr-x 1 root root 4.0K Mar 12 15:36 ..\n",
            "drwxr-xr-x 4 root root 4.0K Mar  9 18:57 .config\n",
            "-rw-r--r-- 1 root root 188M Mar 12 16:11 mnist_train.csv\n",
            "-rw-r--r-- 1 root root  15M Mar 12 16:13 mnist_train.csv.gzip\n",
            "drwxr-xr-x 1 root root 4.0K Mar  9 18:58 sample_data\n"
          ]
        }
      ]
    },
    {
      "cell_type": "markdown",
      "source": [
        "### 2.1 Compresed Files "
      ],
      "metadata": {
        "id": "-fVHHPik0kvG"
      }
    },
    {
      "cell_type": "code",
      "source": [
        "%%timeit\n",
        "df_pandas_train_compressed = pd.read_csv('mnist_train.csv.gzip', compression='gzip')"
      ],
      "metadata": {
        "colab": {
          "base_uri": "https://localhost:8080/"
        },
        "id": "CipRCyTvYIve",
        "outputId": "be9e582d-9e73-4e5b-d4d1-5fbdb978ee0e"
      },
      "execution_count": 68,
      "outputs": [
        {
          "output_type": "stream",
          "name": "stdout",
          "text": [
            "2.28 s ± 15.9 ms per loop (mean ± std. dev. of 7 runs, 1 loop each)\n"
          ]
        }
      ]
    },
    {
      "cell_type": "code",
      "source": [
        "%%timeit\n",
        "df_dask_train_compressed = dd.read_csv('mnist_train.csv.gzip', compression='gzip', blocksize=None)"
      ],
      "metadata": {
        "colab": {
          "base_uri": "https://localhost:8080/"
        },
        "id": "Dw1hNK-Pb291",
        "outputId": "5461c621-43e5-4151-cd53-c9514864faeb"
      },
      "execution_count": 69,
      "outputs": [
        {
          "output_type": "stream",
          "name": "stdout",
          "text": [
            "6.93 ms ± 161 µs per loop (mean ± std. dev. of 7 runs, 100 loops each)\n"
          ]
        }
      ]
    },
    {
      "cell_type": "markdown",
      "source": [
        "### 2.2 Original Files "
      ],
      "metadata": {
        "id": "JgX75qs40sRo"
      }
    },
    {
      "cell_type": "code",
      "source": [
        "%%timeit\n",
        "df_pandas_train = pd.read_csv('mnist_train.csv')"
      ],
      "metadata": {
        "colab": {
          "base_uri": "https://localhost:8080/"
        },
        "id": "c12OlmOizlj_",
        "outputId": "8b039112-08ea-4502-b3d0-4949cbf72729"
      },
      "execution_count": 66,
      "outputs": [
        {
          "output_type": "stream",
          "name": "stdout",
          "text": [
            "1.73 s ± 21.5 ms per loop (mean ± std. dev. of 7 runs, 1 loop each)\n"
          ]
        }
      ]
    },
    {
      "cell_type": "code",
      "source": [
        "%%timeit\n",
        "df_dask_train = dd.read_csv('mnist_train.csv', blocksize=None)"
      ],
      "metadata": {
        "colab": {
          "base_uri": "https://localhost:8080/"
        },
        "id": "NToQ3Z2DzsAW",
        "outputId": "9656a21e-7d30-468c-dc28-23b07b0d20b1"
      },
      "execution_count": 67,
      "outputs": [
        {
          "output_type": "stream",
          "name": "stdout",
          "text": [
            "5.1 ms ± 149 µs per loop (mean ± std. dev. of 7 runs, 100 loops each)\n"
          ]
        }
      ]
    },
    {
      "cell_type": "markdown",
      "source": [
        "## 3. Experiment 2: Basic Operations on the DataFrames "
      ],
      "metadata": {
        "id": "yQm5W05r4l69"
      }
    },
    {
      "cell_type": "code",
      "source": [
        "df_pandas_train"
      ],
      "metadata": {
        "colab": {
          "base_uri": "https://localhost:8080/",
          "height": 424
        },
        "id": "zqE8I0P31G5D",
        "outputId": "517b5fe4-e7f7-473a-8f01-a32515a8abf2"
      },
      "execution_count": 46,
      "outputs": [
        {
          "output_type": "execute_result",
          "data": {
            "text/plain": [
              "       label                                              image\n",
              "0          5  [[  0   0   0   0   0   0   0   0   0   0   0 ...\n",
              "1          0  [[  0   0   0   0   0   0   0   0   0   0   0 ...\n",
              "2          4  [[  0   0   0   0   0   0   0   0   0   0   0 ...\n",
              "3          1  [[  0   0   0   0   0   0   0   0   0   0   0 ...\n",
              "4          9  [[  0   0   0   0   0   0   0   0   0   0   0 ...\n",
              "...      ...                                                ...\n",
              "59995      8  [[  0   0   0   0   0   0   0   0   0   0   0 ...\n",
              "59996      3  [[  0   0   0   0   0   0   0   0   0   0   0 ...\n",
              "59997      5  [[  0   0   0   0   0   0   0   0   0   0   0 ...\n",
              "59998      6  [[  0   0   0   0   0   0   0   0   0   0   0 ...\n",
              "59999      8  [[  0   0   0   0   0   0   0   0   0   0   0 ...\n",
              "\n",
              "[60000 rows x 2 columns]"
            ],
            "text/html": [
              "\n",
              "  <div id=\"df-2aafa939-b0b7-4512-97d6-03beee6936eb\">\n",
              "    <div class=\"colab-df-container\">\n",
              "      <div>\n",
              "<style scoped>\n",
              "    .dataframe tbody tr th:only-of-type {\n",
              "        vertical-align: middle;\n",
              "    }\n",
              "\n",
              "    .dataframe tbody tr th {\n",
              "        vertical-align: top;\n",
              "    }\n",
              "\n",
              "    .dataframe thead th {\n",
              "        text-align: right;\n",
              "    }\n",
              "</style>\n",
              "<table border=\"1\" class=\"dataframe\">\n",
              "  <thead>\n",
              "    <tr style=\"text-align: right;\">\n",
              "      <th></th>\n",
              "      <th>label</th>\n",
              "      <th>image</th>\n",
              "    </tr>\n",
              "  </thead>\n",
              "  <tbody>\n",
              "    <tr>\n",
              "      <th>0</th>\n",
              "      <td>5</td>\n",
              "      <td>[[  0   0   0   0   0   0   0   0   0   0   0 ...</td>\n",
              "    </tr>\n",
              "    <tr>\n",
              "      <th>1</th>\n",
              "      <td>0</td>\n",
              "      <td>[[  0   0   0   0   0   0   0   0   0   0   0 ...</td>\n",
              "    </tr>\n",
              "    <tr>\n",
              "      <th>2</th>\n",
              "      <td>4</td>\n",
              "      <td>[[  0   0   0   0   0   0   0   0   0   0   0 ...</td>\n",
              "    </tr>\n",
              "    <tr>\n",
              "      <th>3</th>\n",
              "      <td>1</td>\n",
              "      <td>[[  0   0   0   0   0   0   0   0   0   0   0 ...</td>\n",
              "    </tr>\n",
              "    <tr>\n",
              "      <th>4</th>\n",
              "      <td>9</td>\n",
              "      <td>[[  0   0   0   0   0   0   0   0   0   0   0 ...</td>\n",
              "    </tr>\n",
              "    <tr>\n",
              "      <th>...</th>\n",
              "      <td>...</td>\n",
              "      <td>...</td>\n",
              "    </tr>\n",
              "    <tr>\n",
              "      <th>59995</th>\n",
              "      <td>8</td>\n",
              "      <td>[[  0   0   0   0   0   0   0   0   0   0   0 ...</td>\n",
              "    </tr>\n",
              "    <tr>\n",
              "      <th>59996</th>\n",
              "      <td>3</td>\n",
              "      <td>[[  0   0   0   0   0   0   0   0   0   0   0 ...</td>\n",
              "    </tr>\n",
              "    <tr>\n",
              "      <th>59997</th>\n",
              "      <td>5</td>\n",
              "      <td>[[  0   0   0   0   0   0   0   0   0   0   0 ...</td>\n",
              "    </tr>\n",
              "    <tr>\n",
              "      <th>59998</th>\n",
              "      <td>6</td>\n",
              "      <td>[[  0   0   0   0   0   0   0   0   0   0   0 ...</td>\n",
              "    </tr>\n",
              "    <tr>\n",
              "      <th>59999</th>\n",
              "      <td>8</td>\n",
              "      <td>[[  0   0   0   0   0   0   0   0   0   0   0 ...</td>\n",
              "    </tr>\n",
              "  </tbody>\n",
              "</table>\n",
              "<p>60000 rows × 2 columns</p>\n",
              "</div>\n",
              "      <button class=\"colab-df-convert\" onclick=\"convertToInteractive('df-2aafa939-b0b7-4512-97d6-03beee6936eb')\"\n",
              "              title=\"Convert this dataframe to an interactive table.\"\n",
              "              style=\"display:none;\">\n",
              "        \n",
              "  <svg xmlns=\"http://www.w3.org/2000/svg\" height=\"24px\"viewBox=\"0 0 24 24\"\n",
              "       width=\"24px\">\n",
              "    <path d=\"M0 0h24v24H0V0z\" fill=\"none\"/>\n",
              "    <path d=\"M18.56 5.44l.94 2.06.94-2.06 2.06-.94-2.06-.94-.94-2.06-.94 2.06-2.06.94zm-11 1L8.5 8.5l.94-2.06 2.06-.94-2.06-.94L8.5 2.5l-.94 2.06-2.06.94zm10 10l.94 2.06.94-2.06 2.06-.94-2.06-.94-.94-2.06-.94 2.06-2.06.94z\"/><path d=\"M17.41 7.96l-1.37-1.37c-.4-.4-.92-.59-1.43-.59-.52 0-1.04.2-1.43.59L10.3 9.45l-7.72 7.72c-.78.78-.78 2.05 0 2.83L4 21.41c.39.39.9.59 1.41.59.51 0 1.02-.2 1.41-.59l7.78-7.78 2.81-2.81c.8-.78.8-2.07 0-2.86zM5.41 20L4 18.59l7.72-7.72 1.47 1.35L5.41 20z\"/>\n",
              "  </svg>\n",
              "      </button>\n",
              "      \n",
              "  <style>\n",
              "    .colab-df-container {\n",
              "      display:flex;\n",
              "      flex-wrap:wrap;\n",
              "      gap: 12px;\n",
              "    }\n",
              "\n",
              "    .colab-df-convert {\n",
              "      background-color: #E8F0FE;\n",
              "      border: none;\n",
              "      border-radius: 50%;\n",
              "      cursor: pointer;\n",
              "      display: none;\n",
              "      fill: #1967D2;\n",
              "      height: 32px;\n",
              "      padding: 0 0 0 0;\n",
              "      width: 32px;\n",
              "    }\n",
              "\n",
              "    .colab-df-convert:hover {\n",
              "      background-color: #E2EBFA;\n",
              "      box-shadow: 0px 1px 2px rgba(60, 64, 67, 0.3), 0px 1px 3px 1px rgba(60, 64, 67, 0.15);\n",
              "      fill: #174EA6;\n",
              "    }\n",
              "\n",
              "    [theme=dark] .colab-df-convert {\n",
              "      background-color: #3B4455;\n",
              "      fill: #D2E3FC;\n",
              "    }\n",
              "\n",
              "    [theme=dark] .colab-df-convert:hover {\n",
              "      background-color: #434B5C;\n",
              "      box-shadow: 0px 1px 3px 1px rgba(0, 0, 0, 0.15);\n",
              "      filter: drop-shadow(0px 1px 2px rgba(0, 0, 0, 0.3));\n",
              "      fill: #FFFFFF;\n",
              "    }\n",
              "  </style>\n",
              "\n",
              "      <script>\n",
              "        const buttonEl =\n",
              "          document.querySelector('#df-2aafa939-b0b7-4512-97d6-03beee6936eb button.colab-df-convert');\n",
              "        buttonEl.style.display =\n",
              "          google.colab.kernel.accessAllowed ? 'block' : 'none';\n",
              "\n",
              "        async function convertToInteractive(key) {\n",
              "          const element = document.querySelector('#df-2aafa939-b0b7-4512-97d6-03beee6936eb');\n",
              "          const dataTable =\n",
              "            await google.colab.kernel.invokeFunction('convertToInteractive',\n",
              "                                                     [key], {});\n",
              "          if (!dataTable) return;\n",
              "\n",
              "          const docLinkHtml = 'Like what you see? Visit the ' +\n",
              "            '<a target=\"_blank\" href=https://colab.research.google.com/notebooks/data_table.ipynb>data table notebook</a>'\n",
              "            + ' to learn more about interactive tables.';\n",
              "          element.innerHTML = '';\n",
              "          dataTable['output_type'] = 'display_data';\n",
              "          await google.colab.output.renderOutput(dataTable, element);\n",
              "          const docLink = document.createElement('div');\n",
              "          docLink.innerHTML = docLinkHtml;\n",
              "          element.appendChild(docLink);\n",
              "        }\n",
              "      </script>\n",
              "    </div>\n",
              "  </div>\n",
              "  "
            ]
          },
          "metadata": {},
          "execution_count": 46
        }
      ]
    },
    {
      "cell_type": "code",
      "source": [
        "df_dask_train"
      ],
      "metadata": {
        "colab": {
          "base_uri": "https://localhost:8080/",
          "height": 178
        },
        "id": "4KCnHrLV1Jyh",
        "outputId": "08111222-ea5a-4f7a-bd74-f631c0b9a224"
      },
      "execution_count": 70,
      "outputs": [
        {
          "output_type": "execute_result",
          "data": {
            "text/plain": [
              "Dask DataFrame Structure:\n",
              "               label   image\n",
              "npartitions=1               \n",
              "               int64  object\n",
              "                 ...     ...\n",
              "Dask Name: read-csv, 1 tasks"
            ],
            "text/html": [
              "<div><strong>Dask DataFrame Structure:</strong></div>\n",
              "<div>\n",
              "<style scoped>\n",
              "    .dataframe tbody tr th:only-of-type {\n",
              "        vertical-align: middle;\n",
              "    }\n",
              "\n",
              "    .dataframe tbody tr th {\n",
              "        vertical-align: top;\n",
              "    }\n",
              "\n",
              "    .dataframe thead th {\n",
              "        text-align: right;\n",
              "    }\n",
              "</style>\n",
              "<table border=\"1\" class=\"dataframe\">\n",
              "  <thead>\n",
              "    <tr style=\"text-align: right;\">\n",
              "      <th></th>\n",
              "      <th>label</th>\n",
              "      <th>image</th>\n",
              "    </tr>\n",
              "    <tr>\n",
              "      <th>npartitions=1</th>\n",
              "      <th></th>\n",
              "      <th></th>\n",
              "    </tr>\n",
              "  </thead>\n",
              "  <tbody>\n",
              "    <tr>\n",
              "      <th></th>\n",
              "      <td>int64</td>\n",
              "      <td>object</td>\n",
              "    </tr>\n",
              "    <tr>\n",
              "      <th></th>\n",
              "      <td>...</td>\n",
              "      <td>...</td>\n",
              "    </tr>\n",
              "  </tbody>\n",
              "</table>\n",
              "</div>\n",
              "<div>Dask Name: read-csv, 1 tasks</div>"
            ]
          },
          "metadata": {},
          "execution_count": 70
        }
      ]
    },
    {
      "cell_type": "markdown",
      "source": [
        "### 3.1 Size of the Dataset "
      ],
      "metadata": {
        "id": "W-zXs0VB5I3m"
      }
    },
    {
      "cell_type": "code",
      "source": [
        "%%timeit\n",
        "len(df_pandas_train)"
      ],
      "metadata": {
        "colab": {
          "base_uri": "https://localhost:8080/"
        },
        "id": "1HMzj9gF1UVN",
        "outputId": "a6d03fb4-1a99-43c1-f665-b82397c74825"
      },
      "execution_count": 62,
      "outputs": [
        {
          "output_type": "stream",
          "name": "stdout",
          "text": [
            "445 ns ± 8.13 ns per loop (mean ± std. dev. of 7 runs, 1000000 loops each)\n"
          ]
        }
      ]
    },
    {
      "cell_type": "code",
      "source": [
        "%%timeit\n",
        "len(df_dask_train)"
      ],
      "metadata": {
        "colab": {
          "base_uri": "https://localhost:8080/"
        },
        "id": "2nbAhp6Q1NUg",
        "outputId": "ddfc4267-a4cf-4893-c09d-6522ebd4a935"
      },
      "execution_count": 63,
      "outputs": [
        {
          "output_type": "stream",
          "name": "stdout",
          "text": [
            "985 ms ± 28.8 ms per loop (mean ± std. dev. of 7 runs, 1 loop each)\n"
          ]
        }
      ]
    },
    {
      "cell_type": "markdown",
      "source": [
        "### 3.2 Groupby Operations "
      ],
      "metadata": {
        "id": "43blCCnG5RJG"
      }
    },
    {
      "cell_type": "code",
      "source": [
        "%%timeit\n",
        "df_pandas_train.groupby('label').size()"
      ],
      "metadata": {
        "colab": {
          "base_uri": "https://localhost:8080/"
        },
        "id": "isylGu3q2Vop",
        "outputId": "4e2ac10c-16c1-495a-b9d5-3e9cdca51fa7"
      },
      "execution_count": 65,
      "outputs": [
        {
          "output_type": "stream",
          "name": "stdout",
          "text": [
            "1.17 ms ± 11.9 µs per loop (mean ± std. dev. of 7 runs, 1000 loops each)\n"
          ]
        }
      ]
    },
    {
      "cell_type": "code",
      "source": [
        "%%timeit\n",
        "df_dask_train.groupby('label').size()"
      ],
      "metadata": {
        "colab": {
          "base_uri": "https://localhost:8080/"
        },
        "id": "EsnkmMFZ2eFC",
        "outputId": "28462b81-cacc-40ec-f27c-3a5980b00a0d"
      },
      "execution_count": 64,
      "outputs": [
        {
          "output_type": "stream",
          "name": "stdout",
          "text": [
            "2.79 ms ± 120 µs per loop (mean ± std. dev. of 7 runs, 100 loops each)\n"
          ]
        }
      ]
    },
    {
      "cell_type": "code",
      "source": [
        "res = df_dask_train.groupby('label').size()"
      ],
      "metadata": {
        "id": "a7T7wIOTCZmN"
      },
      "execution_count": 86,
      "outputs": []
    },
    {
      "cell_type": "code",
      "source": [
        "res.dask"
      ],
      "metadata": {
        "colab": {
          "base_uri": "https://localhost:8080/",
          "height": 661
        },
        "id": "avlUUKOaCmzJ",
        "outputId": "9b6f930a-1743-40bc-df84-ba9d68426d2a"
      },
      "execution_count": 87,
      "outputs": [
        {
          "output_type": "execute_result",
          "data": {
            "text/plain": [
              "HighLevelGraph with 3 layers.\n",
              "<dask.highlevelgraph.HighLevelGraph object at 0x7fe7868bc880>\n",
              " 0. read-csv-bc73aa6ed16752215132b5c35f803515\n",
              " 1. dataframe-groupby-size-chunk-36e79f62906815c192d9d2d09583d950-785e675a4bfbf0a7ae28d3ab91a76e58\n",
              " 2. dataframe-groupby-size-agg-36e79f62906815c192d9d2d09583d950"
            ],
            "text/html": [
              "<div>\n",
              "    <div>\n",
              "        <div style=\"width: 52px; height: 52px; position: absolute;\">\n",
              "            <svg width=\"76\" height=\"71\" viewBox=\"0 0 76 71\" fill=\"none\" xmlns=\"http://www.w3.org/2000/svg\">\n",
              "                <circle cx=\"61.5\" cy=\"36.5\" r=\"13.5\" style=\"stroke: var(--jp-ui-font-color2, #1D1D1D); fill: var(--jp-layout-color1, #F2F2F2);\" stroke-width=\"2\"/>\n",
              "                <circle cx=\"14.5\" cy=\"14.5\" r=\"13.5\" style=\"stroke: var(--jp-ui-font-color2, #1D1D1D); fill: var(--jp-layout-color1, #F2F2F2);\" stroke-width=\"2\"/>\n",
              "                <circle cx=\"14.5\" cy=\"56.5\" r=\"13.5\" style=\"stroke: var(--jp-ui-font-color2, #1D1D1D); fill: var(--jp-layout-color1, #F2F2F2);\" stroke-width=\"2\"/>\n",
              "                <path d=\"M28 16L30.5 16C33.2614 16 35.5 18.2386 35.5 21L35.5 32.0001C35.5 34.7615 37.7386 37.0001 40.5 37.0001L43 37.0001\" style=\"stroke: var(--jp-ui-font-color2, #1D1D1D);\" stroke-width=\"1.5\"/>\n",
              "                <path d=\"M40.5 37L40.5 37.75L40.5 37.75L40.5 37ZM35.5 42L36.25 42L35.5 42ZM35.5 52L34.75 52L35.5 52ZM30.5 57L30.5 57.75L30.5 57ZM41.5001 36.25L40.5 36.25L40.5 37.75L41.5001 37.75L41.5001 36.25ZM34.75 42L34.75 52L36.25 52L36.25 42L34.75 42ZM30.5 56.25L28.0001 56.25L28.0001 57.75L30.5 57.75L30.5 56.25ZM34.75 52C34.75 54.3472 32.8472 56.25 30.5 56.25L30.5 57.75C33.6756 57.75 36.25 55.1756 36.25 52L34.75 52ZM40.5 36.25C37.3244 36.25 34.75 38.8243 34.75 42L36.25 42C36.25 39.6528 38.1528 37.75 40.5 37.75L40.5 36.25Z\" style=\"fill: var(--jp-ui-font-color2, #1D1D1D);\"/>\n",
              "                <circle cx=\"28\" cy=\"16\" r=\"2.25\" fill=\"#E5E5E5\" style=\"stroke: var(--jp-ui-font-color2, #1D1D1D);\" stroke-width=\"1.5\"/>\n",
              "                <circle cx=\"28\" cy=\"57\" r=\"2.25\" fill=\"#E5E5E5\" style=\"stroke: var(--jp-ui-font-color2, #1D1D1D);\" stroke-width=\"1.5\"/>\n",
              "                <path d=\"M45.25 36.567C45.5833 36.7594 45.5833 37.2406 45.25 37.433L42.25 39.1651C41.9167 39.3575 41.5 39.117 41.5 38.7321V35.2679C41.5 34.883 41.9167 34.6425 42.25 34.8349L45.25 36.567Z\" style=\"fill: var(--jp-ui-font-color2, #1D1D1D);\"/>\n",
              "            </svg>\n",
              "        </div>\n",
              "        <div style=\"margin-left: 64px;\">\n",
              "            <h3 style=\"margin-bottom: 0px;\">HighLevelGraph</h3>\n",
              "            <p style=\"color: var(--jp-ui-font-color2, #5D5851); margin-bottom:0px;\">\n",
              "                HighLevelGraph with 3 layers and 3 keys from all layers.\n",
              "            </p>\n",
              "            \n",
              "            <div style=\"\">\n",
              "    <svg width=\"24\" height=\"24\" viewBox=\"0 0 32 32\" fill=\"none\" xmlns=\"http://www.w3.org/2000/svg\" style=\"position: absolute;\">\n",
              "        \n",
              "        <circle cx=\"16\" cy=\"16\" r=\"14\" fill=\"#8F8F8F\" style=\"stroke: var(--jp-ui-font-color2, #1D1D1D);\" stroke-width=\"2\"/>\n",
              "        \n",
              "    </svg>\n",
              "\n",
              "    <details style=\"margin-left: 32px;\">\n",
              "        <summary style=\"margin-bottom: 10px; margin-top: 10px;\">\n",
              "            <h4 style=\"display: inline;\">Layer1: read-csv</h4>\n",
              "        </summary>\n",
              "        <p style=\"color: var(--jp-ui-font-color2, #5D5851); margin: -0.25em 0px 0px 0px;\">\n",
              "            read-csv-bc73aa6ed16752215132b5c35f803515\n",
              "        </p>\n",
              "\n",
              "        <table>\n",
              "        <tr>\n",
              "            <td>\n",
              "                <table>\n",
              "                \n",
              "                    <tr>\n",
              "                        <th style=\"text-align: left; width: 150px;\">layer_type</th>\n",
              "                        <td style=\"text-align: left;\">DataFrameIOLayer</td>\n",
              "                    </tr>\n",
              "                \n",
              "                    <tr>\n",
              "                        <th style=\"text-align: left; width: 150px;\">is_materialized</th>\n",
              "                        <td style=\"text-align: left;\">True</td>\n",
              "                    </tr>\n",
              "                \n",
              "                    <tr>\n",
              "                        <th style=\"text-align: left; width: 150px;\">number of outputs</th>\n",
              "                        <td style=\"text-align: left;\">1</td>\n",
              "                    </tr>\n",
              "                \n",
              "                    <tr>\n",
              "                        <th style=\"text-align: left; width: 150px;\">npartitions</th>\n",
              "                        <td style=\"text-align: left;\">1</td>\n",
              "                    </tr>\n",
              "                \n",
              "                    <tr>\n",
              "                        <th style=\"text-align: left; width: 150px;\">columns</th>\n",
              "                        <td style=\"text-align: left;\">[&#x27;label&#x27;, &#x27;image&#x27;]</td>\n",
              "                    </tr>\n",
              "                \n",
              "                    <tr>\n",
              "                        <th style=\"text-align: left; width: 150px;\">type</th>\n",
              "                        <td style=\"text-align: left;\">dask.dataframe.core.DataFrame</td>\n",
              "                    </tr>\n",
              "                \n",
              "                    <tr>\n",
              "                        <th style=\"text-align: left; width: 150px;\">dataframe_type</th>\n",
              "                        <td style=\"text-align: left;\">pandas.core.frame.DataFrame</td>\n",
              "                    </tr>\n",
              "                \n",
              "                    <tr>\n",
              "                        <th style=\"text-align: left; width: 150px;\">series_dtypes</th>\n",
              "                        <td style=\"text-align: left;\">{&#x27;label&#x27;: dtype(&#x27;int64&#x27;), &#x27;image&#x27;: dtype(&#x27;O&#x27;)}</td>\n",
              "                    </tr>\n",
              "                \n",
              "                </table>\n",
              "            </td>\n",
              "            <td>\n",
              "                \n",
              "            </td>\n",
              "        </tr>\n",
              "        </table>\n",
              "\n",
              "    </details>\n",
              "</div>\n",
              "            \n",
              "            <div style=\"\">\n",
              "    <svg width=\"24\" height=\"24\" viewBox=\"0 0 32 32\" fill=\"none\" xmlns=\"http://www.w3.org/2000/svg\" style=\"position: absolute;\">\n",
              "        \n",
              "        <circle cx=\"16\" cy=\"16\" r=\"14\" style=\"stroke: var(--jp-ui-font-color2, #1D1D1D); fill: var(--jp-layout-color1, #F2F2F2);\" stroke-width=\"2\" />\n",
              "        \n",
              "    </svg>\n",
              "\n",
              "    <details style=\"margin-left: 32px;\">\n",
              "        <summary style=\"margin-bottom: 10px; margin-top: 10px;\">\n",
              "            <h4 style=\"display: inline;\">Layer2: dataframe-groupby-size-chunk</h4>\n",
              "        </summary>\n",
              "        <p style=\"color: var(--jp-ui-font-color2, #5D5851); margin: -0.25em 0px 0px 0px;\">\n",
              "            dataframe-groupby-size-chunk-36e79f62906815c192d9d2d09583d950-785e675a4bfbf0a7ae28d3ab91a76e58\n",
              "        </p>\n",
              "\n",
              "        <table>\n",
              "        <tr>\n",
              "            <td>\n",
              "                <table>\n",
              "                \n",
              "                    <tr>\n",
              "                        <th style=\"text-align: left; width: 150px;\">layer_type</th>\n",
              "                        <td style=\"text-align: left;\">Blockwise</td>\n",
              "                    </tr>\n",
              "                \n",
              "                    <tr>\n",
              "                        <th style=\"text-align: left; width: 150px;\">is_materialized</th>\n",
              "                        <td style=\"text-align: left;\">False</td>\n",
              "                    </tr>\n",
              "                \n",
              "                    <tr>\n",
              "                        <th style=\"text-align: left; width: 150px;\">number of outputs</th>\n",
              "                        <td style=\"text-align: left;\">1</td>\n",
              "                    </tr>\n",
              "                \n",
              "                    <tr>\n",
              "                        <th style=\"text-align: left; width: 150px;\">npartitions</th>\n",
              "                        <td style=\"text-align: left;\">1</td>\n",
              "                    </tr>\n",
              "                \n",
              "                    <tr>\n",
              "                        <th style=\"text-align: left; width: 150px;\">columns</th>\n",
              "                        <td style=\"text-align: left;\">[&#x27;label&#x27;, &#x27;image&#x27;]</td>\n",
              "                    </tr>\n",
              "                \n",
              "                    <tr>\n",
              "                        <th style=\"text-align: left; width: 150px;\">type</th>\n",
              "                        <td style=\"text-align: left;\">dask.dataframe.core.DataFrame</td>\n",
              "                    </tr>\n",
              "                \n",
              "                    <tr>\n",
              "                        <th style=\"text-align: left; width: 150px;\">dataframe_type</th>\n",
              "                        <td style=\"text-align: left;\">pandas.core.frame.DataFrame</td>\n",
              "                    </tr>\n",
              "                \n",
              "                    <tr>\n",
              "                        <th style=\"text-align: left; width: 150px;\">series_dtypes</th>\n",
              "                        <td style=\"text-align: left;\">{&#x27;label&#x27;: dtype(&#x27;int64&#x27;), &#x27;image&#x27;: dtype(&#x27;O&#x27;)}</td>\n",
              "                    </tr>\n",
              "                \n",
              "                </table>\n",
              "            </td>\n",
              "            <td>\n",
              "                \n",
              "            </td>\n",
              "        </tr>\n",
              "        </table>\n",
              "\n",
              "    </details>\n",
              "</div>\n",
              "            \n",
              "            <div style=\"\">\n",
              "    <svg width=\"24\" height=\"24\" viewBox=\"0 0 32 32\" fill=\"none\" xmlns=\"http://www.w3.org/2000/svg\" style=\"position: absolute;\">\n",
              "        \n",
              "        <circle cx=\"16\" cy=\"16\" r=\"14\" style=\"stroke: var(--jp-ui-font-color2, #1D1D1D); fill: var(--jp-layout-color1, #F2F2F2);\" stroke-width=\"2\" />\n",
              "        \n",
              "    </svg>\n",
              "\n",
              "    <details style=\"margin-left: 32px;\">\n",
              "        <summary style=\"margin-bottom: 10px; margin-top: 10px;\">\n",
              "            <h4 style=\"display: inline;\">Layer3: dataframe-groupby-size-agg</h4>\n",
              "        </summary>\n",
              "        <p style=\"color: var(--jp-ui-font-color2, #5D5851); margin: -0.25em 0px 0px 0px;\">\n",
              "            dataframe-groupby-size-agg-36e79f62906815c192d9d2d09583d950\n",
              "        </p>\n",
              "\n",
              "        <table>\n",
              "        <tr>\n",
              "            <td>\n",
              "                <table>\n",
              "                \n",
              "                    <tr>\n",
              "                        <th style=\"text-align: left; width: 150px;\">layer_type</th>\n",
              "                        <td style=\"text-align: left;\">DataFrameTreeReduction</td>\n",
              "                    </tr>\n",
              "                \n",
              "                    <tr>\n",
              "                        <th style=\"text-align: left; width: 150px;\">is_materialized</th>\n",
              "                        <td style=\"text-align: left;\">False</td>\n",
              "                    </tr>\n",
              "                \n",
              "                    <tr>\n",
              "                        <th style=\"text-align: left; width: 150px;\">number of outputs</th>\n",
              "                        <td style=\"text-align: left;\">1</td>\n",
              "                    </tr>\n",
              "                \n",
              "                </table>\n",
              "            </td>\n",
              "            <td>\n",
              "                \n",
              "            </td>\n",
              "        </tr>\n",
              "        </table>\n",
              "\n",
              "    </details>\n",
              "</div>\n",
              "            \n",
              "        </div>\n",
              "    </div>\n",
              "</div>"
            ]
          },
          "metadata": {},
          "execution_count": 87
        }
      ]
    },
    {
      "cell_type": "code",
      "source": [
        "!cat /proc/cpuinfo"
      ],
      "metadata": {
        "colab": {
          "base_uri": "https://localhost:8080/"
        },
        "id": "vYo2L8w8M_7i",
        "outputId": "8b57fac9-cb4f-4be4-da15-0a873433bcb3"
      },
      "execution_count": 104,
      "outputs": [
        {
          "output_type": "stream",
          "name": "stdout",
          "text": [
            "processor\t: 0\n",
            "vendor_id\t: GenuineIntel\n",
            "cpu family\t: 6\n",
            "model\t\t: 79\n",
            "model name\t: Intel(R) Xeon(R) CPU @ 2.20GHz\n",
            "stepping\t: 0\n",
            "microcode\t: 0xffffffff\n",
            "cpu MHz\t\t: 2199.998\n",
            "cache size\t: 56320 KB\n",
            "physical id\t: 0\n",
            "siblings\t: 8\n",
            "core id\t\t: 0\n",
            "cpu cores\t: 4\n",
            "apicid\t\t: 0\n",
            "initial apicid\t: 0\n",
            "fpu\t\t: yes\n",
            "fpu_exception\t: yes\n",
            "cpuid level\t: 13\n",
            "wp\t\t: yes\n",
            "flags\t\t: fpu vme de pse tsc msr pae mce cx8 apic sep mtrr pge mca cmov pat pse36 clflush mmx fxsr sse sse2 ss ht syscall nx pdpe1gb rdtscp lm constant_tsc rep_good nopl xtopology nonstop_tsc cpuid tsc_known_freq pni pclmulqdq ssse3 fma cx16 pcid sse4_1 sse4_2 x2apic movbe popcnt aes xsave avx f16c rdrand hypervisor lahf_lm abm 3dnowprefetch invpcid_single ssbd ibrs ibpb stibp fsgsbase tsc_adjust bmi1 hle avx2 smep bmi2 erms invpcid rtm rdseed adx smap xsaveopt arat md_clear arch_capabilities\n",
            "bugs\t\t: cpu_meltdown spectre_v1 spectre_v2 spec_store_bypass l1tf mds swapgs taa mmio_stale_data retbleed\n",
            "bogomips\t: 4399.99\n",
            "clflush size\t: 64\n",
            "cache_alignment\t: 64\n",
            "address sizes\t: 46 bits physical, 48 bits virtual\n",
            "power management:\n",
            "\n",
            "processor\t: 1\n",
            "vendor_id\t: GenuineIntel\n",
            "cpu family\t: 6\n",
            "model\t\t: 79\n",
            "model name\t: Intel(R) Xeon(R) CPU @ 2.20GHz\n",
            "stepping\t: 0\n",
            "microcode\t: 0xffffffff\n",
            "cpu MHz\t\t: 2199.998\n",
            "cache size\t: 56320 KB\n",
            "physical id\t: 0\n",
            "siblings\t: 8\n",
            "core id\t\t: 1\n",
            "cpu cores\t: 4\n",
            "apicid\t\t: 2\n",
            "initial apicid\t: 2\n",
            "fpu\t\t: yes\n",
            "fpu_exception\t: yes\n",
            "cpuid level\t: 13\n",
            "wp\t\t: yes\n",
            "flags\t\t: fpu vme de pse tsc msr pae mce cx8 apic sep mtrr pge mca cmov pat pse36 clflush mmx fxsr sse sse2 ss ht syscall nx pdpe1gb rdtscp lm constant_tsc rep_good nopl xtopology nonstop_tsc cpuid tsc_known_freq pni pclmulqdq ssse3 fma cx16 pcid sse4_1 sse4_2 x2apic movbe popcnt aes xsave avx f16c rdrand hypervisor lahf_lm abm 3dnowprefetch invpcid_single ssbd ibrs ibpb stibp fsgsbase tsc_adjust bmi1 hle avx2 smep bmi2 erms invpcid rtm rdseed adx smap xsaveopt arat md_clear arch_capabilities\n",
            "bugs\t\t: cpu_meltdown spectre_v1 spectre_v2 spec_store_bypass l1tf mds swapgs taa mmio_stale_data retbleed\n",
            "bogomips\t: 4399.99\n",
            "clflush size\t: 64\n",
            "cache_alignment\t: 64\n",
            "address sizes\t: 46 bits physical, 48 bits virtual\n",
            "power management:\n",
            "\n",
            "processor\t: 2\n",
            "vendor_id\t: GenuineIntel\n",
            "cpu family\t: 6\n",
            "model\t\t: 79\n",
            "model name\t: Intel(R) Xeon(R) CPU @ 2.20GHz\n",
            "stepping\t: 0\n",
            "microcode\t: 0xffffffff\n",
            "cpu MHz\t\t: 2199.998\n",
            "cache size\t: 56320 KB\n",
            "physical id\t: 0\n",
            "siblings\t: 8\n",
            "core id\t\t: 2\n",
            "cpu cores\t: 4\n",
            "apicid\t\t: 4\n",
            "initial apicid\t: 4\n",
            "fpu\t\t: yes\n",
            "fpu_exception\t: yes\n",
            "cpuid level\t: 13\n",
            "wp\t\t: yes\n",
            "flags\t\t: fpu vme de pse tsc msr pae mce cx8 apic sep mtrr pge mca cmov pat pse36 clflush mmx fxsr sse sse2 ss ht syscall nx pdpe1gb rdtscp lm constant_tsc rep_good nopl xtopology nonstop_tsc cpuid tsc_known_freq pni pclmulqdq ssse3 fma cx16 pcid sse4_1 sse4_2 x2apic movbe popcnt aes xsave avx f16c rdrand hypervisor lahf_lm abm 3dnowprefetch invpcid_single ssbd ibrs ibpb stibp fsgsbase tsc_adjust bmi1 hle avx2 smep bmi2 erms invpcid rtm rdseed adx smap xsaveopt arat md_clear arch_capabilities\n",
            "bugs\t\t: cpu_meltdown spectre_v1 spectre_v2 spec_store_bypass l1tf mds swapgs taa mmio_stale_data retbleed\n",
            "bogomips\t: 4399.99\n",
            "clflush size\t: 64\n",
            "cache_alignment\t: 64\n",
            "address sizes\t: 46 bits physical, 48 bits virtual\n",
            "power management:\n",
            "\n",
            "processor\t: 3\n",
            "vendor_id\t: GenuineIntel\n",
            "cpu family\t: 6\n",
            "model\t\t: 79\n",
            "model name\t: Intel(R) Xeon(R) CPU @ 2.20GHz\n",
            "stepping\t: 0\n",
            "microcode\t: 0xffffffff\n",
            "cpu MHz\t\t: 2199.998\n",
            "cache size\t: 56320 KB\n",
            "physical id\t: 0\n",
            "siblings\t: 8\n",
            "core id\t\t: 3\n",
            "cpu cores\t: 4\n",
            "apicid\t\t: 6\n",
            "initial apicid\t: 6\n",
            "fpu\t\t: yes\n",
            "fpu_exception\t: yes\n",
            "cpuid level\t: 13\n",
            "wp\t\t: yes\n",
            "flags\t\t: fpu vme de pse tsc msr pae mce cx8 apic sep mtrr pge mca cmov pat pse36 clflush mmx fxsr sse sse2 ss ht syscall nx pdpe1gb rdtscp lm constant_tsc rep_good nopl xtopology nonstop_tsc cpuid tsc_known_freq pni pclmulqdq ssse3 fma cx16 pcid sse4_1 sse4_2 x2apic movbe popcnt aes xsave avx f16c rdrand hypervisor lahf_lm abm 3dnowprefetch invpcid_single ssbd ibrs ibpb stibp fsgsbase tsc_adjust bmi1 hle avx2 smep bmi2 erms invpcid rtm rdseed adx smap xsaveopt arat md_clear arch_capabilities\n",
            "bugs\t\t: cpu_meltdown spectre_v1 spectre_v2 spec_store_bypass l1tf mds swapgs taa mmio_stale_data retbleed\n",
            "bogomips\t: 4399.99\n",
            "clflush size\t: 64\n",
            "cache_alignment\t: 64\n",
            "address sizes\t: 46 bits physical, 48 bits virtual\n",
            "power management:\n",
            "\n",
            "processor\t: 4\n",
            "vendor_id\t: GenuineIntel\n",
            "cpu family\t: 6\n",
            "model\t\t: 79\n",
            "model name\t: Intel(R) Xeon(R) CPU @ 2.20GHz\n",
            "stepping\t: 0\n",
            "microcode\t: 0xffffffff\n",
            "cpu MHz\t\t: 2199.998\n",
            "cache size\t: 56320 KB\n",
            "physical id\t: 0\n",
            "siblings\t: 8\n",
            "core id\t\t: 0\n",
            "cpu cores\t: 4\n",
            "apicid\t\t: 1\n",
            "initial apicid\t: 1\n",
            "fpu\t\t: yes\n",
            "fpu_exception\t: yes\n",
            "cpuid level\t: 13\n",
            "wp\t\t: yes\n",
            "flags\t\t: fpu vme de pse tsc msr pae mce cx8 apic sep mtrr pge mca cmov pat pse36 clflush mmx fxsr sse sse2 ss ht syscall nx pdpe1gb rdtscp lm constant_tsc rep_good nopl xtopology nonstop_tsc cpuid tsc_known_freq pni pclmulqdq ssse3 fma cx16 pcid sse4_1 sse4_2 x2apic movbe popcnt aes xsave avx f16c rdrand hypervisor lahf_lm abm 3dnowprefetch invpcid_single ssbd ibrs ibpb stibp fsgsbase tsc_adjust bmi1 hle avx2 smep bmi2 erms invpcid rtm rdseed adx smap xsaveopt arat md_clear arch_capabilities\n",
            "bugs\t\t: cpu_meltdown spectre_v1 spectre_v2 spec_store_bypass l1tf mds swapgs taa mmio_stale_data retbleed\n",
            "bogomips\t: 4399.99\n",
            "clflush size\t: 64\n",
            "cache_alignment\t: 64\n",
            "address sizes\t: 46 bits physical, 48 bits virtual\n",
            "power management:\n",
            "\n",
            "processor\t: 5\n",
            "vendor_id\t: GenuineIntel\n",
            "cpu family\t: 6\n",
            "model\t\t: 79\n",
            "model name\t: Intel(R) Xeon(R) CPU @ 2.20GHz\n",
            "stepping\t: 0\n",
            "microcode\t: 0xffffffff\n",
            "cpu MHz\t\t: 2199.998\n",
            "cache size\t: 56320 KB\n",
            "physical id\t: 0\n",
            "siblings\t: 8\n",
            "core id\t\t: 1\n",
            "cpu cores\t: 4\n",
            "apicid\t\t: 3\n",
            "initial apicid\t: 3\n",
            "fpu\t\t: yes\n",
            "fpu_exception\t: yes\n",
            "cpuid level\t: 13\n",
            "wp\t\t: yes\n",
            "flags\t\t: fpu vme de pse tsc msr pae mce cx8 apic sep mtrr pge mca cmov pat pse36 clflush mmx fxsr sse sse2 ss ht syscall nx pdpe1gb rdtscp lm constant_tsc rep_good nopl xtopology nonstop_tsc cpuid tsc_known_freq pni pclmulqdq ssse3 fma cx16 pcid sse4_1 sse4_2 x2apic movbe popcnt aes xsave avx f16c rdrand hypervisor lahf_lm abm 3dnowprefetch invpcid_single ssbd ibrs ibpb stibp fsgsbase tsc_adjust bmi1 hle avx2 smep bmi2 erms invpcid rtm rdseed adx smap xsaveopt arat md_clear arch_capabilities\n",
            "bugs\t\t: cpu_meltdown spectre_v1 spectre_v2 spec_store_bypass l1tf mds swapgs taa mmio_stale_data retbleed\n",
            "bogomips\t: 4399.99\n",
            "clflush size\t: 64\n",
            "cache_alignment\t: 64\n",
            "address sizes\t: 46 bits physical, 48 bits virtual\n",
            "power management:\n",
            "\n",
            "processor\t: 6\n",
            "vendor_id\t: GenuineIntel\n",
            "cpu family\t: 6\n",
            "model\t\t: 79\n",
            "model name\t: Intel(R) Xeon(R) CPU @ 2.20GHz\n",
            "stepping\t: 0\n",
            "microcode\t: 0xffffffff\n",
            "cpu MHz\t\t: 2199.998\n",
            "cache size\t: 56320 KB\n",
            "physical id\t: 0\n",
            "siblings\t: 8\n",
            "core id\t\t: 2\n",
            "cpu cores\t: 4\n",
            "apicid\t\t: 5\n",
            "initial apicid\t: 5\n",
            "fpu\t\t: yes\n",
            "fpu_exception\t: yes\n",
            "cpuid level\t: 13\n",
            "wp\t\t: yes\n",
            "flags\t\t: fpu vme de pse tsc msr pae mce cx8 apic sep mtrr pge mca cmov pat pse36 clflush mmx fxsr sse sse2 ss ht syscall nx pdpe1gb rdtscp lm constant_tsc rep_good nopl xtopology nonstop_tsc cpuid tsc_known_freq pni pclmulqdq ssse3 fma cx16 pcid sse4_1 sse4_2 x2apic movbe popcnt aes xsave avx f16c rdrand hypervisor lahf_lm abm 3dnowprefetch invpcid_single ssbd ibrs ibpb stibp fsgsbase tsc_adjust bmi1 hle avx2 smep bmi2 erms invpcid rtm rdseed adx smap xsaveopt arat md_clear arch_capabilities\n",
            "bugs\t\t: cpu_meltdown spectre_v1 spectre_v2 spec_store_bypass l1tf mds swapgs taa mmio_stale_data retbleed\n",
            "bogomips\t: 4399.99\n",
            "clflush size\t: 64\n",
            "cache_alignment\t: 64\n",
            "address sizes\t: 46 bits physical, 48 bits virtual\n",
            "power management:\n",
            "\n",
            "processor\t: 7\n",
            "vendor_id\t: GenuineIntel\n",
            "cpu family\t: 6\n",
            "model\t\t: 79\n",
            "model name\t: Intel(R) Xeon(R) CPU @ 2.20GHz\n",
            "stepping\t: 0\n",
            "microcode\t: 0xffffffff\n",
            "cpu MHz\t\t: 2199.998\n",
            "cache size\t: 56320 KB\n",
            "physical id\t: 0\n",
            "siblings\t: 8\n",
            "core id\t\t: 3\n",
            "cpu cores\t: 4\n",
            "apicid\t\t: 7\n",
            "initial apicid\t: 7\n",
            "fpu\t\t: yes\n",
            "fpu_exception\t: yes\n",
            "cpuid level\t: 13\n",
            "wp\t\t: yes\n",
            "flags\t\t: fpu vme de pse tsc msr pae mce cx8 apic sep mtrr pge mca cmov pat pse36 clflush mmx fxsr sse sse2 ss ht syscall nx pdpe1gb rdtscp lm constant_tsc rep_good nopl xtopology nonstop_tsc cpuid tsc_known_freq pni pclmulqdq ssse3 fma cx16 pcid sse4_1 sse4_2 x2apic movbe popcnt aes xsave avx f16c rdrand hypervisor lahf_lm abm 3dnowprefetch invpcid_single ssbd ibrs ibpb stibp fsgsbase tsc_adjust bmi1 hle avx2 smep bmi2 erms invpcid rtm rdseed adx smap xsaveopt arat md_clear arch_capabilities\n",
            "bugs\t\t: cpu_meltdown spectre_v1 spectre_v2 spec_store_bypass l1tf mds swapgs taa mmio_stale_data retbleed\n",
            "bogomips\t: 4399.99\n",
            "clflush size\t: 64\n",
            "cache_alignment\t: 64\n",
            "address sizes\t: 46 bits physical, 48 bits virtual\n",
            "power management:\n",
            "\n"
          ]
        }
      ]
    },
    {
      "cell_type": "code",
      "source": [
        "from concurrent.futures import ThreadPoolExecutor\n",
        "import dask"
      ],
      "metadata": {
        "id": "dVB_ppEMEQOW"
      },
      "execution_count": 97,
      "outputs": []
    },
    {
      "cell_type": "code",
      "source": [
        "%%timeit \n",
        "with dask.config.set(pool=ThreadPoolExecutor(4)):\n",
        "  df_dask_train.groupby('label').size()"
      ],
      "metadata": {
        "colab": {
          "base_uri": "https://localhost:8080/"
        },
        "id": "-2k4gA01D_BX",
        "outputId": "6f911c50-ba77-4cb1-95e8-a8b973255ca4"
      },
      "execution_count": 101,
      "outputs": [
        {
          "output_type": "stream",
          "name": "stdout",
          "text": [
            "2.71 ms ± 52.7 µs per loop (mean ± std. dev. of 7 runs, 100 loops each)\n"
          ]
        }
      ]
    },
    {
      "cell_type": "code",
      "source": [
        "%%timeit \n",
        "with dask.config.set(pool=ThreadPoolExecutor(6)):\n",
        "  df_dask_train.groupby('label').size()"
      ],
      "metadata": {
        "colab": {
          "base_uri": "https://localhost:8080/"
        },
        "id": "EF5eI-wzNMo1",
        "outputId": "afe29f3b-818f-4ec1-e3c3-8d130e02f7f8"
      },
      "execution_count": 105,
      "outputs": [
        {
          "output_type": "stream",
          "name": "stdout",
          "text": [
            "2.69 ms ± 87.4 µs per loop (mean ± std. dev. of 7 runs, 100 loops each)\n"
          ]
        }
      ]
    },
    {
      "cell_type": "code",
      "source": [
        "%%timeit \n",
        "with dask.config.set(pool=ThreadPoolExecutor(8)):\n",
        "  df_dask_train.groupby('label').size()"
      ],
      "metadata": {
        "colab": {
          "base_uri": "https://localhost:8080/"
        },
        "id": "ZV-IZENlNQ1J",
        "outputId": "e7f30f0f-84ee-42df-f5ec-634cf56a404f"
      },
      "execution_count": 106,
      "outputs": [
        {
          "output_type": "stream",
          "name": "stdout",
          "text": [
            "2.69 ms ± 30.9 µs per loop (mean ± std. dev. of 7 runs, 100 loops each)\n"
          ]
        }
      ]
    },
    {
      "cell_type": "code",
      "source": [
        "%%timeit \n",
        "with dask.config.set(pool=ThreadPoolExecutor(12)):\n",
        "  df_dask_train.groupby('label').size()"
      ],
      "metadata": {
        "colab": {
          "base_uri": "https://localhost:8080/"
        },
        "id": "GzAu1X7QNWS8",
        "outputId": "4a9e4b1c-8077-4b39-b976-91acdc1d3f0c"
      },
      "execution_count": 107,
      "outputs": [
        {
          "output_type": "stream",
          "name": "stdout",
          "text": [
            "2.7 ms ± 47.9 µs per loop (mean ± std. dev. of 7 runs, 100 loops each)\n"
          ]
        }
      ]
    },
    {
      "cell_type": "code",
      "source": [
        "%%timeit \n",
        "with dask.config.set(num_workers=4):\n",
        "      df_dask_train.groupby('label').size()"
      ],
      "metadata": {
        "colab": {
          "base_uri": "https://localhost:8080/"
        },
        "id": "QkCJzH-jEJnP",
        "outputId": "df2871f2-bccb-4edf-a319-ee88fe3c52bc"
      },
      "execution_count": 108,
      "outputs": [
        {
          "output_type": "stream",
          "name": "stdout",
          "text": [
            "2.77 ms ± 50.3 µs per loop (mean ± std. dev. of 7 runs, 100 loops each)\n"
          ]
        }
      ]
    },
    {
      "cell_type": "code",
      "source": [
        "%%timeit \n",
        "with dask.config.set(num_workers=6):\n",
        "      df_dask_train.groupby('label').size()"
      ],
      "metadata": {
        "colab": {
          "base_uri": "https://localhost:8080/"
        },
        "id": "TjG4N_uFNmCG",
        "outputId": "809b2d4e-4f99-4c94-fe1c-efe38b444d8a"
      },
      "execution_count": 109,
      "outputs": [
        {
          "output_type": "stream",
          "name": "stdout",
          "text": [
            "2.78 ms ± 94.9 µs per loop (mean ± std. dev. of 7 runs, 100 loops each)\n"
          ]
        }
      ]
    },
    {
      "cell_type": "code",
      "source": [
        "%%timeit \n",
        "with dask.config.set(num_workers=8):\n",
        "      df_dask_train.groupby('label').size()"
      ],
      "metadata": {
        "colab": {
          "base_uri": "https://localhost:8080/"
        },
        "id": "kFANGRZVNrCP",
        "outputId": "443c332c-207d-4dfd-b4de-5d9f90a40b0b"
      },
      "execution_count": 110,
      "outputs": [
        {
          "output_type": "stream",
          "name": "stdout",
          "text": [
            "2.69 ms ± 68.5 µs per loop (mean ± std. dev. of 7 runs, 100 loops each)\n"
          ]
        }
      ]
    },
    {
      "cell_type": "code",
      "source": [
        "%%timeit \n",
        "with dask.config.set(num_workers=12):\n",
        "      df_dask_train.groupby('label').size()"
      ],
      "metadata": {
        "colab": {
          "base_uri": "https://localhost:8080/"
        },
        "id": "gthdzpD-Nvr7",
        "outputId": "fd83c996-75cc-4d6e-da57-b6bab156409e"
      },
      "execution_count": 111,
      "outputs": [
        {
          "output_type": "stream",
          "name": "stdout",
          "text": [
            "2.7 ms ± 38.1 µs per loop (mean ± std. dev. of 7 runs, 100 loops each)\n"
          ]
        }
      ]
    },
    {
      "cell_type": "markdown",
      "source": [
        "### Dask DataFrame to and from Pandas DataFrame, "
      ],
      "metadata": {
        "id": "D1Jg8J01N-kZ"
      }
    },
    {
      "cell_type": "code",
      "source": [
        "type(df_dask_train)"
      ],
      "metadata": {
        "colab": {
          "base_uri": "https://localhost:8080/"
        },
        "id": "9P1tc3P4OOiQ",
        "outputId": "a2fb3311-04e2-4faf-e3bc-863ac0506621"
      },
      "execution_count": 112,
      "outputs": [
        {
          "output_type": "execute_result",
          "data": {
            "text/plain": [
              "dask.dataframe.core.DataFrame"
            ]
          },
          "metadata": {},
          "execution_count": 112
        }
      ]
    },
    {
      "cell_type": "code",
      "source": [
        "%%timeit\n",
        "df_dask2pandas_train = pd.DataFrame(df_dask_train)"
      ],
      "metadata": {
        "colab": {
          "base_uri": "https://localhost:8080/"
        },
        "id": "ccgVaQ36OiMv",
        "outputId": "f8e7ce39-fce9-4d56-9551-921a045b186f"
      },
      "execution_count": 114,
      "outputs": [
        {
          "output_type": "stream",
          "name": "stdout",
          "text": [
            "1.95 s ± 13.1 ms per loop (mean ± std. dev. of 7 runs, 1 loop each)\n"
          ]
        }
      ]
    },
    {
      "cell_type": "code",
      "source": [
        "%%timeit\n",
        "df_dask2pandas_train = df_dask_train.compute()"
      ],
      "metadata": {
        "colab": {
          "base_uri": "https://localhost:8080/"
        },
        "id": "E5fvIyxTOrq2",
        "outputId": "b8f01d83-788d-49b7-f5cc-aea821753ef8"
      },
      "execution_count": 115,
      "outputs": [
        {
          "output_type": "stream",
          "name": "stdout",
          "text": [
            "1.94 s ± 10.9 ms per loop (mean ± std. dev. of 7 runs, 1 loop each)\n"
          ]
        }
      ]
    },
    {
      "cell_type": "code",
      "source": [
        "type(df_dask2pandas_train)"
      ],
      "metadata": {
        "colab": {
          "base_uri": "https://localhost:8080/"
        },
        "id": "Pj9QorQ8OS-Y",
        "outputId": "bf6e3218-440c-4d77-b50b-d640809425d3"
      },
      "execution_count": 113,
      "outputs": [
        {
          "output_type": "execute_result",
          "data": {
            "text/plain": [
              "pandas.core.frame.DataFrame"
            ]
          },
          "metadata": {},
          "execution_count": 113
        }
      ]
    },
    {
      "cell_type": "code",
      "source": [
        "type(df_pandas_train)"
      ],
      "metadata": {
        "colab": {
          "base_uri": "https://localhost:8080/"
        },
        "id": "NyV7eFMqO0au",
        "outputId": "8cad87ff-9bd8-459b-e615-9777123e47fa"
      },
      "execution_count": 116,
      "outputs": [
        {
          "output_type": "execute_result",
          "data": {
            "text/plain": [
              "pandas.core.frame.DataFrame"
            ]
          },
          "metadata": {},
          "execution_count": 116
        }
      ]
    },
    {
      "cell_type": "code",
      "source": [
        "df_pandas_train.info()"
      ],
      "metadata": {
        "colab": {
          "base_uri": "https://localhost:8080/"
        },
        "id": "H94VwMbDP4JK",
        "outputId": "fa9d9f2f-b2ba-4e88-8f97-d7212abcca76"
      },
      "execution_count": 122,
      "outputs": [
        {
          "output_type": "stream",
          "name": "stdout",
          "text": [
            "<class 'pandas.core.frame.DataFrame'>\n",
            "RangeIndex: 60000 entries, 0 to 59999\n",
            "Data columns (total 2 columns):\n",
            " #   Column  Non-Null Count  Dtype \n",
            "---  ------  --------------  ----- \n",
            " 0   label   60000 non-null  int64 \n",
            " 1   image   60000 non-null  object\n",
            "dtypes: int64(1), object(1)\n",
            "memory usage: 937.6+ KB\n"
          ]
        }
      ]
    },
    {
      "cell_type": "code",
      "source": [
        "df_pandas_train.memory_usage()"
      ],
      "metadata": {
        "colab": {
          "base_uri": "https://localhost:8080/"
        },
        "id": "7UmjQ-_XRNAi",
        "outputId": "4179d2e6-f459-4dd5-86e0-30049d6db217"
      },
      "execution_count": 127,
      "outputs": [
        {
          "output_type": "execute_result",
          "data": {
            "text/plain": [
              "Index       128\n",
              "label    480000\n",
              "image    480000\n",
              "dtype: int64"
            ]
          },
          "metadata": {},
          "execution_count": 127
        }
      ]
    },
    {
      "cell_type": "code",
      "source": [
        "# getting the size of the dataframe \n",
        "df_pandas_train.memory_usage().sum() "
      ],
      "metadata": {
        "colab": {
          "base_uri": "https://localhost:8080/"
        },
        "id": "thyyM8qzRQ0x",
        "outputId": "494a5d24-e793-4e69-f8d9-8c7c61bf4b35"
      },
      "execution_count": 132,
      "outputs": [
        {
          "output_type": "execute_result",
          "data": {
            "text/plain": [
              "960128"
            ]
          },
          "metadata": {},
          "execution_count": 132
        }
      ]
    },
    {
      "cell_type": "code",
      "source": [
        "# getting the size of the dataframe: iteratively computes the size of the objects within the columns\n",
        "df_pandas_train.memory_usage(deep=True)"
      ],
      "metadata": {
        "colab": {
          "base_uri": "https://localhost:8080/"
        },
        "id": "FE3XdnL4PE0M",
        "outputId": "3a8f53d6-2b1d-43a8-bd6e-30ecfadc2e4e"
      },
      "execution_count": 133,
      "outputs": [
        {
          "output_type": "execute_result",
          "data": {
            "text/plain": [
              "Index          128\n",
              "label       480000\n",
              "image    199980000\n",
              "dtype: int64"
            ]
          },
          "metadata": {},
          "execution_count": 133
        }
      ]
    },
    {
      "cell_type": "code",
      "source": [
        "import sys \n",
        "sys.getsizeof(df_pandas_train), df_pandas_train.memory_usage(deep=True).sum()"
      ],
      "metadata": {
        "colab": {
          "base_uri": "https://localhost:8080/"
        },
        "id": "eY1sW4oyPqbv",
        "outputId": "d0f100dd-53d2-4054-8d17-45b0fdb57caa"
      },
      "execution_count": 135,
      "outputs": [
        {
          "output_type": "execute_result",
          "data": {
            "text/plain": [
              "(200460144, 200460128)"
            ]
          },
          "metadata": {},
          "execution_count": 135
        }
      ]
    },
    {
      "cell_type": "code",
      "source": [
        "df_dask_train.info()"
      ],
      "metadata": {
        "colab": {
          "base_uri": "https://localhost:8080/"
        },
        "id": "L9uw87yGPJMc",
        "outputId": "5072396d-bf75-4017-8467-4df96b40b1a7"
      },
      "execution_count": 118,
      "outputs": [
        {
          "output_type": "stream",
          "name": "stdout",
          "text": [
            "<class 'dask.dataframe.core.DataFrame'>\n",
            "Columns: 2 entries, label to image\n",
            "dtypes: object(1), int64(1)"
          ]
        }
      ]
    },
    {
      "cell_type": "code",
      "source": [
        "%%timeit\n",
        "df_pandas2dask_train = dd.from_pandas(df_pandas_train, npartitions=3)"
      ],
      "metadata": {
        "colab": {
          "base_uri": "https://localhost:8080/"
        },
        "id": "woQ85nYOTpG0",
        "outputId": "53d79043-13de-4ec6-ee53-76e026a771a3"
      },
      "execution_count": 142,
      "outputs": [
        {
          "output_type": "stream",
          "name": "stdout",
          "text": [
            "528 ms ± 2.28 ms per loop (mean ± std. dev. of 7 runs, 1 loop each)\n"
          ]
        }
      ]
    },
    {
      "cell_type": "code",
      "source": [
        "df_pandas2dask_train = dd.from_pandas(df_pandas_train, npartitions=3)\n",
        "df_pandas2dask_train"
      ],
      "metadata": {
        "colab": {
          "base_uri": "https://localhost:8080/",
          "height": 241
        },
        "id": "BvUFRZHsUv_e",
        "outputId": "1c18e0bf-5313-4522-fcf7-1ab871ea2e9e"
      },
      "execution_count": 144,
      "outputs": [
        {
          "output_type": "execute_result",
          "data": {
            "text/plain": [
              "Dask DataFrame Structure:\n",
              "               label   image\n",
              "npartitions=3               \n",
              "0              int64  object\n",
              "20000            ...     ...\n",
              "40000            ...     ...\n",
              "59999            ...     ...\n",
              "Dask Name: from_pandas, 3 tasks"
            ],
            "text/html": [
              "<div><strong>Dask DataFrame Structure:</strong></div>\n",
              "<div>\n",
              "<style scoped>\n",
              "    .dataframe tbody tr th:only-of-type {\n",
              "        vertical-align: middle;\n",
              "    }\n",
              "\n",
              "    .dataframe tbody tr th {\n",
              "        vertical-align: top;\n",
              "    }\n",
              "\n",
              "    .dataframe thead th {\n",
              "        text-align: right;\n",
              "    }\n",
              "</style>\n",
              "<table border=\"1\" class=\"dataframe\">\n",
              "  <thead>\n",
              "    <tr style=\"text-align: right;\">\n",
              "      <th></th>\n",
              "      <th>label</th>\n",
              "      <th>image</th>\n",
              "    </tr>\n",
              "    <tr>\n",
              "      <th>npartitions=3</th>\n",
              "      <th></th>\n",
              "      <th></th>\n",
              "    </tr>\n",
              "  </thead>\n",
              "  <tbody>\n",
              "    <tr>\n",
              "      <th>0</th>\n",
              "      <td>int64</td>\n",
              "      <td>object</td>\n",
              "    </tr>\n",
              "    <tr>\n",
              "      <th>20000</th>\n",
              "      <td>...</td>\n",
              "      <td>...</td>\n",
              "    </tr>\n",
              "    <tr>\n",
              "      <th>40000</th>\n",
              "      <td>...</td>\n",
              "      <td>...</td>\n",
              "    </tr>\n",
              "    <tr>\n",
              "      <th>59999</th>\n",
              "      <td>...</td>\n",
              "      <td>...</td>\n",
              "    </tr>\n",
              "  </tbody>\n",
              "</table>\n",
              "</div>\n",
              "<div>Dask Name: from_pandas, 3 tasks</div>"
            ]
          },
          "metadata": {},
          "execution_count": 144
        }
      ]
    },
    {
      "cell_type": "code",
      "source": [
        "%%timeit \n",
        "with dask.config.set(pool=ThreadPoolExecutor(8)):\n",
        "  df_pandas2dask_train.groupby('label').size()"
      ],
      "metadata": {
        "colab": {
          "base_uri": "https://localhost:8080/"
        },
        "id": "42KeZ8IDUk2z",
        "outputId": "ee30033b-3257-42bf-cf00-fc295fd7cfe4"
      },
      "execution_count": 145,
      "outputs": [
        {
          "output_type": "stream",
          "name": "stdout",
          "text": [
            "2.74 ms ± 85.8 µs per loop (mean ± std. dev. of 7 runs, 100 loops each)\n"
          ]
        }
      ]
    },
    {
      "cell_type": "code",
      "source": [
        "res = df_pandas2dask_train.groupby('label').size()"
      ],
      "metadata": {
        "id": "ibGg8tD6VGko"
      },
      "execution_count": 146,
      "outputs": []
    },
    {
      "cell_type": "code",
      "source": [
        "res.dask"
      ],
      "metadata": {
        "colab": {
          "base_uri": "https://localhost:8080/",
          "height": 661
        },
        "id": "yhYXq-e6VKiA",
        "outputId": "41878b6d-96e0-445d-de36-44b1b7ba32f0"
      },
      "execution_count": 147,
      "outputs": [
        {
          "output_type": "execute_result",
          "data": {
            "text/plain": [
              "HighLevelGraph with 3 layers.\n",
              "<dask.highlevelgraph.HighLevelGraph object at 0x7fe7b9c57a90>\n",
              " 0. from_pandas-2aea99da16d8743dc8d9422ab98ad370\n",
              " 1. dataframe-groupby-size-chunk-a931cd6fe778703115f610d3d1ca44ba-b46976794f0b8a7205eca7e57ac614d4\n",
              " 2. dataframe-groupby-size-agg-a931cd6fe778703115f610d3d1ca44ba"
            ],
            "text/html": [
              "<div>\n",
              "    <div>\n",
              "        <div style=\"width: 52px; height: 52px; position: absolute;\">\n",
              "            <svg width=\"76\" height=\"71\" viewBox=\"0 0 76 71\" fill=\"none\" xmlns=\"http://www.w3.org/2000/svg\">\n",
              "                <circle cx=\"61.5\" cy=\"36.5\" r=\"13.5\" style=\"stroke: var(--jp-ui-font-color2, #1D1D1D); fill: var(--jp-layout-color1, #F2F2F2);\" stroke-width=\"2\"/>\n",
              "                <circle cx=\"14.5\" cy=\"14.5\" r=\"13.5\" style=\"stroke: var(--jp-ui-font-color2, #1D1D1D); fill: var(--jp-layout-color1, #F2F2F2);\" stroke-width=\"2\"/>\n",
              "                <circle cx=\"14.5\" cy=\"56.5\" r=\"13.5\" style=\"stroke: var(--jp-ui-font-color2, #1D1D1D); fill: var(--jp-layout-color1, #F2F2F2);\" stroke-width=\"2\"/>\n",
              "                <path d=\"M28 16L30.5 16C33.2614 16 35.5 18.2386 35.5 21L35.5 32.0001C35.5 34.7615 37.7386 37.0001 40.5 37.0001L43 37.0001\" style=\"stroke: var(--jp-ui-font-color2, #1D1D1D);\" stroke-width=\"1.5\"/>\n",
              "                <path d=\"M40.5 37L40.5 37.75L40.5 37.75L40.5 37ZM35.5 42L36.25 42L35.5 42ZM35.5 52L34.75 52L35.5 52ZM30.5 57L30.5 57.75L30.5 57ZM41.5001 36.25L40.5 36.25L40.5 37.75L41.5001 37.75L41.5001 36.25ZM34.75 42L34.75 52L36.25 52L36.25 42L34.75 42ZM30.5 56.25L28.0001 56.25L28.0001 57.75L30.5 57.75L30.5 56.25ZM34.75 52C34.75 54.3472 32.8472 56.25 30.5 56.25L30.5 57.75C33.6756 57.75 36.25 55.1756 36.25 52L34.75 52ZM40.5 36.25C37.3244 36.25 34.75 38.8243 34.75 42L36.25 42C36.25 39.6528 38.1528 37.75 40.5 37.75L40.5 36.25Z\" style=\"fill: var(--jp-ui-font-color2, #1D1D1D);\"/>\n",
              "                <circle cx=\"28\" cy=\"16\" r=\"2.25\" fill=\"#E5E5E5\" style=\"stroke: var(--jp-ui-font-color2, #1D1D1D);\" stroke-width=\"1.5\"/>\n",
              "                <circle cx=\"28\" cy=\"57\" r=\"2.25\" fill=\"#E5E5E5\" style=\"stroke: var(--jp-ui-font-color2, #1D1D1D);\" stroke-width=\"1.5\"/>\n",
              "                <path d=\"M45.25 36.567C45.5833 36.7594 45.5833 37.2406 45.25 37.433L42.25 39.1651C41.9167 39.3575 41.5 39.117 41.5 38.7321V35.2679C41.5 34.883 41.9167 34.6425 42.25 34.8349L45.25 36.567Z\" style=\"fill: var(--jp-ui-font-color2, #1D1D1D);\"/>\n",
              "            </svg>\n",
              "        </div>\n",
              "        <div style=\"margin-left: 64px;\">\n",
              "            <h3 style=\"margin-bottom: 0px;\">HighLevelGraph</h3>\n",
              "            <p style=\"color: var(--jp-ui-font-color2, #5D5851); margin-bottom:0px;\">\n",
              "                HighLevelGraph with 3 layers and 7 keys from all layers.\n",
              "            </p>\n",
              "            \n",
              "            <div style=\"\">\n",
              "    <svg width=\"24\" height=\"24\" viewBox=\"0 0 32 32\" fill=\"none\" xmlns=\"http://www.w3.org/2000/svg\" style=\"position: absolute;\">\n",
              "        \n",
              "        <circle cx=\"16\" cy=\"16\" r=\"14\" fill=\"#8F8F8F\" style=\"stroke: var(--jp-ui-font-color2, #1D1D1D);\" stroke-width=\"2\"/>\n",
              "        \n",
              "    </svg>\n",
              "\n",
              "    <details style=\"margin-left: 32px;\">\n",
              "        <summary style=\"margin-bottom: 10px; margin-top: 10px;\">\n",
              "            <h4 style=\"display: inline;\">Layer1: from_pandas</h4>\n",
              "        </summary>\n",
              "        <p style=\"color: var(--jp-ui-font-color2, #5D5851); margin: -0.25em 0px 0px 0px;\">\n",
              "            from_pandas-2aea99da16d8743dc8d9422ab98ad370\n",
              "        </p>\n",
              "\n",
              "        <table>\n",
              "        <tr>\n",
              "            <td>\n",
              "                <table>\n",
              "                \n",
              "                    <tr>\n",
              "                        <th style=\"text-align: left; width: 150px;\">layer_type</th>\n",
              "                        <td style=\"text-align: left;\">MaterializedLayer</td>\n",
              "                    </tr>\n",
              "                \n",
              "                    <tr>\n",
              "                        <th style=\"text-align: left; width: 150px;\">is_materialized</th>\n",
              "                        <td style=\"text-align: left;\">True</td>\n",
              "                    </tr>\n",
              "                \n",
              "                    <tr>\n",
              "                        <th style=\"text-align: left; width: 150px;\">number of outputs</th>\n",
              "                        <td style=\"text-align: left;\">3</td>\n",
              "                    </tr>\n",
              "                \n",
              "                    <tr>\n",
              "                        <th style=\"text-align: left; width: 150px;\">npartitions</th>\n",
              "                        <td style=\"text-align: left;\">3</td>\n",
              "                    </tr>\n",
              "                \n",
              "                    <tr>\n",
              "                        <th style=\"text-align: left; width: 150px;\">columns</th>\n",
              "                        <td style=\"text-align: left;\">[&#x27;label&#x27;, &#x27;image&#x27;]</td>\n",
              "                    </tr>\n",
              "                \n",
              "                    <tr>\n",
              "                        <th style=\"text-align: left; width: 150px;\">type</th>\n",
              "                        <td style=\"text-align: left;\">dask.dataframe.core.DataFrame</td>\n",
              "                    </tr>\n",
              "                \n",
              "                    <tr>\n",
              "                        <th style=\"text-align: left; width: 150px;\">dataframe_type</th>\n",
              "                        <td style=\"text-align: left;\">pandas.core.frame.DataFrame</td>\n",
              "                    </tr>\n",
              "                \n",
              "                    <tr>\n",
              "                        <th style=\"text-align: left; width: 150px;\">series_dtypes</th>\n",
              "                        <td style=\"text-align: left;\">{&#x27;label&#x27;: dtype(&#x27;int64&#x27;), &#x27;image&#x27;: dtype(&#x27;O&#x27;)}</td>\n",
              "                    </tr>\n",
              "                \n",
              "                </table>\n",
              "            </td>\n",
              "            <td>\n",
              "                \n",
              "            </td>\n",
              "        </tr>\n",
              "        </table>\n",
              "\n",
              "    </details>\n",
              "</div>\n",
              "            \n",
              "            <div style=\"\">\n",
              "    <svg width=\"24\" height=\"24\" viewBox=\"0 0 32 32\" fill=\"none\" xmlns=\"http://www.w3.org/2000/svg\" style=\"position: absolute;\">\n",
              "        \n",
              "        <circle cx=\"16\" cy=\"16\" r=\"14\" style=\"stroke: var(--jp-ui-font-color2, #1D1D1D); fill: var(--jp-layout-color1, #F2F2F2);\" stroke-width=\"2\" />\n",
              "        \n",
              "    </svg>\n",
              "\n",
              "    <details style=\"margin-left: 32px;\">\n",
              "        <summary style=\"margin-bottom: 10px; margin-top: 10px;\">\n",
              "            <h4 style=\"display: inline;\">Layer2: dataframe-groupby-size-chunk</h4>\n",
              "        </summary>\n",
              "        <p style=\"color: var(--jp-ui-font-color2, #5D5851); margin: -0.25em 0px 0px 0px;\">\n",
              "            dataframe-groupby-size-chunk-a931cd6fe778703115f610d3d1ca44ba-b46976794f0b8a7205eca7e57ac614d4\n",
              "        </p>\n",
              "\n",
              "        <table>\n",
              "        <tr>\n",
              "            <td>\n",
              "                <table>\n",
              "                \n",
              "                    <tr>\n",
              "                        <th style=\"text-align: left; width: 150px;\">layer_type</th>\n",
              "                        <td style=\"text-align: left;\">Blockwise</td>\n",
              "                    </tr>\n",
              "                \n",
              "                    <tr>\n",
              "                        <th style=\"text-align: left; width: 150px;\">is_materialized</th>\n",
              "                        <td style=\"text-align: left;\">False</td>\n",
              "                    </tr>\n",
              "                \n",
              "                    <tr>\n",
              "                        <th style=\"text-align: left; width: 150px;\">number of outputs</th>\n",
              "                        <td style=\"text-align: left;\">3</td>\n",
              "                    </tr>\n",
              "                \n",
              "                    <tr>\n",
              "                        <th style=\"text-align: left; width: 150px;\">npartitions</th>\n",
              "                        <td style=\"text-align: left;\">3</td>\n",
              "                    </tr>\n",
              "                \n",
              "                    <tr>\n",
              "                        <th style=\"text-align: left; width: 150px;\">columns</th>\n",
              "                        <td style=\"text-align: left;\">[&#x27;label&#x27;, &#x27;image&#x27;]</td>\n",
              "                    </tr>\n",
              "                \n",
              "                    <tr>\n",
              "                        <th style=\"text-align: left; width: 150px;\">type</th>\n",
              "                        <td style=\"text-align: left;\">dask.dataframe.core.DataFrame</td>\n",
              "                    </tr>\n",
              "                \n",
              "                    <tr>\n",
              "                        <th style=\"text-align: left; width: 150px;\">dataframe_type</th>\n",
              "                        <td style=\"text-align: left;\">pandas.core.frame.DataFrame</td>\n",
              "                    </tr>\n",
              "                \n",
              "                    <tr>\n",
              "                        <th style=\"text-align: left; width: 150px;\">series_dtypes</th>\n",
              "                        <td style=\"text-align: left;\">{&#x27;label&#x27;: dtype(&#x27;int64&#x27;), &#x27;image&#x27;: dtype(&#x27;O&#x27;)}</td>\n",
              "                    </tr>\n",
              "                \n",
              "                </table>\n",
              "            </td>\n",
              "            <td>\n",
              "                \n",
              "            </td>\n",
              "        </tr>\n",
              "        </table>\n",
              "\n",
              "    </details>\n",
              "</div>\n",
              "            \n",
              "            <div style=\"\">\n",
              "    <svg width=\"24\" height=\"24\" viewBox=\"0 0 32 32\" fill=\"none\" xmlns=\"http://www.w3.org/2000/svg\" style=\"position: absolute;\">\n",
              "        \n",
              "        <circle cx=\"16\" cy=\"16\" r=\"14\" style=\"stroke: var(--jp-ui-font-color2, #1D1D1D); fill: var(--jp-layout-color1, #F2F2F2);\" stroke-width=\"2\" />\n",
              "        \n",
              "    </svg>\n",
              "\n",
              "    <details style=\"margin-left: 32px;\">\n",
              "        <summary style=\"margin-bottom: 10px; margin-top: 10px;\">\n",
              "            <h4 style=\"display: inline;\">Layer3: dataframe-groupby-size-agg</h4>\n",
              "        </summary>\n",
              "        <p style=\"color: var(--jp-ui-font-color2, #5D5851); margin: -0.25em 0px 0px 0px;\">\n",
              "            dataframe-groupby-size-agg-a931cd6fe778703115f610d3d1ca44ba\n",
              "        </p>\n",
              "\n",
              "        <table>\n",
              "        <tr>\n",
              "            <td>\n",
              "                <table>\n",
              "                \n",
              "                    <tr>\n",
              "                        <th style=\"text-align: left; width: 150px;\">layer_type</th>\n",
              "                        <td style=\"text-align: left;\">DataFrameTreeReduction</td>\n",
              "                    </tr>\n",
              "                \n",
              "                    <tr>\n",
              "                        <th style=\"text-align: left; width: 150px;\">is_materialized</th>\n",
              "                        <td style=\"text-align: left;\">False</td>\n",
              "                    </tr>\n",
              "                \n",
              "                    <tr>\n",
              "                        <th style=\"text-align: left; width: 150px;\">number of outputs</th>\n",
              "                        <td style=\"text-align: left;\">1</td>\n",
              "                    </tr>\n",
              "                \n",
              "                </table>\n",
              "            </td>\n",
              "            <td>\n",
              "                \n",
              "            </td>\n",
              "        </tr>\n",
              "        </table>\n",
              "\n",
              "    </details>\n",
              "</div>\n",
              "            \n",
              "        </div>\n",
              "    </div>\n",
              "</div>"
            ]
          },
          "metadata": {},
          "execution_count": 147
        }
      ]
    },
    {
      "cell_type": "markdown",
      "source": [
        "## 4. Experiment 3: Merging DataFrames "
      ],
      "metadata": {
        "id": "lN5vhUf308EC"
      }
    },
    {
      "cell_type": "code",
      "source": [
        "df_dask_train.head(5)"
      ],
      "metadata": {
        "colab": {
          "base_uri": "https://localhost:8080/",
          "height": 206
        },
        "id": "cfhO6ujDcERK",
        "outputId": "5b7514a7-5d23-4491-d2a1-d3b013e60bbb"
      },
      "execution_count": 56,
      "outputs": [
        {
          "output_type": "execute_result",
          "data": {
            "text/plain": [
              "   label                                              image\n",
              "0      5  [[  0   0   0   0   0   0   0   0   0   0   0 ...\n",
              "1      0  [[  0   0   0   0   0   0   0   0   0   0   0 ...\n",
              "2      4  [[  0   0   0   0   0   0   0   0   0   0   0 ...\n",
              "3      1  [[  0   0   0   0   0   0   0   0   0   0   0 ...\n",
              "4      9  [[  0   0   0   0   0   0   0   0   0   0   0 ..."
            ],
            "text/html": [
              "\n",
              "  <div id=\"df-a3f258e9-fbe7-47bd-8312-fd57a7eed2a4\">\n",
              "    <div class=\"colab-df-container\">\n",
              "      <div>\n",
              "<style scoped>\n",
              "    .dataframe tbody tr th:only-of-type {\n",
              "        vertical-align: middle;\n",
              "    }\n",
              "\n",
              "    .dataframe tbody tr th {\n",
              "        vertical-align: top;\n",
              "    }\n",
              "\n",
              "    .dataframe thead th {\n",
              "        text-align: right;\n",
              "    }\n",
              "</style>\n",
              "<table border=\"1\" class=\"dataframe\">\n",
              "  <thead>\n",
              "    <tr style=\"text-align: right;\">\n",
              "      <th></th>\n",
              "      <th>label</th>\n",
              "      <th>image</th>\n",
              "    </tr>\n",
              "  </thead>\n",
              "  <tbody>\n",
              "    <tr>\n",
              "      <th>0</th>\n",
              "      <td>5</td>\n",
              "      <td>[[  0   0   0   0   0   0   0   0   0   0   0 ...</td>\n",
              "    </tr>\n",
              "    <tr>\n",
              "      <th>1</th>\n",
              "      <td>0</td>\n",
              "      <td>[[  0   0   0   0   0   0   0   0   0   0   0 ...</td>\n",
              "    </tr>\n",
              "    <tr>\n",
              "      <th>2</th>\n",
              "      <td>4</td>\n",
              "      <td>[[  0   0   0   0   0   0   0   0   0   0   0 ...</td>\n",
              "    </tr>\n",
              "    <tr>\n",
              "      <th>3</th>\n",
              "      <td>1</td>\n",
              "      <td>[[  0   0   0   0   0   0   0   0   0   0   0 ...</td>\n",
              "    </tr>\n",
              "    <tr>\n",
              "      <th>4</th>\n",
              "      <td>9</td>\n",
              "      <td>[[  0   0   0   0   0   0   0   0   0   0   0 ...</td>\n",
              "    </tr>\n",
              "  </tbody>\n",
              "</table>\n",
              "</div>\n",
              "      <button class=\"colab-df-convert\" onclick=\"convertToInteractive('df-a3f258e9-fbe7-47bd-8312-fd57a7eed2a4')\"\n",
              "              title=\"Convert this dataframe to an interactive table.\"\n",
              "              style=\"display:none;\">\n",
              "        \n",
              "  <svg xmlns=\"http://www.w3.org/2000/svg\" height=\"24px\"viewBox=\"0 0 24 24\"\n",
              "       width=\"24px\">\n",
              "    <path d=\"M0 0h24v24H0V0z\" fill=\"none\"/>\n",
              "    <path d=\"M18.56 5.44l.94 2.06.94-2.06 2.06-.94-2.06-.94-.94-2.06-.94 2.06-2.06.94zm-11 1L8.5 8.5l.94-2.06 2.06-.94-2.06-.94L8.5 2.5l-.94 2.06-2.06.94zm10 10l.94 2.06.94-2.06 2.06-.94-2.06-.94-.94-2.06-.94 2.06-2.06.94z\"/><path d=\"M17.41 7.96l-1.37-1.37c-.4-.4-.92-.59-1.43-.59-.52 0-1.04.2-1.43.59L10.3 9.45l-7.72 7.72c-.78.78-.78 2.05 0 2.83L4 21.41c.39.39.9.59 1.41.59.51 0 1.02-.2 1.41-.59l7.78-7.78 2.81-2.81c.8-.78.8-2.07 0-2.86zM5.41 20L4 18.59l7.72-7.72 1.47 1.35L5.41 20z\"/>\n",
              "  </svg>\n",
              "      </button>\n",
              "      \n",
              "  <style>\n",
              "    .colab-df-container {\n",
              "      display:flex;\n",
              "      flex-wrap:wrap;\n",
              "      gap: 12px;\n",
              "    }\n",
              "\n",
              "    .colab-df-convert {\n",
              "      background-color: #E8F0FE;\n",
              "      border: none;\n",
              "      border-radius: 50%;\n",
              "      cursor: pointer;\n",
              "      display: none;\n",
              "      fill: #1967D2;\n",
              "      height: 32px;\n",
              "      padding: 0 0 0 0;\n",
              "      width: 32px;\n",
              "    }\n",
              "\n",
              "    .colab-df-convert:hover {\n",
              "      background-color: #E2EBFA;\n",
              "      box-shadow: 0px 1px 2px rgba(60, 64, 67, 0.3), 0px 1px 3px 1px rgba(60, 64, 67, 0.15);\n",
              "      fill: #174EA6;\n",
              "    }\n",
              "\n",
              "    [theme=dark] .colab-df-convert {\n",
              "      background-color: #3B4455;\n",
              "      fill: #D2E3FC;\n",
              "    }\n",
              "\n",
              "    [theme=dark] .colab-df-convert:hover {\n",
              "      background-color: #434B5C;\n",
              "      box-shadow: 0px 1px 3px 1px rgba(0, 0, 0, 0.15);\n",
              "      filter: drop-shadow(0px 1px 2px rgba(0, 0, 0, 0.3));\n",
              "      fill: #FFFFFF;\n",
              "    }\n",
              "  </style>\n",
              "\n",
              "      <script>\n",
              "        const buttonEl =\n",
              "          document.querySelector('#df-a3f258e9-fbe7-47bd-8312-fd57a7eed2a4 button.colab-df-convert');\n",
              "        buttonEl.style.display =\n",
              "          google.colab.kernel.accessAllowed ? 'block' : 'none';\n",
              "\n",
              "        async function convertToInteractive(key) {\n",
              "          const element = document.querySelector('#df-a3f258e9-fbe7-47bd-8312-fd57a7eed2a4');\n",
              "          const dataTable =\n",
              "            await google.colab.kernel.invokeFunction('convertToInteractive',\n",
              "                                                     [key], {});\n",
              "          if (!dataTable) return;\n",
              "\n",
              "          const docLinkHtml = 'Like what you see? Visit the ' +\n",
              "            '<a target=\"_blank\" href=https://colab.research.google.com/notebooks/data_table.ipynb>data table notebook</a>'\n",
              "            + ' to learn more about interactive tables.';\n",
              "          element.innerHTML = '';\n",
              "          dataTable['output_type'] = 'display_data';\n",
              "          await google.colab.output.renderOutput(dataTable, element);\n",
              "          const docLink = document.createElement('div');\n",
              "          docLink.innerHTML = docLinkHtml;\n",
              "          element.appendChild(docLink);\n",
              "        }\n",
              "      </script>\n",
              "    </div>\n",
              "  </div>\n",
              "  "
            ]
          },
          "metadata": {},
          "execution_count": 56
        }
      ]
    },
    {
      "cell_type": "code",
      "source": [
        "dask.visualize(df_dask_train)"
      ],
      "metadata": {
        "colab": {
          "base_uri": "https://localhost:8080/",
          "height": 242
        },
        "id": "h-aMBV4LbRx7",
        "outputId": "61775013-8d4c-4157-dda7-23aad1868127"
      },
      "execution_count": 181,
      "outputs": [
        {
          "output_type": "execute_result",
          "data": {
            "image/png": "[encoded data removed]",
            "text/plain": [
              "<IPython.core.display.Image object>"
            ]
          },
          "metadata": {},
          "execution_count": 181
        }
      ]
    },
    {
      "cell_type": "code",
      "source": [
        "df_pandas_train.head(5)"
      ],
      "metadata": {
        "colab": {
          "base_uri": "https://localhost:8080/",
          "height": 206
        },
        "id": "5kHNwgUmlRpb",
        "outputId": "bb609562-3155-4b46-b96f-8558ad836f2f"
      },
      "execution_count": 57,
      "outputs": [
        {
          "output_type": "execute_result",
          "data": {
            "text/plain": [
              "   label                                              image\n",
              "0      5  [[  0   0   0   0   0   0   0   0   0   0   0 ...\n",
              "1      0  [[  0   0   0   0   0   0   0   0   0   0   0 ...\n",
              "2      4  [[  0   0   0   0   0   0   0   0   0   0   0 ...\n",
              "3      1  [[  0   0   0   0   0   0   0   0   0   0   0 ...\n",
              "4      9  [[  0   0   0   0   0   0   0   0   0   0   0 ..."
            ],
            "text/html": [
              "\n",
              "  <div id=\"df-2da1a6ef-6d63-4df0-9f79-6c732fe669f7\">\n",
              "    <div class=\"colab-df-container\">\n",
              "      <div>\n",
              "<style scoped>\n",
              "    .dataframe tbody tr th:only-of-type {\n",
              "        vertical-align: middle;\n",
              "    }\n",
              "\n",
              "    .dataframe tbody tr th {\n",
              "        vertical-align: top;\n",
              "    }\n",
              "\n",
              "    .dataframe thead th {\n",
              "        text-align: right;\n",
              "    }\n",
              "</style>\n",
              "<table border=\"1\" class=\"dataframe\">\n",
              "  <thead>\n",
              "    <tr style=\"text-align: right;\">\n",
              "      <th></th>\n",
              "      <th>label</th>\n",
              "      <th>image</th>\n",
              "    </tr>\n",
              "  </thead>\n",
              "  <tbody>\n",
              "    <tr>\n",
              "      <th>0</th>\n",
              "      <td>5</td>\n",
              "      <td>[[  0   0   0   0   0   0   0   0   0   0   0 ...</td>\n",
              "    </tr>\n",
              "    <tr>\n",
              "      <th>1</th>\n",
              "      <td>0</td>\n",
              "      <td>[[  0   0   0   0   0   0   0   0   0   0   0 ...</td>\n",
              "    </tr>\n",
              "    <tr>\n",
              "      <th>2</th>\n",
              "      <td>4</td>\n",
              "      <td>[[  0   0   0   0   0   0   0   0   0   0   0 ...</td>\n",
              "    </tr>\n",
              "    <tr>\n",
              "      <th>3</th>\n",
              "      <td>1</td>\n",
              "      <td>[[  0   0   0   0   0   0   0   0   0   0   0 ...</td>\n",
              "    </tr>\n",
              "    <tr>\n",
              "      <th>4</th>\n",
              "      <td>9</td>\n",
              "      <td>[[  0   0   0   0   0   0   0   0   0   0   0 ...</td>\n",
              "    </tr>\n",
              "  </tbody>\n",
              "</table>\n",
              "</div>\n",
              "      <button class=\"colab-df-convert\" onclick=\"convertToInteractive('df-2da1a6ef-6d63-4df0-9f79-6c732fe669f7')\"\n",
              "              title=\"Convert this dataframe to an interactive table.\"\n",
              "              style=\"display:none;\">\n",
              "        \n",
              "  <svg xmlns=\"http://www.w3.org/2000/svg\" height=\"24px\"viewBox=\"0 0 24 24\"\n",
              "       width=\"24px\">\n",
              "    <path d=\"M0 0h24v24H0V0z\" fill=\"none\"/>\n",
              "    <path d=\"M18.56 5.44l.94 2.06.94-2.06 2.06-.94-2.06-.94-.94-2.06-.94 2.06-2.06.94zm-11 1L8.5 8.5l.94-2.06 2.06-.94-2.06-.94L8.5 2.5l-.94 2.06-2.06.94zm10 10l.94 2.06.94-2.06 2.06-.94-2.06-.94-.94-2.06-.94 2.06-2.06.94z\"/><path d=\"M17.41 7.96l-1.37-1.37c-.4-.4-.92-.59-1.43-.59-.52 0-1.04.2-1.43.59L10.3 9.45l-7.72 7.72c-.78.78-.78 2.05 0 2.83L4 21.41c.39.39.9.59 1.41.59.51 0 1.02-.2 1.41-.59l7.78-7.78 2.81-2.81c.8-.78.8-2.07 0-2.86zM5.41 20L4 18.59l7.72-7.72 1.47 1.35L5.41 20z\"/>\n",
              "  </svg>\n",
              "      </button>\n",
              "      \n",
              "  <style>\n",
              "    .colab-df-container {\n",
              "      display:flex;\n",
              "      flex-wrap:wrap;\n",
              "      gap: 12px;\n",
              "    }\n",
              "\n",
              "    .colab-df-convert {\n",
              "      background-color: #E8F0FE;\n",
              "      border: none;\n",
              "      border-radius: 50%;\n",
              "      cursor: pointer;\n",
              "      display: none;\n",
              "      fill: #1967D2;\n",
              "      height: 32px;\n",
              "      padding: 0 0 0 0;\n",
              "      width: 32px;\n",
              "    }\n",
              "\n",
              "    .colab-df-convert:hover {\n",
              "      background-color: #E2EBFA;\n",
              "      box-shadow: 0px 1px 2px rgba(60, 64, 67, 0.3), 0px 1px 3px 1px rgba(60, 64, 67, 0.15);\n",
              "      fill: #174EA6;\n",
              "    }\n",
              "\n",
              "    [theme=dark] .colab-df-convert {\n",
              "      background-color: #3B4455;\n",
              "      fill: #D2E3FC;\n",
              "    }\n",
              "\n",
              "    [theme=dark] .colab-df-convert:hover {\n",
              "      background-color: #434B5C;\n",
              "      box-shadow: 0px 1px 3px 1px rgba(0, 0, 0, 0.15);\n",
              "      filter: drop-shadow(0px 1px 2px rgba(0, 0, 0, 0.3));\n",
              "      fill: #FFFFFF;\n",
              "    }\n",
              "  </style>\n",
              "\n",
              "      <script>\n",
              "        const buttonEl =\n",
              "          document.querySelector('#df-2da1a6ef-6d63-4df0-9f79-6c732fe669f7 button.colab-df-convert');\n",
              "        buttonEl.style.display =\n",
              "          google.colab.kernel.accessAllowed ? 'block' : 'none';\n",
              "\n",
              "        async function convertToInteractive(key) {\n",
              "          const element = document.querySelector('#df-2da1a6ef-6d63-4df0-9f79-6c732fe669f7');\n",
              "          const dataTable =\n",
              "            await google.colab.kernel.invokeFunction('convertToInteractive',\n",
              "                                                     [key], {});\n",
              "          if (!dataTable) return;\n",
              "\n",
              "          const docLinkHtml = 'Like what you see? Visit the ' +\n",
              "            '<a target=\"_blank\" href=https://colab.research.google.com/notebooks/data_table.ipynb>data table notebook</a>'\n",
              "            + ' to learn more about interactive tables.';\n",
              "          element.innerHTML = '';\n",
              "          dataTable['output_type'] = 'display_data';\n",
              "          await google.colab.output.renderOutput(dataTable, element);\n",
              "          const docLink = document.createElement('div');\n",
              "          docLink.innerHTML = docLinkHtml;\n",
              "          element.appendChild(docLink);\n",
              "        }\n",
              "      </script>\n",
              "    </div>\n",
              "  </div>\n",
              "  "
            ]
          },
          "metadata": {},
          "execution_count": 57
        }
      ]
    },
    {
      "cell_type": "code",
      "source": [
        "sample_size = 100\n",
        "\n",
        "temp_pandas_1 = df_pandas_train.head(sample_size)\n",
        "temp_dask_1 = df_dask_train.head(sample_size)\n",
        "\n",
        "temp_pandas_2 = df_pandas_train.tail(sample_size)\n",
        "temp_dask_2 = df_dask_train.tail(sample_size)"
      ],
      "metadata": {
        "id": "QVbx2P7LmIlY"
      },
      "execution_count": 83,
      "outputs": []
    },
    {
      "cell_type": "code",
      "source": [
        "%%timeit\n",
        "pd.merge(temp_pandas_1, temp_pandas_2)"
      ],
      "metadata": {
        "colab": {
          "base_uri": "https://localhost:8080/"
        },
        "id": "55f2pS54yn2k",
        "outputId": "fb2af723-65bf-490a-fe83-7c93fdc3882f"
      },
      "execution_count": 84,
      "outputs": [
        {
          "output_type": "stream",
          "name": "stdout",
          "text": [
            "1.82 ms ± 12.3 µs per loop (mean ± std. dev. of 7 runs, 1000 loops each)\n"
          ]
        }
      ]
    },
    {
      "cell_type": "code",
      "source": [
        "%%timeit\n",
        "dd.merge(temp_dask_1, temp_dask_2)"
      ],
      "metadata": {
        "colab": {
          "base_uri": "https://localhost:8080/"
        },
        "id": "tHLLyq6CApfe",
        "outputId": "d766f585-7df7-4162-a9dc-abd35aa58cec"
      },
      "execution_count": 176,
      "outputs": [
        {
          "output_type": "stream",
          "name": "stdout",
          "text": [
            "1.82 ms ± 34.5 µs per loop (mean ± std. dev. of 7 runs, 1000 loops each)\n"
          ]
        }
      ]
    },
    {
      "cell_type": "code",
      "source": [
        "import timeit\n",
        "import numpy as np\n",
        "\n",
        "timeit.timeit(lambda: dd.merge(temp_dask_1, temp_dask_2), number=100)"
      ],
      "metadata": {
        "colab": {
          "base_uri": "https://localhost:8080/"
        },
        "id": "LfKDZ5OvV6MZ",
        "outputId": "48667ddd-20c3-441b-9bb8-a22766e56e65"
      },
      "execution_count": 185,
      "outputs": [
        {
          "output_type": "execute_result",
          "data": {
            "text/plain": [
              "0.17958605400053784"
            ]
          },
          "metadata": {},
          "execution_count": 185
        }
      ]
    },
    {
      "cell_type": "code",
      "source": [
        "times_res = timeit.repeat(lambda: dd.merge(temp_dask_1, temp_dask_2), repeat=7, number=1000)"
      ],
      "metadata": {
        "id": "hLB8aNy2XJFm"
      },
      "execution_count": 186,
      "outputs": []
    },
    {
      "cell_type": "code",
      "source": [
        "dict(zip(['values', 'mean', 'std'], [np.array(times_res), np.array(times_res).mean(), np.array(times_res).std()*1000]))"
      ],
      "metadata": {
        "colab": {
          "base_uri": "https://localhost:8080/"
        },
        "id": "STmF07JTXS1L",
        "outputId": "4ca3f414-866f-4a1c-d773-86dae4bfb641"
      },
      "execution_count": 168,
      "outputs": [
        {
          "output_type": "execute_result",
          "data": {
            "text/plain": [
              "{'values': array([1.93993888, 1.91725548, 1.92653867, 1.90456389, 1.90934935,\n",
              "        1.93301223, 1.94945485]),\n",
              " 'mean': 1.925730477000148,\n",
              " 'std': 15.149696316878607}"
            ]
          },
          "metadata": {},
          "execution_count": 168
        }
      ]
    },
    {
      "cell_type": "markdown",
      "source": [
        "## Exercise 2:\n",
        "Explore the performance of mergin files in dask and pandas.\n",
        "1. Choose the grid for the size of the dataset \n",
        "2. Compute the time performance of the merge function for varying dataset sizes in dask\n",
        "3. Compute the time performance of the merge function for varying dataset sizes in pandas\n",
        "4. Visualise the results \n"
      ],
      "metadata": {
        "id": "f0bFTBi1VdjI"
      }
    }
  ]
}